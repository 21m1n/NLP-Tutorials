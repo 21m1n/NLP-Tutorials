{
  "nbformat": 4,
  "nbformat_minor": 0,
  "metadata": {
    "colab": {
      "provenance": [],
      "collapsed_sections": [
        "DjIhRuScP9ym"
      ],
      "toc_visible": true
    },
    "kernelspec": {
      "name": "python3",
      "display_name": "Python 3"
    },
    "language_info": {
      "name": "python"
    },
    "widgets": {
      "application/vnd.jupyter.widget-state+json": {
        "6334d8aca48146c1ba788c4a17eb892a": {
          "model_module": "@jupyter-widgets/controls",
          "model_name": "HBoxModel",
          "model_module_version": "1.5.0",
          "state": {
            "_dom_classes": [],
            "_model_module": "@jupyter-widgets/controls",
            "_model_module_version": "1.5.0",
            "_model_name": "HBoxModel",
            "_view_count": null,
            "_view_module": "@jupyter-widgets/controls",
            "_view_module_version": "1.5.0",
            "_view_name": "HBoxView",
            "box_style": "",
            "children": [
              "IPY_MODEL_14aa2a29f46d45d992e2016f74cf203d",
              "IPY_MODEL_c799dda16edc45bcb7127d8ce6752918",
              "IPY_MODEL_77b0c9a2d80148948f8040924692fc28"
            ],
            "layout": "IPY_MODEL_801d0daa26e74adbbbd40f87d14f0886"
          }
        },
        "14aa2a29f46d45d992e2016f74cf203d": {
          "model_module": "@jupyter-widgets/controls",
          "model_name": "HTMLModel",
          "model_module_version": "1.5.0",
          "state": {
            "_dom_classes": [],
            "_model_module": "@jupyter-widgets/controls",
            "_model_module_version": "1.5.0",
            "_model_name": "HTMLModel",
            "_view_count": null,
            "_view_module": "@jupyter-widgets/controls",
            "_view_module_version": "1.5.0",
            "_view_name": "HTMLView",
            "description": "",
            "description_tooltip": null,
            "layout": "IPY_MODEL_f3ad9dc3af1547308ff565ba1dae25b5",
            "placeholder": "​",
            "style": "IPY_MODEL_d6f7f7191d1b460f9e5a6226ec88a414",
            "value": "Dl Completed...: 100%"
          }
        },
        "c799dda16edc45bcb7127d8ce6752918": {
          "model_module": "@jupyter-widgets/controls",
          "model_name": "FloatProgressModel",
          "model_module_version": "1.5.0",
          "state": {
            "_dom_classes": [],
            "_model_module": "@jupyter-widgets/controls",
            "_model_module_version": "1.5.0",
            "_model_name": "FloatProgressModel",
            "_view_count": null,
            "_view_module": "@jupyter-widgets/controls",
            "_view_module_version": "1.5.0",
            "_view_name": "ProgressView",
            "bar_style": "success",
            "description": "",
            "description_tooltip": null,
            "layout": "IPY_MODEL_5f3f1e40af14465bb72c9dfec68b2dc0",
            "max": 1,
            "min": 0,
            "orientation": "horizontal",
            "style": "IPY_MODEL_0f814bd69c03433696562cf69cad564d",
            "value": 1
          }
        },
        "77b0c9a2d80148948f8040924692fc28": {
          "model_module": "@jupyter-widgets/controls",
          "model_name": "HTMLModel",
          "model_module_version": "1.5.0",
          "state": {
            "_dom_classes": [],
            "_model_module": "@jupyter-widgets/controls",
            "_model_module_version": "1.5.0",
            "_model_name": "HTMLModel",
            "_view_count": null,
            "_view_module": "@jupyter-widgets/controls",
            "_view_module_version": "1.5.0",
            "_view_name": "HTMLView",
            "description": "",
            "description_tooltip": null,
            "layout": "IPY_MODEL_f565854e474a46fd838c7eb00b3966cf",
            "placeholder": "​",
            "style": "IPY_MODEL_b0fdf9da1e02467d92d98cd0158aae84",
            "value": " 1/1 [00:00&lt;00:00,  4.41 url/s]"
          }
        },
        "801d0daa26e74adbbbd40f87d14f0886": {
          "model_module": "@jupyter-widgets/base",
          "model_name": "LayoutModel",
          "model_module_version": "1.2.0",
          "state": {
            "_model_module": "@jupyter-widgets/base",
            "_model_module_version": "1.2.0",
            "_model_name": "LayoutModel",
            "_view_count": null,
            "_view_module": "@jupyter-widgets/base",
            "_view_module_version": "1.2.0",
            "_view_name": "LayoutView",
            "align_content": null,
            "align_items": null,
            "align_self": null,
            "border": null,
            "bottom": null,
            "display": null,
            "flex": null,
            "flex_flow": null,
            "grid_area": null,
            "grid_auto_columns": null,
            "grid_auto_flow": null,
            "grid_auto_rows": null,
            "grid_column": null,
            "grid_gap": null,
            "grid_row": null,
            "grid_template_areas": null,
            "grid_template_columns": null,
            "grid_template_rows": null,
            "height": null,
            "justify_content": null,
            "justify_items": null,
            "left": null,
            "margin": null,
            "max_height": null,
            "max_width": null,
            "min_height": null,
            "min_width": null,
            "object_fit": null,
            "object_position": null,
            "order": null,
            "overflow": null,
            "overflow_x": null,
            "overflow_y": null,
            "padding": null,
            "right": null,
            "top": null,
            "visibility": null,
            "width": null
          }
        },
        "f3ad9dc3af1547308ff565ba1dae25b5": {
          "model_module": "@jupyter-widgets/base",
          "model_name": "LayoutModel",
          "model_module_version": "1.2.0",
          "state": {
            "_model_module": "@jupyter-widgets/base",
            "_model_module_version": "1.2.0",
            "_model_name": "LayoutModel",
            "_view_count": null,
            "_view_module": "@jupyter-widgets/base",
            "_view_module_version": "1.2.0",
            "_view_name": "LayoutView",
            "align_content": null,
            "align_items": null,
            "align_self": null,
            "border": null,
            "bottom": null,
            "display": null,
            "flex": null,
            "flex_flow": null,
            "grid_area": null,
            "grid_auto_columns": null,
            "grid_auto_flow": null,
            "grid_auto_rows": null,
            "grid_column": null,
            "grid_gap": null,
            "grid_row": null,
            "grid_template_areas": null,
            "grid_template_columns": null,
            "grid_template_rows": null,
            "height": null,
            "justify_content": null,
            "justify_items": null,
            "left": null,
            "margin": null,
            "max_height": null,
            "max_width": null,
            "min_height": null,
            "min_width": null,
            "object_fit": null,
            "object_position": null,
            "order": null,
            "overflow": null,
            "overflow_x": null,
            "overflow_y": null,
            "padding": null,
            "right": null,
            "top": null,
            "visibility": null,
            "width": null
          }
        },
        "d6f7f7191d1b460f9e5a6226ec88a414": {
          "model_module": "@jupyter-widgets/controls",
          "model_name": "DescriptionStyleModel",
          "model_module_version": "1.5.0",
          "state": {
            "_model_module": "@jupyter-widgets/controls",
            "_model_module_version": "1.5.0",
            "_model_name": "DescriptionStyleModel",
            "_view_count": null,
            "_view_module": "@jupyter-widgets/base",
            "_view_module_version": "1.2.0",
            "_view_name": "StyleView",
            "description_width": ""
          }
        },
        "5f3f1e40af14465bb72c9dfec68b2dc0": {
          "model_module": "@jupyter-widgets/base",
          "model_name": "LayoutModel",
          "model_module_version": "1.2.0",
          "state": {
            "_model_module": "@jupyter-widgets/base",
            "_model_module_version": "1.2.0",
            "_model_name": "LayoutModel",
            "_view_count": null,
            "_view_module": "@jupyter-widgets/base",
            "_view_module_version": "1.2.0",
            "_view_name": "LayoutView",
            "align_content": null,
            "align_items": null,
            "align_self": null,
            "border": null,
            "bottom": null,
            "display": null,
            "flex": null,
            "flex_flow": null,
            "grid_area": null,
            "grid_auto_columns": null,
            "grid_auto_flow": null,
            "grid_auto_rows": null,
            "grid_column": null,
            "grid_gap": null,
            "grid_row": null,
            "grid_template_areas": null,
            "grid_template_columns": null,
            "grid_template_rows": null,
            "height": null,
            "justify_content": null,
            "justify_items": null,
            "left": null,
            "margin": null,
            "max_height": null,
            "max_width": null,
            "min_height": null,
            "min_width": null,
            "object_fit": null,
            "object_position": null,
            "order": null,
            "overflow": null,
            "overflow_x": null,
            "overflow_y": null,
            "padding": null,
            "right": null,
            "top": null,
            "visibility": null,
            "width": "20px"
          }
        },
        "0f814bd69c03433696562cf69cad564d": {
          "model_module": "@jupyter-widgets/controls",
          "model_name": "ProgressStyleModel",
          "model_module_version": "1.5.0",
          "state": {
            "_model_module": "@jupyter-widgets/controls",
            "_model_module_version": "1.5.0",
            "_model_name": "ProgressStyleModel",
            "_view_count": null,
            "_view_module": "@jupyter-widgets/base",
            "_view_module_version": "1.2.0",
            "_view_name": "StyleView",
            "bar_color": null,
            "description_width": ""
          }
        },
        "f565854e474a46fd838c7eb00b3966cf": {
          "model_module": "@jupyter-widgets/base",
          "model_name": "LayoutModel",
          "model_module_version": "1.2.0",
          "state": {
            "_model_module": "@jupyter-widgets/base",
            "_model_module_version": "1.2.0",
            "_model_name": "LayoutModel",
            "_view_count": null,
            "_view_module": "@jupyter-widgets/base",
            "_view_module_version": "1.2.0",
            "_view_name": "LayoutView",
            "align_content": null,
            "align_items": null,
            "align_self": null,
            "border": null,
            "bottom": null,
            "display": null,
            "flex": null,
            "flex_flow": null,
            "grid_area": null,
            "grid_auto_columns": null,
            "grid_auto_flow": null,
            "grid_auto_rows": null,
            "grid_column": null,
            "grid_gap": null,
            "grid_row": null,
            "grid_template_areas": null,
            "grid_template_columns": null,
            "grid_template_rows": null,
            "height": null,
            "justify_content": null,
            "justify_items": null,
            "left": null,
            "margin": null,
            "max_height": null,
            "max_width": null,
            "min_height": null,
            "min_width": null,
            "object_fit": null,
            "object_position": null,
            "order": null,
            "overflow": null,
            "overflow_x": null,
            "overflow_y": null,
            "padding": null,
            "right": null,
            "top": null,
            "visibility": null,
            "width": null
          }
        },
        "b0fdf9da1e02467d92d98cd0158aae84": {
          "model_module": "@jupyter-widgets/controls",
          "model_name": "DescriptionStyleModel",
          "model_module_version": "1.5.0",
          "state": {
            "_model_module": "@jupyter-widgets/controls",
            "_model_module_version": "1.5.0",
            "_model_name": "DescriptionStyleModel",
            "_view_count": null,
            "_view_module": "@jupyter-widgets/base",
            "_view_module_version": "1.2.0",
            "_view_name": "StyleView",
            "description_width": ""
          }
        },
        "481d17338bb843daa9b2d2461d3633d8": {
          "model_module": "@jupyter-widgets/controls",
          "model_name": "HBoxModel",
          "model_module_version": "1.5.0",
          "state": {
            "_dom_classes": [],
            "_model_module": "@jupyter-widgets/controls",
            "_model_module_version": "1.5.0",
            "_model_name": "HBoxModel",
            "_view_count": null,
            "_view_module": "@jupyter-widgets/controls",
            "_view_module_version": "1.5.0",
            "_view_name": "HBoxView",
            "box_style": "",
            "children": [
              "IPY_MODEL_9775b38d94d048699fbd78d7fdf3716e",
              "IPY_MODEL_bd8d5dd613d842a8bd89057b33962dc7",
              "IPY_MODEL_e9679553664440adb32d053e447fb397"
            ],
            "layout": "IPY_MODEL_8df749fe4a2646d8be6f418c4e24c131"
          }
        },
        "9775b38d94d048699fbd78d7fdf3716e": {
          "model_module": "@jupyter-widgets/controls",
          "model_name": "HTMLModel",
          "model_module_version": "1.5.0",
          "state": {
            "_dom_classes": [],
            "_model_module": "@jupyter-widgets/controls",
            "_model_module_version": "1.5.0",
            "_model_name": "HTMLModel",
            "_view_count": null,
            "_view_module": "@jupyter-widgets/controls",
            "_view_module_version": "1.5.0",
            "_view_name": "HTMLView",
            "description": "",
            "description_tooltip": null,
            "layout": "IPY_MODEL_a6b4a9cca3794f3788df42d990c6079c",
            "placeholder": "​",
            "style": "IPY_MODEL_ba6708574b914fa3a53e6968bf921282",
            "value": "Dl Size...: "
          }
        },
        "bd8d5dd613d842a8bd89057b33962dc7": {
          "model_module": "@jupyter-widgets/controls",
          "model_name": "FloatProgressModel",
          "model_module_version": "1.5.0",
          "state": {
            "_dom_classes": [],
            "_model_module": "@jupyter-widgets/controls",
            "_model_module_version": "1.5.0",
            "_model_name": "FloatProgressModel",
            "_view_count": null,
            "_view_module": "@jupyter-widgets/controls",
            "_view_module_version": "1.5.0",
            "_view_name": "ProgressView",
            "bar_style": "success",
            "description": "",
            "description_tooltip": null,
            "layout": "IPY_MODEL_26b465f5523a47e7a5b768a6ebfbaa79",
            "max": 1,
            "min": 0,
            "orientation": "horizontal",
            "style": "IPY_MODEL_e4b6cc1a80a5446d98d9791b5b551a86",
            "value": 0
          }
        },
        "e9679553664440adb32d053e447fb397": {
          "model_module": "@jupyter-widgets/controls",
          "model_name": "HTMLModel",
          "model_module_version": "1.5.0",
          "state": {
            "_dom_classes": [],
            "_model_module": "@jupyter-widgets/controls",
            "_model_module_version": "1.5.0",
            "_model_name": "HTMLModel",
            "_view_count": null,
            "_view_module": "@jupyter-widgets/controls",
            "_view_module_version": "1.5.0",
            "_view_name": "HTMLView",
            "description": "",
            "description_tooltip": null,
            "layout": "IPY_MODEL_1a93a51d82cf4bbe8dd0239e19c2a4ac",
            "placeholder": "​",
            "style": "IPY_MODEL_690066af4eed4964953c7f0947b1bbaf",
            "value": " 0/0 [00:00&lt;?, ? MiB/s]"
          }
        },
        "8df749fe4a2646d8be6f418c4e24c131": {
          "model_module": "@jupyter-widgets/base",
          "model_name": "LayoutModel",
          "model_module_version": "1.2.0",
          "state": {
            "_model_module": "@jupyter-widgets/base",
            "_model_module_version": "1.2.0",
            "_model_name": "LayoutModel",
            "_view_count": null,
            "_view_module": "@jupyter-widgets/base",
            "_view_module_version": "1.2.0",
            "_view_name": "LayoutView",
            "align_content": null,
            "align_items": null,
            "align_self": null,
            "border": null,
            "bottom": null,
            "display": null,
            "flex": null,
            "flex_flow": null,
            "grid_area": null,
            "grid_auto_columns": null,
            "grid_auto_flow": null,
            "grid_auto_rows": null,
            "grid_column": null,
            "grid_gap": null,
            "grid_row": null,
            "grid_template_areas": null,
            "grid_template_columns": null,
            "grid_template_rows": null,
            "height": null,
            "justify_content": null,
            "justify_items": null,
            "left": null,
            "margin": null,
            "max_height": null,
            "max_width": null,
            "min_height": null,
            "min_width": null,
            "object_fit": null,
            "object_position": null,
            "order": null,
            "overflow": null,
            "overflow_x": null,
            "overflow_y": null,
            "padding": null,
            "right": null,
            "top": null,
            "visibility": null,
            "width": null
          }
        },
        "a6b4a9cca3794f3788df42d990c6079c": {
          "model_module": "@jupyter-widgets/base",
          "model_name": "LayoutModel",
          "model_module_version": "1.2.0",
          "state": {
            "_model_module": "@jupyter-widgets/base",
            "_model_module_version": "1.2.0",
            "_model_name": "LayoutModel",
            "_view_count": null,
            "_view_module": "@jupyter-widgets/base",
            "_view_module_version": "1.2.0",
            "_view_name": "LayoutView",
            "align_content": null,
            "align_items": null,
            "align_self": null,
            "border": null,
            "bottom": null,
            "display": null,
            "flex": null,
            "flex_flow": null,
            "grid_area": null,
            "grid_auto_columns": null,
            "grid_auto_flow": null,
            "grid_auto_rows": null,
            "grid_column": null,
            "grid_gap": null,
            "grid_row": null,
            "grid_template_areas": null,
            "grid_template_columns": null,
            "grid_template_rows": null,
            "height": null,
            "justify_content": null,
            "justify_items": null,
            "left": null,
            "margin": null,
            "max_height": null,
            "max_width": null,
            "min_height": null,
            "min_width": null,
            "object_fit": null,
            "object_position": null,
            "order": null,
            "overflow": null,
            "overflow_x": null,
            "overflow_y": null,
            "padding": null,
            "right": null,
            "top": null,
            "visibility": null,
            "width": null
          }
        },
        "ba6708574b914fa3a53e6968bf921282": {
          "model_module": "@jupyter-widgets/controls",
          "model_name": "DescriptionStyleModel",
          "model_module_version": "1.5.0",
          "state": {
            "_model_module": "@jupyter-widgets/controls",
            "_model_module_version": "1.5.0",
            "_model_name": "DescriptionStyleModel",
            "_view_count": null,
            "_view_module": "@jupyter-widgets/base",
            "_view_module_version": "1.2.0",
            "_view_name": "StyleView",
            "description_width": ""
          }
        },
        "26b465f5523a47e7a5b768a6ebfbaa79": {
          "model_module": "@jupyter-widgets/base",
          "model_name": "LayoutModel",
          "model_module_version": "1.2.0",
          "state": {
            "_model_module": "@jupyter-widgets/base",
            "_model_module_version": "1.2.0",
            "_model_name": "LayoutModel",
            "_view_count": null,
            "_view_module": "@jupyter-widgets/base",
            "_view_module_version": "1.2.0",
            "_view_name": "LayoutView",
            "align_content": null,
            "align_items": null,
            "align_self": null,
            "border": null,
            "bottom": null,
            "display": null,
            "flex": null,
            "flex_flow": null,
            "grid_area": null,
            "grid_auto_columns": null,
            "grid_auto_flow": null,
            "grid_auto_rows": null,
            "grid_column": null,
            "grid_gap": null,
            "grid_row": null,
            "grid_template_areas": null,
            "grid_template_columns": null,
            "grid_template_rows": null,
            "height": null,
            "justify_content": null,
            "justify_items": null,
            "left": null,
            "margin": null,
            "max_height": null,
            "max_width": null,
            "min_height": null,
            "min_width": null,
            "object_fit": null,
            "object_position": null,
            "order": null,
            "overflow": null,
            "overflow_x": null,
            "overflow_y": null,
            "padding": null,
            "right": null,
            "top": null,
            "visibility": null,
            "width": "20px"
          }
        },
        "e4b6cc1a80a5446d98d9791b5b551a86": {
          "model_module": "@jupyter-widgets/controls",
          "model_name": "ProgressStyleModel",
          "model_module_version": "1.5.0",
          "state": {
            "_model_module": "@jupyter-widgets/controls",
            "_model_module_version": "1.5.0",
            "_model_name": "ProgressStyleModel",
            "_view_count": null,
            "_view_module": "@jupyter-widgets/base",
            "_view_module_version": "1.2.0",
            "_view_name": "StyleView",
            "bar_color": null,
            "description_width": ""
          }
        },
        "1a93a51d82cf4bbe8dd0239e19c2a4ac": {
          "model_module": "@jupyter-widgets/base",
          "model_name": "LayoutModel",
          "model_module_version": "1.2.0",
          "state": {
            "_model_module": "@jupyter-widgets/base",
            "_model_module_version": "1.2.0",
            "_model_name": "LayoutModel",
            "_view_count": null,
            "_view_module": "@jupyter-widgets/base",
            "_view_module_version": "1.2.0",
            "_view_name": "LayoutView",
            "align_content": null,
            "align_items": null,
            "align_self": null,
            "border": null,
            "bottom": null,
            "display": null,
            "flex": null,
            "flex_flow": null,
            "grid_area": null,
            "grid_auto_columns": null,
            "grid_auto_flow": null,
            "grid_auto_rows": null,
            "grid_column": null,
            "grid_gap": null,
            "grid_row": null,
            "grid_template_areas": null,
            "grid_template_columns": null,
            "grid_template_rows": null,
            "height": null,
            "justify_content": null,
            "justify_items": null,
            "left": null,
            "margin": null,
            "max_height": null,
            "max_width": null,
            "min_height": null,
            "min_width": null,
            "object_fit": null,
            "object_position": null,
            "order": null,
            "overflow": null,
            "overflow_x": null,
            "overflow_y": null,
            "padding": null,
            "right": null,
            "top": null,
            "visibility": null,
            "width": null
          }
        },
        "690066af4eed4964953c7f0947b1bbaf": {
          "model_module": "@jupyter-widgets/controls",
          "model_name": "DescriptionStyleModel",
          "model_module_version": "1.5.0",
          "state": {
            "_model_module": "@jupyter-widgets/controls",
            "_model_module_version": "1.5.0",
            "_model_name": "DescriptionStyleModel",
            "_view_count": null,
            "_view_module": "@jupyter-widgets/base",
            "_view_module_version": "1.2.0",
            "_view_name": "StyleView",
            "description_width": ""
          }
        },
        "93b39b4d8ffd4e729ee5a8c6aec18519": {
          "model_module": "@jupyter-widgets/controls",
          "model_name": "HBoxModel",
          "model_module_version": "1.5.0",
          "state": {
            "_dom_classes": [],
            "_model_module": "@jupyter-widgets/controls",
            "_model_module_version": "1.5.0",
            "_model_name": "HBoxModel",
            "_view_count": null,
            "_view_module": "@jupyter-widgets/controls",
            "_view_module_version": "1.5.0",
            "_view_name": "HBoxView",
            "box_style": "",
            "children": [
              "IPY_MODEL_f6748bbb20514095abc2f9ae1a0bd645",
              "IPY_MODEL_87891399cc7843aa94f188a629bbdd78",
              "IPY_MODEL_f07ac9ebd3a545a5b71ed609e5b8e43b"
            ],
            "layout": "IPY_MODEL_f9a4a04c0a7d4b4fbe9c33443309f96f"
          }
        },
        "f6748bbb20514095abc2f9ae1a0bd645": {
          "model_module": "@jupyter-widgets/controls",
          "model_name": "HTMLModel",
          "model_module_version": "1.5.0",
          "state": {
            "_dom_classes": [],
            "_model_module": "@jupyter-widgets/controls",
            "_model_module_version": "1.5.0",
            "_model_name": "HTMLModel",
            "_view_count": null,
            "_view_module": "@jupyter-widgets/controls",
            "_view_module_version": "1.5.0",
            "_view_name": "HTMLView",
            "description": "",
            "description_tooltip": null,
            "layout": "IPY_MODEL_08d7e50233714bf89ccdb4bf137dbe81",
            "placeholder": "​",
            "style": "IPY_MODEL_db0c8caa7825494cb521efdab3ccc646",
            "value": "Generating splits...: 100%"
          }
        },
        "87891399cc7843aa94f188a629bbdd78": {
          "model_module": "@jupyter-widgets/controls",
          "model_name": "FloatProgressModel",
          "model_module_version": "1.5.0",
          "state": {
            "_dom_classes": [],
            "_model_module": "@jupyter-widgets/controls",
            "_model_module_version": "1.5.0",
            "_model_name": "FloatProgressModel",
            "_view_count": null,
            "_view_module": "@jupyter-widgets/controls",
            "_view_module_version": "1.5.0",
            "_view_name": "ProgressView",
            "bar_style": "",
            "description": "",
            "description_tooltip": null,
            "layout": "IPY_MODEL_fa155d37a6e04747847136193fbcaceb",
            "max": 1,
            "min": 0,
            "orientation": "horizontal",
            "style": "IPY_MODEL_03c48361fb3d4a2f813c56b301f8bed3",
            "value": 1
          }
        },
        "f07ac9ebd3a545a5b71ed609e5b8e43b": {
          "model_module": "@jupyter-widgets/controls",
          "model_name": "HTMLModel",
          "model_module_version": "1.5.0",
          "state": {
            "_dom_classes": [],
            "_model_module": "@jupyter-widgets/controls",
            "_model_module_version": "1.5.0",
            "_model_name": "HTMLModel",
            "_view_count": null,
            "_view_module": "@jupyter-widgets/controls",
            "_view_module_version": "1.5.0",
            "_view_name": "HTMLView",
            "description": "",
            "description_tooltip": null,
            "layout": "IPY_MODEL_90d816a9cb6849f596c20b6be78adbcd",
            "placeholder": "​",
            "style": "IPY_MODEL_07f40fbf7b6a4270940e5ffff890039d",
            "value": " 1/1 [00:00&lt;00:00,  3.15 splits/s]"
          }
        },
        "f9a4a04c0a7d4b4fbe9c33443309f96f": {
          "model_module": "@jupyter-widgets/base",
          "model_name": "LayoutModel",
          "model_module_version": "1.2.0",
          "state": {
            "_model_module": "@jupyter-widgets/base",
            "_model_module_version": "1.2.0",
            "_model_name": "LayoutModel",
            "_view_count": null,
            "_view_module": "@jupyter-widgets/base",
            "_view_module_version": "1.2.0",
            "_view_name": "LayoutView",
            "align_content": null,
            "align_items": null,
            "align_self": null,
            "border": null,
            "bottom": null,
            "display": null,
            "flex": null,
            "flex_flow": null,
            "grid_area": null,
            "grid_auto_columns": null,
            "grid_auto_flow": null,
            "grid_auto_rows": null,
            "grid_column": null,
            "grid_gap": null,
            "grid_row": null,
            "grid_template_areas": null,
            "grid_template_columns": null,
            "grid_template_rows": null,
            "height": null,
            "justify_content": null,
            "justify_items": null,
            "left": null,
            "margin": null,
            "max_height": null,
            "max_width": null,
            "min_height": null,
            "min_width": null,
            "object_fit": null,
            "object_position": null,
            "order": null,
            "overflow": null,
            "overflow_x": null,
            "overflow_y": null,
            "padding": null,
            "right": null,
            "top": null,
            "visibility": "hidden",
            "width": null
          }
        },
        "08d7e50233714bf89ccdb4bf137dbe81": {
          "model_module": "@jupyter-widgets/base",
          "model_name": "LayoutModel",
          "model_module_version": "1.2.0",
          "state": {
            "_model_module": "@jupyter-widgets/base",
            "_model_module_version": "1.2.0",
            "_model_name": "LayoutModel",
            "_view_count": null,
            "_view_module": "@jupyter-widgets/base",
            "_view_module_version": "1.2.0",
            "_view_name": "LayoutView",
            "align_content": null,
            "align_items": null,
            "align_self": null,
            "border": null,
            "bottom": null,
            "display": null,
            "flex": null,
            "flex_flow": null,
            "grid_area": null,
            "grid_auto_columns": null,
            "grid_auto_flow": null,
            "grid_auto_rows": null,
            "grid_column": null,
            "grid_gap": null,
            "grid_row": null,
            "grid_template_areas": null,
            "grid_template_columns": null,
            "grid_template_rows": null,
            "height": null,
            "justify_content": null,
            "justify_items": null,
            "left": null,
            "margin": null,
            "max_height": null,
            "max_width": null,
            "min_height": null,
            "min_width": null,
            "object_fit": null,
            "object_position": null,
            "order": null,
            "overflow": null,
            "overflow_x": null,
            "overflow_y": null,
            "padding": null,
            "right": null,
            "top": null,
            "visibility": null,
            "width": null
          }
        },
        "db0c8caa7825494cb521efdab3ccc646": {
          "model_module": "@jupyter-widgets/controls",
          "model_name": "DescriptionStyleModel",
          "model_module_version": "1.5.0",
          "state": {
            "_model_module": "@jupyter-widgets/controls",
            "_model_module_version": "1.5.0",
            "_model_name": "DescriptionStyleModel",
            "_view_count": null,
            "_view_module": "@jupyter-widgets/base",
            "_view_module_version": "1.2.0",
            "_view_name": "StyleView",
            "description_width": ""
          }
        },
        "fa155d37a6e04747847136193fbcaceb": {
          "model_module": "@jupyter-widgets/base",
          "model_name": "LayoutModel",
          "model_module_version": "1.2.0",
          "state": {
            "_model_module": "@jupyter-widgets/base",
            "_model_module_version": "1.2.0",
            "_model_name": "LayoutModel",
            "_view_count": null,
            "_view_module": "@jupyter-widgets/base",
            "_view_module_version": "1.2.0",
            "_view_name": "LayoutView",
            "align_content": null,
            "align_items": null,
            "align_self": null,
            "border": null,
            "bottom": null,
            "display": null,
            "flex": null,
            "flex_flow": null,
            "grid_area": null,
            "grid_auto_columns": null,
            "grid_auto_flow": null,
            "grid_auto_rows": null,
            "grid_column": null,
            "grid_gap": null,
            "grid_row": null,
            "grid_template_areas": null,
            "grid_template_columns": null,
            "grid_template_rows": null,
            "height": null,
            "justify_content": null,
            "justify_items": null,
            "left": null,
            "margin": null,
            "max_height": null,
            "max_width": null,
            "min_height": null,
            "min_width": null,
            "object_fit": null,
            "object_position": null,
            "order": null,
            "overflow": null,
            "overflow_x": null,
            "overflow_y": null,
            "padding": null,
            "right": null,
            "top": null,
            "visibility": null,
            "width": null
          }
        },
        "03c48361fb3d4a2f813c56b301f8bed3": {
          "model_module": "@jupyter-widgets/controls",
          "model_name": "ProgressStyleModel",
          "model_module_version": "1.5.0",
          "state": {
            "_model_module": "@jupyter-widgets/controls",
            "_model_module_version": "1.5.0",
            "_model_name": "ProgressStyleModel",
            "_view_count": null,
            "_view_module": "@jupyter-widgets/base",
            "_view_module_version": "1.2.0",
            "_view_name": "StyleView",
            "bar_color": null,
            "description_width": ""
          }
        },
        "90d816a9cb6849f596c20b6be78adbcd": {
          "model_module": "@jupyter-widgets/base",
          "model_name": "LayoutModel",
          "model_module_version": "1.2.0",
          "state": {
            "_model_module": "@jupyter-widgets/base",
            "_model_module_version": "1.2.0",
            "_model_name": "LayoutModel",
            "_view_count": null,
            "_view_module": "@jupyter-widgets/base",
            "_view_module_version": "1.2.0",
            "_view_name": "LayoutView",
            "align_content": null,
            "align_items": null,
            "align_self": null,
            "border": null,
            "bottom": null,
            "display": null,
            "flex": null,
            "flex_flow": null,
            "grid_area": null,
            "grid_auto_columns": null,
            "grid_auto_flow": null,
            "grid_auto_rows": null,
            "grid_column": null,
            "grid_gap": null,
            "grid_row": null,
            "grid_template_areas": null,
            "grid_template_columns": null,
            "grid_template_rows": null,
            "height": null,
            "justify_content": null,
            "justify_items": null,
            "left": null,
            "margin": null,
            "max_height": null,
            "max_width": null,
            "min_height": null,
            "min_width": null,
            "object_fit": null,
            "object_position": null,
            "order": null,
            "overflow": null,
            "overflow_x": null,
            "overflow_y": null,
            "padding": null,
            "right": null,
            "top": null,
            "visibility": null,
            "width": null
          }
        },
        "07f40fbf7b6a4270940e5ffff890039d": {
          "model_module": "@jupyter-widgets/controls",
          "model_name": "DescriptionStyleModel",
          "model_module_version": "1.5.0",
          "state": {
            "_model_module": "@jupyter-widgets/controls",
            "_model_module_version": "1.5.0",
            "_model_name": "DescriptionStyleModel",
            "_view_count": null,
            "_view_module": "@jupyter-widgets/base",
            "_view_module_version": "1.2.0",
            "_view_name": "StyleView",
            "description_width": ""
          }
        },
        "6971820cee8449c0adc6627d3094526a": {
          "model_module": "@jupyter-widgets/controls",
          "model_name": "HBoxModel",
          "model_module_version": "1.5.0",
          "state": {
            "_dom_classes": [],
            "_model_module": "@jupyter-widgets/controls",
            "_model_module_version": "1.5.0",
            "_model_name": "HBoxModel",
            "_view_count": null,
            "_view_module": "@jupyter-widgets/controls",
            "_view_module_version": "1.5.0",
            "_view_name": "HBoxView",
            "box_style": "",
            "children": [
              "IPY_MODEL_f7773450a11940b0a4c22ca96a8f45bc",
              "IPY_MODEL_7b11024573dd4518b489426fec7296d5",
              "IPY_MODEL_088d05cda2404af6a5d7db85f79a03a1"
            ],
            "layout": "IPY_MODEL_c0d33100c2144a67908b038c71cd97b8"
          }
        },
        "f7773450a11940b0a4c22ca96a8f45bc": {
          "model_module": "@jupyter-widgets/controls",
          "model_name": "HTMLModel",
          "model_module_version": "1.5.0",
          "state": {
            "_dom_classes": [],
            "_model_module": "@jupyter-widgets/controls",
            "_model_module_version": "1.5.0",
            "_model_name": "HTMLModel",
            "_view_count": null,
            "_view_module": "@jupyter-widgets/controls",
            "_view_module_version": "1.5.0",
            "_view_name": "HTMLView",
            "description": "",
            "description_tooltip": null,
            "layout": "IPY_MODEL_c56802cda8024fbb9ca93a1fc3e85534",
            "placeholder": "​",
            "style": "IPY_MODEL_4813685d51284ea4918dddbd8f560c39",
            "value": "Generating train examples...:  33%"
          }
        },
        "7b11024573dd4518b489426fec7296d5": {
          "model_module": "@jupyter-widgets/controls",
          "model_name": "FloatProgressModel",
          "model_module_version": "1.5.0",
          "state": {
            "_dom_classes": [],
            "_model_module": "@jupyter-widgets/controls",
            "_model_module_version": "1.5.0",
            "_model_name": "FloatProgressModel",
            "_view_count": null,
            "_view_module": "@jupyter-widgets/controls",
            "_view_module_version": "1.5.0",
            "_view_name": "ProgressView",
            "bar_style": "",
            "description": "",
            "description_tooltip": null,
            "layout": "IPY_MODEL_a4d43c0652c043ab8a7ab50029cde17d",
            "max": 344,
            "min": 0,
            "orientation": "horizontal",
            "style": "IPY_MODEL_4c36bd7d184b4b7fa7bfe1f9158a8f50",
            "value": 344
          }
        },
        "088d05cda2404af6a5d7db85f79a03a1": {
          "model_module": "@jupyter-widgets/controls",
          "model_name": "HTMLModel",
          "model_module_version": "1.5.0",
          "state": {
            "_dom_classes": [],
            "_model_module": "@jupyter-widgets/controls",
            "_model_module_version": "1.5.0",
            "_model_name": "HTMLModel",
            "_view_count": null,
            "_view_module": "@jupyter-widgets/controls",
            "_view_module_version": "1.5.0",
            "_view_name": "HTMLView",
            "description": "",
            "description_tooltip": null,
            "layout": "IPY_MODEL_26d915e9d83543e7b8b7ba60713e3665",
            "placeholder": "​",
            "style": "IPY_MODEL_3308645c4b484927b069e9425e31aa68",
            "value": " 113/344 [00:00&lt;00:00, 1128.45 examples/s]"
          }
        },
        "c0d33100c2144a67908b038c71cd97b8": {
          "model_module": "@jupyter-widgets/base",
          "model_name": "LayoutModel",
          "model_module_version": "1.2.0",
          "state": {
            "_model_module": "@jupyter-widgets/base",
            "_model_module_version": "1.2.0",
            "_model_name": "LayoutModel",
            "_view_count": null,
            "_view_module": "@jupyter-widgets/base",
            "_view_module_version": "1.2.0",
            "_view_name": "LayoutView",
            "align_content": null,
            "align_items": null,
            "align_self": null,
            "border": null,
            "bottom": null,
            "display": null,
            "flex": null,
            "flex_flow": null,
            "grid_area": null,
            "grid_auto_columns": null,
            "grid_auto_flow": null,
            "grid_auto_rows": null,
            "grid_column": null,
            "grid_gap": null,
            "grid_row": null,
            "grid_template_areas": null,
            "grid_template_columns": null,
            "grid_template_rows": null,
            "height": null,
            "justify_content": null,
            "justify_items": null,
            "left": null,
            "margin": null,
            "max_height": null,
            "max_width": null,
            "min_height": null,
            "min_width": null,
            "object_fit": null,
            "object_position": null,
            "order": null,
            "overflow": null,
            "overflow_x": null,
            "overflow_y": null,
            "padding": null,
            "right": null,
            "top": null,
            "visibility": "hidden",
            "width": null
          }
        },
        "c56802cda8024fbb9ca93a1fc3e85534": {
          "model_module": "@jupyter-widgets/base",
          "model_name": "LayoutModel",
          "model_module_version": "1.2.0",
          "state": {
            "_model_module": "@jupyter-widgets/base",
            "_model_module_version": "1.2.0",
            "_model_name": "LayoutModel",
            "_view_count": null,
            "_view_module": "@jupyter-widgets/base",
            "_view_module_version": "1.2.0",
            "_view_name": "LayoutView",
            "align_content": null,
            "align_items": null,
            "align_self": null,
            "border": null,
            "bottom": null,
            "display": null,
            "flex": null,
            "flex_flow": null,
            "grid_area": null,
            "grid_auto_columns": null,
            "grid_auto_flow": null,
            "grid_auto_rows": null,
            "grid_column": null,
            "grid_gap": null,
            "grid_row": null,
            "grid_template_areas": null,
            "grid_template_columns": null,
            "grid_template_rows": null,
            "height": null,
            "justify_content": null,
            "justify_items": null,
            "left": null,
            "margin": null,
            "max_height": null,
            "max_width": null,
            "min_height": null,
            "min_width": null,
            "object_fit": null,
            "object_position": null,
            "order": null,
            "overflow": null,
            "overflow_x": null,
            "overflow_y": null,
            "padding": null,
            "right": null,
            "top": null,
            "visibility": null,
            "width": null
          }
        },
        "4813685d51284ea4918dddbd8f560c39": {
          "model_module": "@jupyter-widgets/controls",
          "model_name": "DescriptionStyleModel",
          "model_module_version": "1.5.0",
          "state": {
            "_model_module": "@jupyter-widgets/controls",
            "_model_module_version": "1.5.0",
            "_model_name": "DescriptionStyleModel",
            "_view_count": null,
            "_view_module": "@jupyter-widgets/base",
            "_view_module_version": "1.2.0",
            "_view_name": "StyleView",
            "description_width": ""
          }
        },
        "a4d43c0652c043ab8a7ab50029cde17d": {
          "model_module": "@jupyter-widgets/base",
          "model_name": "LayoutModel",
          "model_module_version": "1.2.0",
          "state": {
            "_model_module": "@jupyter-widgets/base",
            "_model_module_version": "1.2.0",
            "_model_name": "LayoutModel",
            "_view_count": null,
            "_view_module": "@jupyter-widgets/base",
            "_view_module_version": "1.2.0",
            "_view_name": "LayoutView",
            "align_content": null,
            "align_items": null,
            "align_self": null,
            "border": null,
            "bottom": null,
            "display": null,
            "flex": null,
            "flex_flow": null,
            "grid_area": null,
            "grid_auto_columns": null,
            "grid_auto_flow": null,
            "grid_auto_rows": null,
            "grid_column": null,
            "grid_gap": null,
            "grid_row": null,
            "grid_template_areas": null,
            "grid_template_columns": null,
            "grid_template_rows": null,
            "height": null,
            "justify_content": null,
            "justify_items": null,
            "left": null,
            "margin": null,
            "max_height": null,
            "max_width": null,
            "min_height": null,
            "min_width": null,
            "object_fit": null,
            "object_position": null,
            "order": null,
            "overflow": null,
            "overflow_x": null,
            "overflow_y": null,
            "padding": null,
            "right": null,
            "top": null,
            "visibility": null,
            "width": null
          }
        },
        "4c36bd7d184b4b7fa7bfe1f9158a8f50": {
          "model_module": "@jupyter-widgets/controls",
          "model_name": "ProgressStyleModel",
          "model_module_version": "1.5.0",
          "state": {
            "_model_module": "@jupyter-widgets/controls",
            "_model_module_version": "1.5.0",
            "_model_name": "ProgressStyleModel",
            "_view_count": null,
            "_view_module": "@jupyter-widgets/base",
            "_view_module_version": "1.2.0",
            "_view_name": "StyleView",
            "bar_color": null,
            "description_width": ""
          }
        },
        "26d915e9d83543e7b8b7ba60713e3665": {
          "model_module": "@jupyter-widgets/base",
          "model_name": "LayoutModel",
          "model_module_version": "1.2.0",
          "state": {
            "_model_module": "@jupyter-widgets/base",
            "_model_module_version": "1.2.0",
            "_model_name": "LayoutModel",
            "_view_count": null,
            "_view_module": "@jupyter-widgets/base",
            "_view_module_version": "1.2.0",
            "_view_name": "LayoutView",
            "align_content": null,
            "align_items": null,
            "align_self": null,
            "border": null,
            "bottom": null,
            "display": null,
            "flex": null,
            "flex_flow": null,
            "grid_area": null,
            "grid_auto_columns": null,
            "grid_auto_flow": null,
            "grid_auto_rows": null,
            "grid_column": null,
            "grid_gap": null,
            "grid_row": null,
            "grid_template_areas": null,
            "grid_template_columns": null,
            "grid_template_rows": null,
            "height": null,
            "justify_content": null,
            "justify_items": null,
            "left": null,
            "margin": null,
            "max_height": null,
            "max_width": null,
            "min_height": null,
            "min_width": null,
            "object_fit": null,
            "object_position": null,
            "order": null,
            "overflow": null,
            "overflow_x": null,
            "overflow_y": null,
            "padding": null,
            "right": null,
            "top": null,
            "visibility": null,
            "width": null
          }
        },
        "3308645c4b484927b069e9425e31aa68": {
          "model_module": "@jupyter-widgets/controls",
          "model_name": "DescriptionStyleModel",
          "model_module_version": "1.5.0",
          "state": {
            "_model_module": "@jupyter-widgets/controls",
            "_model_module_version": "1.5.0",
            "_model_name": "DescriptionStyleModel",
            "_view_count": null,
            "_view_module": "@jupyter-widgets/base",
            "_view_module_version": "1.2.0",
            "_view_name": "StyleView",
            "description_width": ""
          }
        },
        "a30d3e60531144b18b756b270026d0ac": {
          "model_module": "@jupyter-widgets/controls",
          "model_name": "HBoxModel",
          "model_module_version": "1.5.0",
          "state": {
            "_dom_classes": [],
            "_model_module": "@jupyter-widgets/controls",
            "_model_module_version": "1.5.0",
            "_model_name": "HBoxModel",
            "_view_count": null,
            "_view_module": "@jupyter-widgets/controls",
            "_view_module_version": "1.5.0",
            "_view_name": "HBoxView",
            "box_style": "",
            "children": [
              "IPY_MODEL_598295107b7e4907af7f53c9b0f54ab5",
              "IPY_MODEL_5bb858437c994363b74f5b0a8ae7d55f",
              "IPY_MODEL_eb2226bcda3a4baabbc4178c99462ff1"
            ],
            "layout": "IPY_MODEL_33a76a9091db4a85862081476d77d1cb"
          }
        },
        "598295107b7e4907af7f53c9b0f54ab5": {
          "model_module": "@jupyter-widgets/controls",
          "model_name": "HTMLModel",
          "model_module_version": "1.5.0",
          "state": {
            "_dom_classes": [],
            "_model_module": "@jupyter-widgets/controls",
            "_model_module_version": "1.5.0",
            "_model_name": "HTMLModel",
            "_view_count": null,
            "_view_module": "@jupyter-widgets/controls",
            "_view_module_version": "1.5.0",
            "_view_name": "HTMLView",
            "description": "",
            "description_tooltip": null,
            "layout": "IPY_MODEL_5f43d250f4754f08ada95ed4472a0cc9",
            "placeholder": "​",
            "style": "IPY_MODEL_ce28f241d3664249b8b878c368f43b1c",
            "value": "Shuffling /root/tensorflow_datasets/penguins/simple/1.0.0.incompleteVF0IH6/penguins-train.tfrecord*...:   0%"
          }
        },
        "5bb858437c994363b74f5b0a8ae7d55f": {
          "model_module": "@jupyter-widgets/controls",
          "model_name": "FloatProgressModel",
          "model_module_version": "1.5.0",
          "state": {
            "_dom_classes": [],
            "_model_module": "@jupyter-widgets/controls",
            "_model_module_version": "1.5.0",
            "_model_name": "FloatProgressModel",
            "_view_count": null,
            "_view_module": "@jupyter-widgets/controls",
            "_view_module_version": "1.5.0",
            "_view_name": "ProgressView",
            "bar_style": "",
            "description": "",
            "description_tooltip": null,
            "layout": "IPY_MODEL_255ea3a79a774443903e8afafbe3c62d",
            "max": 344,
            "min": 0,
            "orientation": "horizontal",
            "style": "IPY_MODEL_191a43a73fbb4b52b90deea09b5062ec",
            "value": 344
          }
        },
        "eb2226bcda3a4baabbc4178c99462ff1": {
          "model_module": "@jupyter-widgets/controls",
          "model_name": "HTMLModel",
          "model_module_version": "1.5.0",
          "state": {
            "_dom_classes": [],
            "_model_module": "@jupyter-widgets/controls",
            "_model_module_version": "1.5.0",
            "_model_name": "HTMLModel",
            "_view_count": null,
            "_view_module": "@jupyter-widgets/controls",
            "_view_module_version": "1.5.0",
            "_view_name": "HTMLView",
            "description": "",
            "description_tooltip": null,
            "layout": "IPY_MODEL_eb4e615158ac42b9a1aefc5a185af1b6",
            "placeholder": "​",
            "style": "IPY_MODEL_741abb241ab74cc2a064ad3f16bf3311",
            "value": " 0/344 [00:00&lt;?, ? examples/s]"
          }
        },
        "33a76a9091db4a85862081476d77d1cb": {
          "model_module": "@jupyter-widgets/base",
          "model_name": "LayoutModel",
          "model_module_version": "1.2.0",
          "state": {
            "_model_module": "@jupyter-widgets/base",
            "_model_module_version": "1.2.0",
            "_model_name": "LayoutModel",
            "_view_count": null,
            "_view_module": "@jupyter-widgets/base",
            "_view_module_version": "1.2.0",
            "_view_name": "LayoutView",
            "align_content": null,
            "align_items": null,
            "align_self": null,
            "border": null,
            "bottom": null,
            "display": null,
            "flex": null,
            "flex_flow": null,
            "grid_area": null,
            "grid_auto_columns": null,
            "grid_auto_flow": null,
            "grid_auto_rows": null,
            "grid_column": null,
            "grid_gap": null,
            "grid_row": null,
            "grid_template_areas": null,
            "grid_template_columns": null,
            "grid_template_rows": null,
            "height": null,
            "justify_content": null,
            "justify_items": null,
            "left": null,
            "margin": null,
            "max_height": null,
            "max_width": null,
            "min_height": null,
            "min_width": null,
            "object_fit": null,
            "object_position": null,
            "order": null,
            "overflow": null,
            "overflow_x": null,
            "overflow_y": null,
            "padding": null,
            "right": null,
            "top": null,
            "visibility": "hidden",
            "width": null
          }
        },
        "5f43d250f4754f08ada95ed4472a0cc9": {
          "model_module": "@jupyter-widgets/base",
          "model_name": "LayoutModel",
          "model_module_version": "1.2.0",
          "state": {
            "_model_module": "@jupyter-widgets/base",
            "_model_module_version": "1.2.0",
            "_model_name": "LayoutModel",
            "_view_count": null,
            "_view_module": "@jupyter-widgets/base",
            "_view_module_version": "1.2.0",
            "_view_name": "LayoutView",
            "align_content": null,
            "align_items": null,
            "align_self": null,
            "border": null,
            "bottom": null,
            "display": null,
            "flex": null,
            "flex_flow": null,
            "grid_area": null,
            "grid_auto_columns": null,
            "grid_auto_flow": null,
            "grid_auto_rows": null,
            "grid_column": null,
            "grid_gap": null,
            "grid_row": null,
            "grid_template_areas": null,
            "grid_template_columns": null,
            "grid_template_rows": null,
            "height": null,
            "justify_content": null,
            "justify_items": null,
            "left": null,
            "margin": null,
            "max_height": null,
            "max_width": null,
            "min_height": null,
            "min_width": null,
            "object_fit": null,
            "object_position": null,
            "order": null,
            "overflow": null,
            "overflow_x": null,
            "overflow_y": null,
            "padding": null,
            "right": null,
            "top": null,
            "visibility": null,
            "width": null
          }
        },
        "ce28f241d3664249b8b878c368f43b1c": {
          "model_module": "@jupyter-widgets/controls",
          "model_name": "DescriptionStyleModel",
          "model_module_version": "1.5.0",
          "state": {
            "_model_module": "@jupyter-widgets/controls",
            "_model_module_version": "1.5.0",
            "_model_name": "DescriptionStyleModel",
            "_view_count": null,
            "_view_module": "@jupyter-widgets/base",
            "_view_module_version": "1.2.0",
            "_view_name": "StyleView",
            "description_width": ""
          }
        },
        "255ea3a79a774443903e8afafbe3c62d": {
          "model_module": "@jupyter-widgets/base",
          "model_name": "LayoutModel",
          "model_module_version": "1.2.0",
          "state": {
            "_model_module": "@jupyter-widgets/base",
            "_model_module_version": "1.2.0",
            "_model_name": "LayoutModel",
            "_view_count": null,
            "_view_module": "@jupyter-widgets/base",
            "_view_module_version": "1.2.0",
            "_view_name": "LayoutView",
            "align_content": null,
            "align_items": null,
            "align_self": null,
            "border": null,
            "bottom": null,
            "display": null,
            "flex": null,
            "flex_flow": null,
            "grid_area": null,
            "grid_auto_columns": null,
            "grid_auto_flow": null,
            "grid_auto_rows": null,
            "grid_column": null,
            "grid_gap": null,
            "grid_row": null,
            "grid_template_areas": null,
            "grid_template_columns": null,
            "grid_template_rows": null,
            "height": null,
            "justify_content": null,
            "justify_items": null,
            "left": null,
            "margin": null,
            "max_height": null,
            "max_width": null,
            "min_height": null,
            "min_width": null,
            "object_fit": null,
            "object_position": null,
            "order": null,
            "overflow": null,
            "overflow_x": null,
            "overflow_y": null,
            "padding": null,
            "right": null,
            "top": null,
            "visibility": null,
            "width": null
          }
        },
        "191a43a73fbb4b52b90deea09b5062ec": {
          "model_module": "@jupyter-widgets/controls",
          "model_name": "ProgressStyleModel",
          "model_module_version": "1.5.0",
          "state": {
            "_model_module": "@jupyter-widgets/controls",
            "_model_module_version": "1.5.0",
            "_model_name": "ProgressStyleModel",
            "_view_count": null,
            "_view_module": "@jupyter-widgets/base",
            "_view_module_version": "1.2.0",
            "_view_name": "StyleView",
            "bar_color": null,
            "description_width": ""
          }
        },
        "eb4e615158ac42b9a1aefc5a185af1b6": {
          "model_module": "@jupyter-widgets/base",
          "model_name": "LayoutModel",
          "model_module_version": "1.2.0",
          "state": {
            "_model_module": "@jupyter-widgets/base",
            "_model_module_version": "1.2.0",
            "_model_name": "LayoutModel",
            "_view_count": null,
            "_view_module": "@jupyter-widgets/base",
            "_view_module_version": "1.2.0",
            "_view_name": "LayoutView",
            "align_content": null,
            "align_items": null,
            "align_self": null,
            "border": null,
            "bottom": null,
            "display": null,
            "flex": null,
            "flex_flow": null,
            "grid_area": null,
            "grid_auto_columns": null,
            "grid_auto_flow": null,
            "grid_auto_rows": null,
            "grid_column": null,
            "grid_gap": null,
            "grid_row": null,
            "grid_template_areas": null,
            "grid_template_columns": null,
            "grid_template_rows": null,
            "height": null,
            "justify_content": null,
            "justify_items": null,
            "left": null,
            "margin": null,
            "max_height": null,
            "max_width": null,
            "min_height": null,
            "min_width": null,
            "object_fit": null,
            "object_position": null,
            "order": null,
            "overflow": null,
            "overflow_x": null,
            "overflow_y": null,
            "padding": null,
            "right": null,
            "top": null,
            "visibility": null,
            "width": null
          }
        },
        "741abb241ab74cc2a064ad3f16bf3311": {
          "model_module": "@jupyter-widgets/controls",
          "model_name": "DescriptionStyleModel",
          "model_module_version": "1.5.0",
          "state": {
            "_model_module": "@jupyter-widgets/controls",
            "_model_module_version": "1.5.0",
            "_model_name": "DescriptionStyleModel",
            "_view_count": null,
            "_view_module": "@jupyter-widgets/base",
            "_view_module_version": "1.2.0",
            "_view_name": "StyleView",
            "description_width": ""
          }
        },
        "ef679f54907741b6afb4eb28b317ccf6": {
          "model_module": "@jupyter-widgets/controls",
          "model_name": "HBoxModel",
          "model_module_version": "1.5.0",
          "state": {
            "_dom_classes": [],
            "_model_module": "@jupyter-widgets/controls",
            "_model_module_version": "1.5.0",
            "_model_name": "HBoxModel",
            "_view_count": null,
            "_view_module": "@jupyter-widgets/controls",
            "_view_module_version": "1.5.0",
            "_view_name": "HBoxView",
            "box_style": "",
            "children": [
              "IPY_MODEL_9fe5468cc64a4c8499f4121aa03e3384",
              "IPY_MODEL_6d40d25ddedb4cc8936ee12c55d96cf7",
              "IPY_MODEL_889546d21b344d04bd8847aa0b7cc350"
            ],
            "layout": "IPY_MODEL_691bd4e700294812821730da56c152e8"
          }
        },
        "9fe5468cc64a4c8499f4121aa03e3384": {
          "model_module": "@jupyter-widgets/controls",
          "model_name": "HTMLModel",
          "model_module_version": "1.5.0",
          "state": {
            "_dom_classes": [],
            "_model_module": "@jupyter-widgets/controls",
            "_model_module_version": "1.5.0",
            "_model_name": "HTMLModel",
            "_view_count": null,
            "_view_module": "@jupyter-widgets/controls",
            "_view_module_version": "1.5.0",
            "_view_name": "HTMLView",
            "description": "",
            "description_tooltip": null,
            "layout": "IPY_MODEL_ab004c27ce65451ea320e0855f17d2b6",
            "placeholder": "​",
            "style": "IPY_MODEL_5fe3c7c8aeaf4377bfe87121006d207b",
            "value": "Dl Completed...: 100%"
          }
        },
        "6d40d25ddedb4cc8936ee12c55d96cf7": {
          "model_module": "@jupyter-widgets/controls",
          "model_name": "FloatProgressModel",
          "model_module_version": "1.5.0",
          "state": {
            "_dom_classes": [],
            "_model_module": "@jupyter-widgets/controls",
            "_model_module_version": "1.5.0",
            "_model_name": "FloatProgressModel",
            "_view_count": null,
            "_view_module": "@jupyter-widgets/controls",
            "_view_module_version": "1.5.0",
            "_view_name": "ProgressView",
            "bar_style": "success",
            "description": "",
            "description_tooltip": null,
            "layout": "IPY_MODEL_fd789e03e55e4e2dad49b566d8317dc1",
            "max": 1,
            "min": 0,
            "orientation": "horizontal",
            "style": "IPY_MODEL_9339ce201a1e4ec7a64cdc8d5d4723f9",
            "value": 1
          }
        },
        "889546d21b344d04bd8847aa0b7cc350": {
          "model_module": "@jupyter-widgets/controls",
          "model_name": "HTMLModel",
          "model_module_version": "1.5.0",
          "state": {
            "_dom_classes": [],
            "_model_module": "@jupyter-widgets/controls",
            "_model_module_version": "1.5.0",
            "_model_name": "HTMLModel",
            "_view_count": null,
            "_view_module": "@jupyter-widgets/controls",
            "_view_module_version": "1.5.0",
            "_view_name": "HTMLView",
            "description": "",
            "description_tooltip": null,
            "layout": "IPY_MODEL_701783aa8dff4a919f94d81b7d9eefce",
            "placeholder": "​",
            "style": "IPY_MODEL_1eb0ac8797d949cf8e31aaaca71dba1f",
            "value": " 1/1 [00:00&lt;00:00,  3.90 url/s]"
          }
        },
        "691bd4e700294812821730da56c152e8": {
          "model_module": "@jupyter-widgets/base",
          "model_name": "LayoutModel",
          "model_module_version": "1.2.0",
          "state": {
            "_model_module": "@jupyter-widgets/base",
            "_model_module_version": "1.2.0",
            "_model_name": "LayoutModel",
            "_view_count": null,
            "_view_module": "@jupyter-widgets/base",
            "_view_module_version": "1.2.0",
            "_view_name": "LayoutView",
            "align_content": null,
            "align_items": null,
            "align_self": null,
            "border": null,
            "bottom": null,
            "display": null,
            "flex": null,
            "flex_flow": null,
            "grid_area": null,
            "grid_auto_columns": null,
            "grid_auto_flow": null,
            "grid_auto_rows": null,
            "grid_column": null,
            "grid_gap": null,
            "grid_row": null,
            "grid_template_areas": null,
            "grid_template_columns": null,
            "grid_template_rows": null,
            "height": null,
            "justify_content": null,
            "justify_items": null,
            "left": null,
            "margin": null,
            "max_height": null,
            "max_width": null,
            "min_height": null,
            "min_width": null,
            "object_fit": null,
            "object_position": null,
            "order": null,
            "overflow": null,
            "overflow_x": null,
            "overflow_y": null,
            "padding": null,
            "right": null,
            "top": null,
            "visibility": null,
            "width": null
          }
        },
        "ab004c27ce65451ea320e0855f17d2b6": {
          "model_module": "@jupyter-widgets/base",
          "model_name": "LayoutModel",
          "model_module_version": "1.2.0",
          "state": {
            "_model_module": "@jupyter-widgets/base",
            "_model_module_version": "1.2.0",
            "_model_name": "LayoutModel",
            "_view_count": null,
            "_view_module": "@jupyter-widgets/base",
            "_view_module_version": "1.2.0",
            "_view_name": "LayoutView",
            "align_content": null,
            "align_items": null,
            "align_self": null,
            "border": null,
            "bottom": null,
            "display": null,
            "flex": null,
            "flex_flow": null,
            "grid_area": null,
            "grid_auto_columns": null,
            "grid_auto_flow": null,
            "grid_auto_rows": null,
            "grid_column": null,
            "grid_gap": null,
            "grid_row": null,
            "grid_template_areas": null,
            "grid_template_columns": null,
            "grid_template_rows": null,
            "height": null,
            "justify_content": null,
            "justify_items": null,
            "left": null,
            "margin": null,
            "max_height": null,
            "max_width": null,
            "min_height": null,
            "min_width": null,
            "object_fit": null,
            "object_position": null,
            "order": null,
            "overflow": null,
            "overflow_x": null,
            "overflow_y": null,
            "padding": null,
            "right": null,
            "top": null,
            "visibility": null,
            "width": null
          }
        },
        "5fe3c7c8aeaf4377bfe87121006d207b": {
          "model_module": "@jupyter-widgets/controls",
          "model_name": "DescriptionStyleModel",
          "model_module_version": "1.5.0",
          "state": {
            "_model_module": "@jupyter-widgets/controls",
            "_model_module_version": "1.5.0",
            "_model_name": "DescriptionStyleModel",
            "_view_count": null,
            "_view_module": "@jupyter-widgets/base",
            "_view_module_version": "1.2.0",
            "_view_name": "StyleView",
            "description_width": ""
          }
        },
        "fd789e03e55e4e2dad49b566d8317dc1": {
          "model_module": "@jupyter-widgets/base",
          "model_name": "LayoutModel",
          "model_module_version": "1.2.0",
          "state": {
            "_model_module": "@jupyter-widgets/base",
            "_model_module_version": "1.2.0",
            "_model_name": "LayoutModel",
            "_view_count": null,
            "_view_module": "@jupyter-widgets/base",
            "_view_module_version": "1.2.0",
            "_view_name": "LayoutView",
            "align_content": null,
            "align_items": null,
            "align_self": null,
            "border": null,
            "bottom": null,
            "display": null,
            "flex": null,
            "flex_flow": null,
            "grid_area": null,
            "grid_auto_columns": null,
            "grid_auto_flow": null,
            "grid_auto_rows": null,
            "grid_column": null,
            "grid_gap": null,
            "grid_row": null,
            "grid_template_areas": null,
            "grid_template_columns": null,
            "grid_template_rows": null,
            "height": null,
            "justify_content": null,
            "justify_items": null,
            "left": null,
            "margin": null,
            "max_height": null,
            "max_width": null,
            "min_height": null,
            "min_width": null,
            "object_fit": null,
            "object_position": null,
            "order": null,
            "overflow": null,
            "overflow_x": null,
            "overflow_y": null,
            "padding": null,
            "right": null,
            "top": null,
            "visibility": null,
            "width": "20px"
          }
        },
        "9339ce201a1e4ec7a64cdc8d5d4723f9": {
          "model_module": "@jupyter-widgets/controls",
          "model_name": "ProgressStyleModel",
          "model_module_version": "1.5.0",
          "state": {
            "_model_module": "@jupyter-widgets/controls",
            "_model_module_version": "1.5.0",
            "_model_name": "ProgressStyleModel",
            "_view_count": null,
            "_view_module": "@jupyter-widgets/base",
            "_view_module_version": "1.2.0",
            "_view_name": "StyleView",
            "bar_color": null,
            "description_width": ""
          }
        },
        "701783aa8dff4a919f94d81b7d9eefce": {
          "model_module": "@jupyter-widgets/base",
          "model_name": "LayoutModel",
          "model_module_version": "1.2.0",
          "state": {
            "_model_module": "@jupyter-widgets/base",
            "_model_module_version": "1.2.0",
            "_model_name": "LayoutModel",
            "_view_count": null,
            "_view_module": "@jupyter-widgets/base",
            "_view_module_version": "1.2.0",
            "_view_name": "LayoutView",
            "align_content": null,
            "align_items": null,
            "align_self": null,
            "border": null,
            "bottom": null,
            "display": null,
            "flex": null,
            "flex_flow": null,
            "grid_area": null,
            "grid_auto_columns": null,
            "grid_auto_flow": null,
            "grid_auto_rows": null,
            "grid_column": null,
            "grid_gap": null,
            "grid_row": null,
            "grid_template_areas": null,
            "grid_template_columns": null,
            "grid_template_rows": null,
            "height": null,
            "justify_content": null,
            "justify_items": null,
            "left": null,
            "margin": null,
            "max_height": null,
            "max_width": null,
            "min_height": null,
            "min_width": null,
            "object_fit": null,
            "object_position": null,
            "order": null,
            "overflow": null,
            "overflow_x": null,
            "overflow_y": null,
            "padding": null,
            "right": null,
            "top": null,
            "visibility": null,
            "width": null
          }
        },
        "1eb0ac8797d949cf8e31aaaca71dba1f": {
          "model_module": "@jupyter-widgets/controls",
          "model_name": "DescriptionStyleModel",
          "model_module_version": "1.5.0",
          "state": {
            "_model_module": "@jupyter-widgets/controls",
            "_model_module_version": "1.5.0",
            "_model_name": "DescriptionStyleModel",
            "_view_count": null,
            "_view_module": "@jupyter-widgets/base",
            "_view_module_version": "1.2.0",
            "_view_name": "StyleView",
            "description_width": ""
          }
        },
        "0772c8d6f199475e93d6eec40f8991b0": {
          "model_module": "@jupyter-widgets/controls",
          "model_name": "HBoxModel",
          "model_module_version": "1.5.0",
          "state": {
            "_dom_classes": [],
            "_model_module": "@jupyter-widgets/controls",
            "_model_module_version": "1.5.0",
            "_model_name": "HBoxModel",
            "_view_count": null,
            "_view_module": "@jupyter-widgets/controls",
            "_view_module_version": "1.5.0",
            "_view_name": "HBoxView",
            "box_style": "",
            "children": [
              "IPY_MODEL_b19bdcf79d8c4ec0b5771db818c995dc",
              "IPY_MODEL_b28eb5daa3ea493e8b1c07e0d0362d9a",
              "IPY_MODEL_9cc7abcadaa54d6eb2b9bd483fca8e81"
            ],
            "layout": "IPY_MODEL_2af6b8bcdb344747b0645c97685802c3"
          }
        },
        "b19bdcf79d8c4ec0b5771db818c995dc": {
          "model_module": "@jupyter-widgets/controls",
          "model_name": "HTMLModel",
          "model_module_version": "1.5.0",
          "state": {
            "_dom_classes": [],
            "_model_module": "@jupyter-widgets/controls",
            "_model_module_version": "1.5.0",
            "_model_name": "HTMLModel",
            "_view_count": null,
            "_view_module": "@jupyter-widgets/controls",
            "_view_module_version": "1.5.0",
            "_view_name": "HTMLView",
            "description": "",
            "description_tooltip": null,
            "layout": "IPY_MODEL_7c0b3fbaadd64874b5ee6c1be9a4b6c7",
            "placeholder": "​",
            "style": "IPY_MODEL_b6663953f9a1497885d1681df4ab3935",
            "value": "Dl Size...: "
          }
        },
        "b28eb5daa3ea493e8b1c07e0d0362d9a": {
          "model_module": "@jupyter-widgets/controls",
          "model_name": "FloatProgressModel",
          "model_module_version": "1.5.0",
          "state": {
            "_dom_classes": [],
            "_model_module": "@jupyter-widgets/controls",
            "_model_module_version": "1.5.0",
            "_model_name": "FloatProgressModel",
            "_view_count": null,
            "_view_module": "@jupyter-widgets/controls",
            "_view_module_version": "1.5.0",
            "_view_name": "ProgressView",
            "bar_style": "success",
            "description": "",
            "description_tooltip": null,
            "layout": "IPY_MODEL_e0f98c75766c43e297dd57430b3a6d85",
            "max": 1,
            "min": 0,
            "orientation": "horizontal",
            "style": "IPY_MODEL_db4b219c25884afba30f53bf6fce7dc5",
            "value": 0
          }
        },
        "9cc7abcadaa54d6eb2b9bd483fca8e81": {
          "model_module": "@jupyter-widgets/controls",
          "model_name": "HTMLModel",
          "model_module_version": "1.5.0",
          "state": {
            "_dom_classes": [],
            "_model_module": "@jupyter-widgets/controls",
            "_model_module_version": "1.5.0",
            "_model_name": "HTMLModel",
            "_view_count": null,
            "_view_module": "@jupyter-widgets/controls",
            "_view_module_version": "1.5.0",
            "_view_name": "HTMLView",
            "description": "",
            "description_tooltip": null,
            "layout": "IPY_MODEL_1a86d6e7fc514b21bb16aff76529f12b",
            "placeholder": "​",
            "style": "IPY_MODEL_f7bd026149d34b078452c7559b2d9479",
            "value": " 0/0 [00:00&lt;?, ? MiB/s]"
          }
        },
        "2af6b8bcdb344747b0645c97685802c3": {
          "model_module": "@jupyter-widgets/base",
          "model_name": "LayoutModel",
          "model_module_version": "1.2.0",
          "state": {
            "_model_module": "@jupyter-widgets/base",
            "_model_module_version": "1.2.0",
            "_model_name": "LayoutModel",
            "_view_count": null,
            "_view_module": "@jupyter-widgets/base",
            "_view_module_version": "1.2.0",
            "_view_name": "LayoutView",
            "align_content": null,
            "align_items": null,
            "align_self": null,
            "border": null,
            "bottom": null,
            "display": null,
            "flex": null,
            "flex_flow": null,
            "grid_area": null,
            "grid_auto_columns": null,
            "grid_auto_flow": null,
            "grid_auto_rows": null,
            "grid_column": null,
            "grid_gap": null,
            "grid_row": null,
            "grid_template_areas": null,
            "grid_template_columns": null,
            "grid_template_rows": null,
            "height": null,
            "justify_content": null,
            "justify_items": null,
            "left": null,
            "margin": null,
            "max_height": null,
            "max_width": null,
            "min_height": null,
            "min_width": null,
            "object_fit": null,
            "object_position": null,
            "order": null,
            "overflow": null,
            "overflow_x": null,
            "overflow_y": null,
            "padding": null,
            "right": null,
            "top": null,
            "visibility": null,
            "width": null
          }
        },
        "7c0b3fbaadd64874b5ee6c1be9a4b6c7": {
          "model_module": "@jupyter-widgets/base",
          "model_name": "LayoutModel",
          "model_module_version": "1.2.0",
          "state": {
            "_model_module": "@jupyter-widgets/base",
            "_model_module_version": "1.2.0",
            "_model_name": "LayoutModel",
            "_view_count": null,
            "_view_module": "@jupyter-widgets/base",
            "_view_module_version": "1.2.0",
            "_view_name": "LayoutView",
            "align_content": null,
            "align_items": null,
            "align_self": null,
            "border": null,
            "bottom": null,
            "display": null,
            "flex": null,
            "flex_flow": null,
            "grid_area": null,
            "grid_auto_columns": null,
            "grid_auto_flow": null,
            "grid_auto_rows": null,
            "grid_column": null,
            "grid_gap": null,
            "grid_row": null,
            "grid_template_areas": null,
            "grid_template_columns": null,
            "grid_template_rows": null,
            "height": null,
            "justify_content": null,
            "justify_items": null,
            "left": null,
            "margin": null,
            "max_height": null,
            "max_width": null,
            "min_height": null,
            "min_width": null,
            "object_fit": null,
            "object_position": null,
            "order": null,
            "overflow": null,
            "overflow_x": null,
            "overflow_y": null,
            "padding": null,
            "right": null,
            "top": null,
            "visibility": null,
            "width": null
          }
        },
        "b6663953f9a1497885d1681df4ab3935": {
          "model_module": "@jupyter-widgets/controls",
          "model_name": "DescriptionStyleModel",
          "model_module_version": "1.5.0",
          "state": {
            "_model_module": "@jupyter-widgets/controls",
            "_model_module_version": "1.5.0",
            "_model_name": "DescriptionStyleModel",
            "_view_count": null,
            "_view_module": "@jupyter-widgets/base",
            "_view_module_version": "1.2.0",
            "_view_name": "StyleView",
            "description_width": ""
          }
        },
        "e0f98c75766c43e297dd57430b3a6d85": {
          "model_module": "@jupyter-widgets/base",
          "model_name": "LayoutModel",
          "model_module_version": "1.2.0",
          "state": {
            "_model_module": "@jupyter-widgets/base",
            "_model_module_version": "1.2.0",
            "_model_name": "LayoutModel",
            "_view_count": null,
            "_view_module": "@jupyter-widgets/base",
            "_view_module_version": "1.2.0",
            "_view_name": "LayoutView",
            "align_content": null,
            "align_items": null,
            "align_self": null,
            "border": null,
            "bottom": null,
            "display": null,
            "flex": null,
            "flex_flow": null,
            "grid_area": null,
            "grid_auto_columns": null,
            "grid_auto_flow": null,
            "grid_auto_rows": null,
            "grid_column": null,
            "grid_gap": null,
            "grid_row": null,
            "grid_template_areas": null,
            "grid_template_columns": null,
            "grid_template_rows": null,
            "height": null,
            "justify_content": null,
            "justify_items": null,
            "left": null,
            "margin": null,
            "max_height": null,
            "max_width": null,
            "min_height": null,
            "min_width": null,
            "object_fit": null,
            "object_position": null,
            "order": null,
            "overflow": null,
            "overflow_x": null,
            "overflow_y": null,
            "padding": null,
            "right": null,
            "top": null,
            "visibility": null,
            "width": "20px"
          }
        },
        "db4b219c25884afba30f53bf6fce7dc5": {
          "model_module": "@jupyter-widgets/controls",
          "model_name": "ProgressStyleModel",
          "model_module_version": "1.5.0",
          "state": {
            "_model_module": "@jupyter-widgets/controls",
            "_model_module_version": "1.5.0",
            "_model_name": "ProgressStyleModel",
            "_view_count": null,
            "_view_module": "@jupyter-widgets/base",
            "_view_module_version": "1.2.0",
            "_view_name": "StyleView",
            "bar_color": null,
            "description_width": ""
          }
        },
        "1a86d6e7fc514b21bb16aff76529f12b": {
          "model_module": "@jupyter-widgets/base",
          "model_name": "LayoutModel",
          "model_module_version": "1.2.0",
          "state": {
            "_model_module": "@jupyter-widgets/base",
            "_model_module_version": "1.2.0",
            "_model_name": "LayoutModel",
            "_view_count": null,
            "_view_module": "@jupyter-widgets/base",
            "_view_module_version": "1.2.0",
            "_view_name": "LayoutView",
            "align_content": null,
            "align_items": null,
            "align_self": null,
            "border": null,
            "bottom": null,
            "display": null,
            "flex": null,
            "flex_flow": null,
            "grid_area": null,
            "grid_auto_columns": null,
            "grid_auto_flow": null,
            "grid_auto_rows": null,
            "grid_column": null,
            "grid_gap": null,
            "grid_row": null,
            "grid_template_areas": null,
            "grid_template_columns": null,
            "grid_template_rows": null,
            "height": null,
            "justify_content": null,
            "justify_items": null,
            "left": null,
            "margin": null,
            "max_height": null,
            "max_width": null,
            "min_height": null,
            "min_width": null,
            "object_fit": null,
            "object_position": null,
            "order": null,
            "overflow": null,
            "overflow_x": null,
            "overflow_y": null,
            "padding": null,
            "right": null,
            "top": null,
            "visibility": null,
            "width": null
          }
        },
        "f7bd026149d34b078452c7559b2d9479": {
          "model_module": "@jupyter-widgets/controls",
          "model_name": "DescriptionStyleModel",
          "model_module_version": "1.5.0",
          "state": {
            "_model_module": "@jupyter-widgets/controls",
            "_model_module_version": "1.5.0",
            "_model_name": "DescriptionStyleModel",
            "_view_count": null,
            "_view_module": "@jupyter-widgets/base",
            "_view_module_version": "1.2.0",
            "_view_name": "StyleView",
            "description_width": ""
          }
        },
        "2c56dd336ed94af9b0b724490910441e": {
          "model_module": "@jupyter-widgets/controls",
          "model_name": "HBoxModel",
          "model_module_version": "1.5.0",
          "state": {
            "_dom_classes": [],
            "_model_module": "@jupyter-widgets/controls",
            "_model_module_version": "1.5.0",
            "_model_name": "HBoxModel",
            "_view_count": null,
            "_view_module": "@jupyter-widgets/controls",
            "_view_module_version": "1.5.0",
            "_view_name": "HBoxView",
            "box_style": "",
            "children": [
              "IPY_MODEL_8fc31f8043554cc28709b4f2cefc1464",
              "IPY_MODEL_4c849c9a9c5a4d83b85d2fc164977473",
              "IPY_MODEL_77b2abfc4fcd40bf87787605578dfe03"
            ],
            "layout": "IPY_MODEL_75f65dae9d024864a94747f459986a42"
          }
        },
        "8fc31f8043554cc28709b4f2cefc1464": {
          "model_module": "@jupyter-widgets/controls",
          "model_name": "HTMLModel",
          "model_module_version": "1.5.0",
          "state": {
            "_dom_classes": [],
            "_model_module": "@jupyter-widgets/controls",
            "_model_module_version": "1.5.0",
            "_model_name": "HTMLModel",
            "_view_count": null,
            "_view_module": "@jupyter-widgets/controls",
            "_view_module_version": "1.5.0",
            "_view_name": "HTMLView",
            "description": "",
            "description_tooltip": null,
            "layout": "IPY_MODEL_3e1e92efcfa04d42b76c6fabfdc09a30",
            "placeholder": "​",
            "style": "IPY_MODEL_f2f50570cd5340c1a4ff74d5c32a5a31",
            "value": "Generating splits...: 100%"
          }
        },
        "4c849c9a9c5a4d83b85d2fc164977473": {
          "model_module": "@jupyter-widgets/controls",
          "model_name": "FloatProgressModel",
          "model_module_version": "1.5.0",
          "state": {
            "_dom_classes": [],
            "_model_module": "@jupyter-widgets/controls",
            "_model_module_version": "1.5.0",
            "_model_name": "FloatProgressModel",
            "_view_count": null,
            "_view_module": "@jupyter-widgets/controls",
            "_view_module_version": "1.5.0",
            "_view_name": "ProgressView",
            "bar_style": "",
            "description": "",
            "description_tooltip": null,
            "layout": "IPY_MODEL_fcb56d18ad354c3c9db46eaf31939bbd",
            "max": 1,
            "min": 0,
            "orientation": "horizontal",
            "style": "IPY_MODEL_896589b10ad44b2faf6ecf2e18f84641",
            "value": 1
          }
        },
        "77b2abfc4fcd40bf87787605578dfe03": {
          "model_module": "@jupyter-widgets/controls",
          "model_name": "HTMLModel",
          "model_module_version": "1.5.0",
          "state": {
            "_dom_classes": [],
            "_model_module": "@jupyter-widgets/controls",
            "_model_module_version": "1.5.0",
            "_model_name": "HTMLModel",
            "_view_count": null,
            "_view_module": "@jupyter-widgets/controls",
            "_view_module_version": "1.5.0",
            "_view_name": "HTMLView",
            "description": "",
            "description_tooltip": null,
            "layout": "IPY_MODEL_184eeebaea494e559527625a646b1b36",
            "placeholder": "​",
            "style": "IPY_MODEL_9e146fec73474125af17166c031d4cf6",
            "value": " 1/1 [00:00&lt;00:00,  3.79 splits/s]"
          }
        },
        "75f65dae9d024864a94747f459986a42": {
          "model_module": "@jupyter-widgets/base",
          "model_name": "LayoutModel",
          "model_module_version": "1.2.0",
          "state": {
            "_model_module": "@jupyter-widgets/base",
            "_model_module_version": "1.2.0",
            "_model_name": "LayoutModel",
            "_view_count": null,
            "_view_module": "@jupyter-widgets/base",
            "_view_module_version": "1.2.0",
            "_view_name": "LayoutView",
            "align_content": null,
            "align_items": null,
            "align_self": null,
            "border": null,
            "bottom": null,
            "display": null,
            "flex": null,
            "flex_flow": null,
            "grid_area": null,
            "grid_auto_columns": null,
            "grid_auto_flow": null,
            "grid_auto_rows": null,
            "grid_column": null,
            "grid_gap": null,
            "grid_row": null,
            "grid_template_areas": null,
            "grid_template_columns": null,
            "grid_template_rows": null,
            "height": null,
            "justify_content": null,
            "justify_items": null,
            "left": null,
            "margin": null,
            "max_height": null,
            "max_width": null,
            "min_height": null,
            "min_width": null,
            "object_fit": null,
            "object_position": null,
            "order": null,
            "overflow": null,
            "overflow_x": null,
            "overflow_y": null,
            "padding": null,
            "right": null,
            "top": null,
            "visibility": "hidden",
            "width": null
          }
        },
        "3e1e92efcfa04d42b76c6fabfdc09a30": {
          "model_module": "@jupyter-widgets/base",
          "model_name": "LayoutModel",
          "model_module_version": "1.2.0",
          "state": {
            "_model_module": "@jupyter-widgets/base",
            "_model_module_version": "1.2.0",
            "_model_name": "LayoutModel",
            "_view_count": null,
            "_view_module": "@jupyter-widgets/base",
            "_view_module_version": "1.2.0",
            "_view_name": "LayoutView",
            "align_content": null,
            "align_items": null,
            "align_self": null,
            "border": null,
            "bottom": null,
            "display": null,
            "flex": null,
            "flex_flow": null,
            "grid_area": null,
            "grid_auto_columns": null,
            "grid_auto_flow": null,
            "grid_auto_rows": null,
            "grid_column": null,
            "grid_gap": null,
            "grid_row": null,
            "grid_template_areas": null,
            "grid_template_columns": null,
            "grid_template_rows": null,
            "height": null,
            "justify_content": null,
            "justify_items": null,
            "left": null,
            "margin": null,
            "max_height": null,
            "max_width": null,
            "min_height": null,
            "min_width": null,
            "object_fit": null,
            "object_position": null,
            "order": null,
            "overflow": null,
            "overflow_x": null,
            "overflow_y": null,
            "padding": null,
            "right": null,
            "top": null,
            "visibility": null,
            "width": null
          }
        },
        "f2f50570cd5340c1a4ff74d5c32a5a31": {
          "model_module": "@jupyter-widgets/controls",
          "model_name": "DescriptionStyleModel",
          "model_module_version": "1.5.0",
          "state": {
            "_model_module": "@jupyter-widgets/controls",
            "_model_module_version": "1.5.0",
            "_model_name": "DescriptionStyleModel",
            "_view_count": null,
            "_view_module": "@jupyter-widgets/base",
            "_view_module_version": "1.2.0",
            "_view_name": "StyleView",
            "description_width": ""
          }
        },
        "fcb56d18ad354c3c9db46eaf31939bbd": {
          "model_module": "@jupyter-widgets/base",
          "model_name": "LayoutModel",
          "model_module_version": "1.2.0",
          "state": {
            "_model_module": "@jupyter-widgets/base",
            "_model_module_version": "1.2.0",
            "_model_name": "LayoutModel",
            "_view_count": null,
            "_view_module": "@jupyter-widgets/base",
            "_view_module_version": "1.2.0",
            "_view_name": "LayoutView",
            "align_content": null,
            "align_items": null,
            "align_self": null,
            "border": null,
            "bottom": null,
            "display": null,
            "flex": null,
            "flex_flow": null,
            "grid_area": null,
            "grid_auto_columns": null,
            "grid_auto_flow": null,
            "grid_auto_rows": null,
            "grid_column": null,
            "grid_gap": null,
            "grid_row": null,
            "grid_template_areas": null,
            "grid_template_columns": null,
            "grid_template_rows": null,
            "height": null,
            "justify_content": null,
            "justify_items": null,
            "left": null,
            "margin": null,
            "max_height": null,
            "max_width": null,
            "min_height": null,
            "min_width": null,
            "object_fit": null,
            "object_position": null,
            "order": null,
            "overflow": null,
            "overflow_x": null,
            "overflow_y": null,
            "padding": null,
            "right": null,
            "top": null,
            "visibility": null,
            "width": null
          }
        },
        "896589b10ad44b2faf6ecf2e18f84641": {
          "model_module": "@jupyter-widgets/controls",
          "model_name": "ProgressStyleModel",
          "model_module_version": "1.5.0",
          "state": {
            "_model_module": "@jupyter-widgets/controls",
            "_model_module_version": "1.5.0",
            "_model_name": "ProgressStyleModel",
            "_view_count": null,
            "_view_module": "@jupyter-widgets/base",
            "_view_module_version": "1.2.0",
            "_view_name": "StyleView",
            "bar_color": null,
            "description_width": ""
          }
        },
        "184eeebaea494e559527625a646b1b36": {
          "model_module": "@jupyter-widgets/base",
          "model_name": "LayoutModel",
          "model_module_version": "1.2.0",
          "state": {
            "_model_module": "@jupyter-widgets/base",
            "_model_module_version": "1.2.0",
            "_model_name": "LayoutModel",
            "_view_count": null,
            "_view_module": "@jupyter-widgets/base",
            "_view_module_version": "1.2.0",
            "_view_name": "LayoutView",
            "align_content": null,
            "align_items": null,
            "align_self": null,
            "border": null,
            "bottom": null,
            "display": null,
            "flex": null,
            "flex_flow": null,
            "grid_area": null,
            "grid_auto_columns": null,
            "grid_auto_flow": null,
            "grid_auto_rows": null,
            "grid_column": null,
            "grid_gap": null,
            "grid_row": null,
            "grid_template_areas": null,
            "grid_template_columns": null,
            "grid_template_rows": null,
            "height": null,
            "justify_content": null,
            "justify_items": null,
            "left": null,
            "margin": null,
            "max_height": null,
            "max_width": null,
            "min_height": null,
            "min_width": null,
            "object_fit": null,
            "object_position": null,
            "order": null,
            "overflow": null,
            "overflow_x": null,
            "overflow_y": null,
            "padding": null,
            "right": null,
            "top": null,
            "visibility": null,
            "width": null
          }
        },
        "9e146fec73474125af17166c031d4cf6": {
          "model_module": "@jupyter-widgets/controls",
          "model_name": "DescriptionStyleModel",
          "model_module_version": "1.5.0",
          "state": {
            "_model_module": "@jupyter-widgets/controls",
            "_model_module_version": "1.5.0",
            "_model_name": "DescriptionStyleModel",
            "_view_count": null,
            "_view_module": "@jupyter-widgets/base",
            "_view_module_version": "1.2.0",
            "_view_name": "StyleView",
            "description_width": ""
          }
        },
        "99f1a94364714edabb7acd7f118eadc0": {
          "model_module": "@jupyter-widgets/controls",
          "model_name": "HBoxModel",
          "model_module_version": "1.5.0",
          "state": {
            "_dom_classes": [],
            "_model_module": "@jupyter-widgets/controls",
            "_model_module_version": "1.5.0",
            "_model_name": "HBoxModel",
            "_view_count": null,
            "_view_module": "@jupyter-widgets/controls",
            "_view_module_version": "1.5.0",
            "_view_name": "HBoxView",
            "box_style": "",
            "children": [
              "IPY_MODEL_de918ddd1a4a4edfa341ce63c7e91f18",
              "IPY_MODEL_c24153c245544adba4f225ea6a6eb08e",
              "IPY_MODEL_14307fdf17de4603bd026b55890e2028"
            ],
            "layout": "IPY_MODEL_29bef63d178b4cd1947799694bbb3540"
          }
        },
        "de918ddd1a4a4edfa341ce63c7e91f18": {
          "model_module": "@jupyter-widgets/controls",
          "model_name": "HTMLModel",
          "model_module_version": "1.5.0",
          "state": {
            "_dom_classes": [],
            "_model_module": "@jupyter-widgets/controls",
            "_model_module_version": "1.5.0",
            "_model_name": "HTMLModel",
            "_view_count": null,
            "_view_module": "@jupyter-widgets/controls",
            "_view_module_version": "1.5.0",
            "_view_name": "HTMLView",
            "description": "",
            "description_tooltip": null,
            "layout": "IPY_MODEL_9c7a60797ea74a5ea7bfd2ee3485d2ca",
            "placeholder": "​",
            "style": "IPY_MODEL_c6b43ce3a0a344b883555b358656bc00",
            "value": "Generating train examples...:  67%"
          }
        },
        "c24153c245544adba4f225ea6a6eb08e": {
          "model_module": "@jupyter-widgets/controls",
          "model_name": "FloatProgressModel",
          "model_module_version": "1.5.0",
          "state": {
            "_dom_classes": [],
            "_model_module": "@jupyter-widgets/controls",
            "_model_module_version": "1.5.0",
            "_model_name": "FloatProgressModel",
            "_view_count": null,
            "_view_module": "@jupyter-widgets/controls",
            "_view_module_version": "1.5.0",
            "_view_name": "ProgressView",
            "bar_style": "",
            "description": "",
            "description_tooltip": null,
            "layout": "IPY_MODEL_b3887123f67b4caa92dd7890c9831872",
            "max": 334,
            "min": 0,
            "orientation": "horizontal",
            "style": "IPY_MODEL_229817a29ee84d4eb61cc1595f35dd13",
            "value": 334
          }
        },
        "14307fdf17de4603bd026b55890e2028": {
          "model_module": "@jupyter-widgets/controls",
          "model_name": "HTMLModel",
          "model_module_version": "1.5.0",
          "state": {
            "_dom_classes": [],
            "_model_module": "@jupyter-widgets/controls",
            "_model_module_version": "1.5.0",
            "_model_name": "HTMLModel",
            "_view_count": null,
            "_view_module": "@jupyter-widgets/controls",
            "_view_module_version": "1.5.0",
            "_view_name": "HTMLView",
            "description": "",
            "description_tooltip": null,
            "layout": "IPY_MODEL_96770d7bdcc841db9c476a62b09557ff",
            "placeholder": "​",
            "style": "IPY_MODEL_f58a212436e0480ba94878daaaf60d31",
            "value": " 225/334 [00:00&lt;00:00, 2248.41 examples/s]"
          }
        },
        "29bef63d178b4cd1947799694bbb3540": {
          "model_module": "@jupyter-widgets/base",
          "model_name": "LayoutModel",
          "model_module_version": "1.2.0",
          "state": {
            "_model_module": "@jupyter-widgets/base",
            "_model_module_version": "1.2.0",
            "_model_name": "LayoutModel",
            "_view_count": null,
            "_view_module": "@jupyter-widgets/base",
            "_view_module_version": "1.2.0",
            "_view_name": "LayoutView",
            "align_content": null,
            "align_items": null,
            "align_self": null,
            "border": null,
            "bottom": null,
            "display": null,
            "flex": null,
            "flex_flow": null,
            "grid_area": null,
            "grid_auto_columns": null,
            "grid_auto_flow": null,
            "grid_auto_rows": null,
            "grid_column": null,
            "grid_gap": null,
            "grid_row": null,
            "grid_template_areas": null,
            "grid_template_columns": null,
            "grid_template_rows": null,
            "height": null,
            "justify_content": null,
            "justify_items": null,
            "left": null,
            "margin": null,
            "max_height": null,
            "max_width": null,
            "min_height": null,
            "min_width": null,
            "object_fit": null,
            "object_position": null,
            "order": null,
            "overflow": null,
            "overflow_x": null,
            "overflow_y": null,
            "padding": null,
            "right": null,
            "top": null,
            "visibility": "hidden",
            "width": null
          }
        },
        "9c7a60797ea74a5ea7bfd2ee3485d2ca": {
          "model_module": "@jupyter-widgets/base",
          "model_name": "LayoutModel",
          "model_module_version": "1.2.0",
          "state": {
            "_model_module": "@jupyter-widgets/base",
            "_model_module_version": "1.2.0",
            "_model_name": "LayoutModel",
            "_view_count": null,
            "_view_module": "@jupyter-widgets/base",
            "_view_module_version": "1.2.0",
            "_view_name": "LayoutView",
            "align_content": null,
            "align_items": null,
            "align_self": null,
            "border": null,
            "bottom": null,
            "display": null,
            "flex": null,
            "flex_flow": null,
            "grid_area": null,
            "grid_auto_columns": null,
            "grid_auto_flow": null,
            "grid_auto_rows": null,
            "grid_column": null,
            "grid_gap": null,
            "grid_row": null,
            "grid_template_areas": null,
            "grid_template_columns": null,
            "grid_template_rows": null,
            "height": null,
            "justify_content": null,
            "justify_items": null,
            "left": null,
            "margin": null,
            "max_height": null,
            "max_width": null,
            "min_height": null,
            "min_width": null,
            "object_fit": null,
            "object_position": null,
            "order": null,
            "overflow": null,
            "overflow_x": null,
            "overflow_y": null,
            "padding": null,
            "right": null,
            "top": null,
            "visibility": null,
            "width": null
          }
        },
        "c6b43ce3a0a344b883555b358656bc00": {
          "model_module": "@jupyter-widgets/controls",
          "model_name": "DescriptionStyleModel",
          "model_module_version": "1.5.0",
          "state": {
            "_model_module": "@jupyter-widgets/controls",
            "_model_module_version": "1.5.0",
            "_model_name": "DescriptionStyleModel",
            "_view_count": null,
            "_view_module": "@jupyter-widgets/base",
            "_view_module_version": "1.2.0",
            "_view_name": "StyleView",
            "description_width": ""
          }
        },
        "b3887123f67b4caa92dd7890c9831872": {
          "model_module": "@jupyter-widgets/base",
          "model_name": "LayoutModel",
          "model_module_version": "1.2.0",
          "state": {
            "_model_module": "@jupyter-widgets/base",
            "_model_module_version": "1.2.0",
            "_model_name": "LayoutModel",
            "_view_count": null,
            "_view_module": "@jupyter-widgets/base",
            "_view_module_version": "1.2.0",
            "_view_name": "LayoutView",
            "align_content": null,
            "align_items": null,
            "align_self": null,
            "border": null,
            "bottom": null,
            "display": null,
            "flex": null,
            "flex_flow": null,
            "grid_area": null,
            "grid_auto_columns": null,
            "grid_auto_flow": null,
            "grid_auto_rows": null,
            "grid_column": null,
            "grid_gap": null,
            "grid_row": null,
            "grid_template_areas": null,
            "grid_template_columns": null,
            "grid_template_rows": null,
            "height": null,
            "justify_content": null,
            "justify_items": null,
            "left": null,
            "margin": null,
            "max_height": null,
            "max_width": null,
            "min_height": null,
            "min_width": null,
            "object_fit": null,
            "object_position": null,
            "order": null,
            "overflow": null,
            "overflow_x": null,
            "overflow_y": null,
            "padding": null,
            "right": null,
            "top": null,
            "visibility": null,
            "width": null
          }
        },
        "229817a29ee84d4eb61cc1595f35dd13": {
          "model_module": "@jupyter-widgets/controls",
          "model_name": "ProgressStyleModel",
          "model_module_version": "1.5.0",
          "state": {
            "_model_module": "@jupyter-widgets/controls",
            "_model_module_version": "1.5.0",
            "_model_name": "ProgressStyleModel",
            "_view_count": null,
            "_view_module": "@jupyter-widgets/base",
            "_view_module_version": "1.2.0",
            "_view_name": "StyleView",
            "bar_color": null,
            "description_width": ""
          }
        },
        "96770d7bdcc841db9c476a62b09557ff": {
          "model_module": "@jupyter-widgets/base",
          "model_name": "LayoutModel",
          "model_module_version": "1.2.0",
          "state": {
            "_model_module": "@jupyter-widgets/base",
            "_model_module_version": "1.2.0",
            "_model_name": "LayoutModel",
            "_view_count": null,
            "_view_module": "@jupyter-widgets/base",
            "_view_module_version": "1.2.0",
            "_view_name": "LayoutView",
            "align_content": null,
            "align_items": null,
            "align_self": null,
            "border": null,
            "bottom": null,
            "display": null,
            "flex": null,
            "flex_flow": null,
            "grid_area": null,
            "grid_auto_columns": null,
            "grid_auto_flow": null,
            "grid_auto_rows": null,
            "grid_column": null,
            "grid_gap": null,
            "grid_row": null,
            "grid_template_areas": null,
            "grid_template_columns": null,
            "grid_template_rows": null,
            "height": null,
            "justify_content": null,
            "justify_items": null,
            "left": null,
            "margin": null,
            "max_height": null,
            "max_width": null,
            "min_height": null,
            "min_width": null,
            "object_fit": null,
            "object_position": null,
            "order": null,
            "overflow": null,
            "overflow_x": null,
            "overflow_y": null,
            "padding": null,
            "right": null,
            "top": null,
            "visibility": null,
            "width": null
          }
        },
        "f58a212436e0480ba94878daaaf60d31": {
          "model_module": "@jupyter-widgets/controls",
          "model_name": "DescriptionStyleModel",
          "model_module_version": "1.5.0",
          "state": {
            "_model_module": "@jupyter-widgets/controls",
            "_model_module_version": "1.5.0",
            "_model_name": "DescriptionStyleModel",
            "_view_count": null,
            "_view_module": "@jupyter-widgets/base",
            "_view_module_version": "1.2.0",
            "_view_name": "StyleView",
            "description_width": ""
          }
        },
        "f59150cd11ec4422b513a7fd278d1d8f": {
          "model_module": "@jupyter-widgets/controls",
          "model_name": "HBoxModel",
          "model_module_version": "1.5.0",
          "state": {
            "_dom_classes": [],
            "_model_module": "@jupyter-widgets/controls",
            "_model_module_version": "1.5.0",
            "_model_name": "HBoxModel",
            "_view_count": null,
            "_view_module": "@jupyter-widgets/controls",
            "_view_module_version": "1.5.0",
            "_view_name": "HBoxView",
            "box_style": "",
            "children": [
              "IPY_MODEL_992a17d00a2d404799f1042b44f17cdf",
              "IPY_MODEL_7d7a0ba3fa224200a59851744805b12a",
              "IPY_MODEL_37709cf9c07443d5a446f8f58d60987c"
            ],
            "layout": "IPY_MODEL_0338d0d9db124279ba44f75919a993f6"
          }
        },
        "992a17d00a2d404799f1042b44f17cdf": {
          "model_module": "@jupyter-widgets/controls",
          "model_name": "HTMLModel",
          "model_module_version": "1.5.0",
          "state": {
            "_dom_classes": [],
            "_model_module": "@jupyter-widgets/controls",
            "_model_module_version": "1.5.0",
            "_model_name": "HTMLModel",
            "_view_count": null,
            "_view_module": "@jupyter-widgets/controls",
            "_view_module_version": "1.5.0",
            "_view_name": "HTMLView",
            "description": "",
            "description_tooltip": null,
            "layout": "IPY_MODEL_c7f15b723bb948129de3ebd455139cd0",
            "placeholder": "​",
            "style": "IPY_MODEL_3196f5a80e5943e79f27862f421d5903",
            "value": "Shuffling /root/tensorflow_datasets/penguins/processed/1.0.0.incompleteWPUX8S/penguins-train.tfrecord*...:   0%"
          }
        },
        "7d7a0ba3fa224200a59851744805b12a": {
          "model_module": "@jupyter-widgets/controls",
          "model_name": "FloatProgressModel",
          "model_module_version": "1.5.0",
          "state": {
            "_dom_classes": [],
            "_model_module": "@jupyter-widgets/controls",
            "_model_module_version": "1.5.0",
            "_model_name": "FloatProgressModel",
            "_view_count": null,
            "_view_module": "@jupyter-widgets/controls",
            "_view_module_version": "1.5.0",
            "_view_name": "ProgressView",
            "bar_style": "",
            "description": "",
            "description_tooltip": null,
            "layout": "IPY_MODEL_1d3a84806a8c4ec7a8fb39218d590ab5",
            "max": 334,
            "min": 0,
            "orientation": "horizontal",
            "style": "IPY_MODEL_d42798c8d2924c018c6bd2d185165034",
            "value": 334
          }
        },
        "37709cf9c07443d5a446f8f58d60987c": {
          "model_module": "@jupyter-widgets/controls",
          "model_name": "HTMLModel",
          "model_module_version": "1.5.0",
          "state": {
            "_dom_classes": [],
            "_model_module": "@jupyter-widgets/controls",
            "_model_module_version": "1.5.0",
            "_model_name": "HTMLModel",
            "_view_count": null,
            "_view_module": "@jupyter-widgets/controls",
            "_view_module_version": "1.5.0",
            "_view_name": "HTMLView",
            "description": "",
            "description_tooltip": null,
            "layout": "IPY_MODEL_05b10e29bf904177823fa2ccc70e5e02",
            "placeholder": "​",
            "style": "IPY_MODEL_2ccac8aa577f43ae87fbf5dc78af9d2e",
            "value": " 0/334 [00:00&lt;?, ? examples/s]"
          }
        },
        "0338d0d9db124279ba44f75919a993f6": {
          "model_module": "@jupyter-widgets/base",
          "model_name": "LayoutModel",
          "model_module_version": "1.2.0",
          "state": {
            "_model_module": "@jupyter-widgets/base",
            "_model_module_version": "1.2.0",
            "_model_name": "LayoutModel",
            "_view_count": null,
            "_view_module": "@jupyter-widgets/base",
            "_view_module_version": "1.2.0",
            "_view_name": "LayoutView",
            "align_content": null,
            "align_items": null,
            "align_self": null,
            "border": null,
            "bottom": null,
            "display": null,
            "flex": null,
            "flex_flow": null,
            "grid_area": null,
            "grid_auto_columns": null,
            "grid_auto_flow": null,
            "grid_auto_rows": null,
            "grid_column": null,
            "grid_gap": null,
            "grid_row": null,
            "grid_template_areas": null,
            "grid_template_columns": null,
            "grid_template_rows": null,
            "height": null,
            "justify_content": null,
            "justify_items": null,
            "left": null,
            "margin": null,
            "max_height": null,
            "max_width": null,
            "min_height": null,
            "min_width": null,
            "object_fit": null,
            "object_position": null,
            "order": null,
            "overflow": null,
            "overflow_x": null,
            "overflow_y": null,
            "padding": null,
            "right": null,
            "top": null,
            "visibility": "hidden",
            "width": null
          }
        },
        "c7f15b723bb948129de3ebd455139cd0": {
          "model_module": "@jupyter-widgets/base",
          "model_name": "LayoutModel",
          "model_module_version": "1.2.0",
          "state": {
            "_model_module": "@jupyter-widgets/base",
            "_model_module_version": "1.2.0",
            "_model_name": "LayoutModel",
            "_view_count": null,
            "_view_module": "@jupyter-widgets/base",
            "_view_module_version": "1.2.0",
            "_view_name": "LayoutView",
            "align_content": null,
            "align_items": null,
            "align_self": null,
            "border": null,
            "bottom": null,
            "display": null,
            "flex": null,
            "flex_flow": null,
            "grid_area": null,
            "grid_auto_columns": null,
            "grid_auto_flow": null,
            "grid_auto_rows": null,
            "grid_column": null,
            "grid_gap": null,
            "grid_row": null,
            "grid_template_areas": null,
            "grid_template_columns": null,
            "grid_template_rows": null,
            "height": null,
            "justify_content": null,
            "justify_items": null,
            "left": null,
            "margin": null,
            "max_height": null,
            "max_width": null,
            "min_height": null,
            "min_width": null,
            "object_fit": null,
            "object_position": null,
            "order": null,
            "overflow": null,
            "overflow_x": null,
            "overflow_y": null,
            "padding": null,
            "right": null,
            "top": null,
            "visibility": null,
            "width": null
          }
        },
        "3196f5a80e5943e79f27862f421d5903": {
          "model_module": "@jupyter-widgets/controls",
          "model_name": "DescriptionStyleModel",
          "model_module_version": "1.5.0",
          "state": {
            "_model_module": "@jupyter-widgets/controls",
            "_model_module_version": "1.5.0",
            "_model_name": "DescriptionStyleModel",
            "_view_count": null,
            "_view_module": "@jupyter-widgets/base",
            "_view_module_version": "1.2.0",
            "_view_name": "StyleView",
            "description_width": ""
          }
        },
        "1d3a84806a8c4ec7a8fb39218d590ab5": {
          "model_module": "@jupyter-widgets/base",
          "model_name": "LayoutModel",
          "model_module_version": "1.2.0",
          "state": {
            "_model_module": "@jupyter-widgets/base",
            "_model_module_version": "1.2.0",
            "_model_name": "LayoutModel",
            "_view_count": null,
            "_view_module": "@jupyter-widgets/base",
            "_view_module_version": "1.2.0",
            "_view_name": "LayoutView",
            "align_content": null,
            "align_items": null,
            "align_self": null,
            "border": null,
            "bottom": null,
            "display": null,
            "flex": null,
            "flex_flow": null,
            "grid_area": null,
            "grid_auto_columns": null,
            "grid_auto_flow": null,
            "grid_auto_rows": null,
            "grid_column": null,
            "grid_gap": null,
            "grid_row": null,
            "grid_template_areas": null,
            "grid_template_columns": null,
            "grid_template_rows": null,
            "height": null,
            "justify_content": null,
            "justify_items": null,
            "left": null,
            "margin": null,
            "max_height": null,
            "max_width": null,
            "min_height": null,
            "min_width": null,
            "object_fit": null,
            "object_position": null,
            "order": null,
            "overflow": null,
            "overflow_x": null,
            "overflow_y": null,
            "padding": null,
            "right": null,
            "top": null,
            "visibility": null,
            "width": null
          }
        },
        "d42798c8d2924c018c6bd2d185165034": {
          "model_module": "@jupyter-widgets/controls",
          "model_name": "ProgressStyleModel",
          "model_module_version": "1.5.0",
          "state": {
            "_model_module": "@jupyter-widgets/controls",
            "_model_module_version": "1.5.0",
            "_model_name": "ProgressStyleModel",
            "_view_count": null,
            "_view_module": "@jupyter-widgets/base",
            "_view_module_version": "1.2.0",
            "_view_name": "StyleView",
            "bar_color": null,
            "description_width": ""
          }
        },
        "05b10e29bf904177823fa2ccc70e5e02": {
          "model_module": "@jupyter-widgets/base",
          "model_name": "LayoutModel",
          "model_module_version": "1.2.0",
          "state": {
            "_model_module": "@jupyter-widgets/base",
            "_model_module_version": "1.2.0",
            "_model_name": "LayoutModel",
            "_view_count": null,
            "_view_module": "@jupyter-widgets/base",
            "_view_module_version": "1.2.0",
            "_view_name": "LayoutView",
            "align_content": null,
            "align_items": null,
            "align_self": null,
            "border": null,
            "bottom": null,
            "display": null,
            "flex": null,
            "flex_flow": null,
            "grid_area": null,
            "grid_auto_columns": null,
            "grid_auto_flow": null,
            "grid_auto_rows": null,
            "grid_column": null,
            "grid_gap": null,
            "grid_row": null,
            "grid_template_areas": null,
            "grid_template_columns": null,
            "grid_template_rows": null,
            "height": null,
            "justify_content": null,
            "justify_items": null,
            "left": null,
            "margin": null,
            "max_height": null,
            "max_width": null,
            "min_height": null,
            "min_width": null,
            "object_fit": null,
            "object_position": null,
            "order": null,
            "overflow": null,
            "overflow_x": null,
            "overflow_y": null,
            "padding": null,
            "right": null,
            "top": null,
            "visibility": null,
            "width": null
          }
        },
        "2ccac8aa577f43ae87fbf5dc78af9d2e": {
          "model_module": "@jupyter-widgets/controls",
          "model_name": "DescriptionStyleModel",
          "model_module_version": "1.5.0",
          "state": {
            "_model_module": "@jupyter-widgets/controls",
            "_model_module_version": "1.5.0",
            "_model_name": "DescriptionStyleModel",
            "_view_count": null,
            "_view_module": "@jupyter-widgets/base",
            "_view_module_version": "1.2.0",
            "_view_name": "StyleView",
            "description_width": ""
          }
        }
      }
    }
  },
  "cells": [
    {
      "cell_type": "markdown",
      "source": [
        "# Install Dependencies"
      ],
      "metadata": {
        "id": "UhNR5f3NjoL2"
      }
    },
    {
      "cell_type": "code",
      "execution_count": null,
      "metadata": {
        "id": "SDDbaE-l6_qn"
      },
      "outputs": [],
      "source": [
        "import tensorflow as tf"
      ]
    },
    {
      "cell_type": "markdown",
      "source": [
        "# Tensors\n",
        "\n",
        "**references**:\n",
        "  - [Coursera:Custom and Distributed Training with TensorFlow](https://www.coursera.org/learn/custom-distributed-training-with-tensorflow/lecture/qICrM/calculate-gradients-on-higher-order-functions)\n",
        "\n",
        "**Introduction:**\n",
        "\n",
        "- Tensors contains `dtype` and `shape`\n",
        "- scalar, vector, matrix, etc.\n"
      ],
      "metadata": {
        "id": "m8jOTq80cZfU"
      }
    },
    {
      "cell_type": "markdown",
      "source": [
        "\n",
        "\n",
        "\n",
        "## `tf.constant` and `tf.Variable`\n",
        "\n",
        "- values in `tf.constant` cannot be changed (immutable)\n",
        "- values in `tf.Variable` can be changed"
      ],
      "metadata": {
        "id": "jJvVG6EOcdM0"
      }
    },
    {
      "cell_type": "code",
      "source": [
        "# some basic operations\n",
        "\n",
        "import numpy as np\n",
        "\n",
        "x = np.array(range(0 ,25))\n",
        "print(\"x array: \", x)\n",
        "x = tf.constant(x)\n",
        "print(\"tensors: \", x)\n",
        "\n",
        "y = tf.constant(2, dtype=tf.float32)\n",
        "print(y)"
      ],
      "metadata": {
        "colab": {
          "base_uri": "https://localhost:8080/"
        },
        "id": "CReV-KrJKmiD",
        "outputId": "666a5695-41ae-49d2-851a-394e3df10bfd"
      },
      "execution_count": null,
      "outputs": [
        {
          "output_type": "stream",
          "name": "stdout",
          "text": [
            "x array:  [ 0  1  2  3  4  5  6  7  8  9 10 11 12 13 14 15 16 17 18 19 20 21 22 23\n",
            " 24]\n",
            "tensors:  tf.Tensor(\n",
            "[ 0  1  2  3  4  5  6  7  8  9 10 11 12 13 14 15 16 17 18 19 20 21 22 23\n",
            " 24], shape=(25,), dtype=int64)\n",
            "tf.Tensor(2.0, shape=(), dtype=float32)\n"
          ]
        }
      ]
    },
    {
      "cell_type": "markdown",
      "source": [
        "### `tf.GradientTape()` basics"
      ],
      "metadata": {
        "id": "lw14v16-nlcc"
      }
    },
    {
      "cell_type": "code",
      "source": [
        "# tf.GradientTape() on lower power functions\n",
        "x = tf.constant(3.0)\n",
        "\n",
        "with tf.GradientTape() as g:\n",
        "  g.watch(x)\n",
        "  y = x * x\n",
        "\n",
        "dy_dx = g.gradient(y, x)\n",
        "print(dy_dx)"
      ],
      "metadata": {
        "colab": {
          "base_uri": "https://localhost:8080/"
        },
        "id": "qiTJyBYvKzuh",
        "outputId": "cafd2027-72fe-4d51-9587-e37bb6a5ef68"
      },
      "execution_count": null,
      "outputs": [
        {
          "output_type": "stream",
          "name": "stdout",
          "text": [
            "tf.Tensor(6.0, shape=(), dtype=float32)\n"
          ]
        }
      ]
    },
    {
      "cell_type": "code",
      "source": [
        "# tf.GradientTape() on higher power functions\n",
        "\n",
        "x = tf.ones((2, 2))\n",
        "print(f\"x:\\n {x}\")\n",
        "\n",
        "with tf.GradientTape() as tape:\n",
        "  tape.watch(x)\n",
        "\n",
        "  y = tf.reduce_sum(x) # y = 1+1+1+1 = 4\n",
        "  z = tf.square(y) # z=4^2=16\n",
        "\n",
        "# derivative of z wrt to the original input x\n",
        "dz_dx = tape.gradient(z, x)\n",
        "# dz_dx = dz_dy*dy_dx = 2y*dy_dx = 8*[1]\n",
        "print(f\"dz_dx:\\n {dz_dx}\")"
      ],
      "metadata": {
        "colab": {
          "base_uri": "https://localhost:8080/"
        },
        "id": "ul4fhhObkFTV",
        "outputId": "b17d553d-0292-4b4a-f5e8-80c7433ffb52"
      },
      "execution_count": null,
      "outputs": [
        {
          "output_type": "stream",
          "name": "stdout",
          "text": [
            "x:\n",
            " [[1. 1.]\n",
            " [1. 1.]]\n",
            "dz_dx:\n",
            " [[8. 8.]\n",
            " [8. 8.]]\n"
          ]
        }
      ]
    },
    {
      "cell_type": "code",
      "source": [
        "# set persistent=True if the gradient needs to be re-used\n",
        "# for instance\n",
        "\n",
        "x = tf.constant(3.0)\n",
        "\n",
        "with tf.GradientTape(persistent=True) as tape:\n",
        "\n",
        "  tape.watch(x)\n",
        "  y = x**2 # y = 3**2 = 9\n",
        "  z = y**2 # z = 9**2 = 81\n",
        "\n",
        "# here the tape can be called twice\n",
        "dz_dx = tape.gradient(z, x) # dz_dx = dz_dy*dy_dx = 2*9 * 2*3 = 18*6 = 108\n",
        "dy_dx = tape.gradient(y, x) # dy_dx = 2*3 = 6\n",
        "\n",
        "print(\n",
        "    f\"dz_dx:\\n {dz_dx}\\ndy_dx:\\n {dy_dx}\"\n",
        ")\n",
        "\n",
        "# need to manually drop the reference to the tape\n",
        "del tape"
      ],
      "metadata": {
        "colab": {
          "base_uri": "https://localhost:8080/"
        },
        "id": "vOGD6t-JlxDz",
        "outputId": "cf5bd582-2210-4139-c4d4-f33d8843ee0a"
      },
      "execution_count": null,
      "outputs": [
        {
          "output_type": "stream",
          "name": "stdout",
          "text": [
            "dz_dx:\n",
            " 108.0\n",
            "dy_dx:\n",
            " 6.0\n"
          ]
        }
      ]
    },
    {
      "cell_type": "code",
      "source": [
        "x = tf.Variable(3.0) # cannot be tf.constant\n",
        "\n",
        "with tf.GradientTape() as tape_2:\n",
        "  with tf.GradientTape() as tape_1:\n",
        "\n",
        "    y = x * x * x\n",
        "\n",
        "  dy_dx = tape_1.gradient(y, x) # dy_dx = 3x^2 = 3*3^2 = 27\n",
        "d2y_dx2 = tape_2.gradient(dy_dx, x) # d2y_dx2 = 6x = 6*3 = 18\n",
        "\n",
        "print(f\"dy_dx:\\n{dy_dx}\\nd2y_dx2:\\n{d2y_dx2}\")"
      ],
      "metadata": {
        "colab": {
          "base_uri": "https://localhost:8080/"
        },
        "id": "htFpCD4ao4bH",
        "outputId": "caabe093-1aef-4df6-bb3f-5c394e9109cf"
      },
      "execution_count": null,
      "outputs": [
        {
          "output_type": "stream",
          "name": "stdout",
          "text": [
            "dy_dx:\n",
            "27.0\n",
            "d2y_dx2:\n",
            "18.0\n"
          ]
        }
      ]
    },
    {
      "cell_type": "markdown",
      "source": [
        "# Introduction to graphs and `tf.function`\n",
        "\n",
        "\n",
        "source: https://www.tensorflow.org/guide/intro_to_graphs\n",
        "\n",
        "## Objective\n",
        "\n",
        "- to understand how `execution graphs` work in Tensorflow\n",
        "\n",
        "\n",
        "## What Are Graphs\n",
        "\n",
        "\n",
        "Graph execution:\n",
        "\n",
        "- tensor computations as a tf **graph** , `tf.Graph`\n",
        "\n",
        "Graphs:\n",
        "\n",
        "- is a data structures that contains (defined in `tf.Graph`):\n",
        "  - a set of `tf.Operation` objects (rep. units of computation)\n",
        "  - a set of `tf.Tensor` objects (rep. units of data tha **flow** between operations)\n",
        "\n",
        "\n",
        "\n",
        "### eager operation vs. graph operation:\n",
        "\n",
        "eager operation:\n",
        "\n",
        "- intuitive (code in python)\n",
        "- immediate results\n",
        "\n",
        "graph operation:\n",
        "\n",
        "- better performance (outside python)\n",
        "  \n",
        "  - run fast (faster than eager execution, but takes time to build graphs on the first run)\n",
        "  - run in parallel\n",
        "  - run on multiple devices"
      ],
      "metadata": {
        "id": "0QBeg-Vs4h__"
      }
    },
    {
      "cell_type": "code",
      "source": [
        "import tensorflow as tf"
      ],
      "metadata": {
        "id": "YTWLGKYC4l0F"
      },
      "execution_count": null,
      "outputs": []
    },
    {
      "cell_type": "code",
      "source": [
        "# tf.function:\n",
        "# input: a reg python function\n",
        "# output: Function (builds tf graphs from the python function)\n",
        "\n",
        "def a_reg_python_func(x, y, b):\n",
        "  x = tf.matmul(x, y)\n",
        "  x = x + b\n",
        "\n",
        "  return x\n",
        "\n",
        "a_graph_func = tf.function(a_reg_python_func)"
      ],
      "metadata": {
        "id": "H03CvGPm4jXD"
      },
      "execution_count": null,
      "outputs": []
    },
    {
      "cell_type": "code",
      "source": [
        "# Make some tensors.\n",
        "x1 = tf.constant([[1.0, 2.0]])\n",
        "y1 = tf.constant([[2.0], [3.0]])\n",
        "b1 = tf.constant(4.0)"
      ],
      "metadata": {
        "id": "m4aMxFwm4id0"
      },
      "execution_count": null,
      "outputs": []
    },
    {
      "cell_type": "code",
      "source": [
        "orig_value = a_reg_python_func(x1, y1, b1).numpy()\n",
        "# Call a `Function` like a Python function.\n",
        "tf_function_value = a_graph_func(x1, y1, b1).numpy()\n",
        "assert(orig_value == tf_function_value)"
      ],
      "metadata": {
        "id": "sWNLQI8o4sy_"
      },
      "execution_count": null,
      "outputs": []
    },
    {
      "cell_type": "code",
      "source": [
        "print(f\"original function value: {orig_value}, {type(orig_value)}\")\n",
        "print(f\"graph function value: {tf_function_value}, {type(tf_function_value)}\")"
      ],
      "metadata": {
        "id": "XkauHb-z4suB"
      },
      "execution_count": null,
      "outputs": []
    },
    {
      "cell_type": "markdown",
      "source": [
        "functions that are written in tensorflow are a mixture of **TF operations** and **python** logic (`if_else` etc).\n",
        "\n",
        "Converting python code to graph-generating code using `tf.autograph`"
      ],
      "metadata": {
        "id": "iZnuwwJZ4wFo"
      }
    },
    {
      "cell_type": "code",
      "source": [
        "# another example\n",
        "# converting python function to graphs\n",
        "\n",
        "\n",
        "# this function is a mixture of\n",
        "# python logic and tf operations:\n",
        "def simple_relu(x):\n",
        "  if tf.greater(x, 0):\n",
        "    return x\n",
        "  else:\n",
        "    return 0\n",
        "\n",
        "# convert the above python function to\n",
        "# tensorflow graph using\n",
        "# tf.function()\n",
        "tf_simple_relu = tf.function(simple_relu)\n",
        "\n",
        "# trying out different input formats (same?)\n",
        "print(tf_simple_relu(-1))\n",
        "print(tf_simple_relu(tf.constant(-1)))\n",
        "print(tf_simple_relu(tf.constant(-1).numpy())) # official tf\n"
      ],
      "metadata": {
        "id": "v-bGx35s4srJ"
      },
      "execution_count": null,
      "outputs": []
    },
    {
      "cell_type": "code",
      "source": [
        "# inspect the output\n",
        "print(tf.autograph.to_code(simple_relu))"
      ],
      "metadata": {
        "id": "3ClmmYJL41gR"
      },
      "execution_count": null,
      "outputs": []
    },
    {
      "cell_type": "code",
      "source": [
        "# This is the graph itself.\n",
        "print(tf_simple_relu.get_concrete_function(tf.constant(1)).graph.as_graph_def())"
      ],
      "metadata": {
        "id": "uMl4NIze42_P"
      },
      "execution_count": null,
      "outputs": []
    },
    {
      "cell_type": "markdown",
      "source": [
        "## Eager Execution in Tensorflow\n",
        "\n",
        "- evaluate values immediately\n",
        "- broadcasting support\n",
        "- operation overloading\n",
        "- numpy compatibility\n"
      ],
      "metadata": {
        "id": "eFVYaO2VLXTY"
      }
    },
    {
      "cell_type": "code",
      "source": [
        "# broadcasting\n",
        "\n",
        "a = tf.constant([[1, 2],\n",
        "                 [3, 4]])\n",
        "\n",
        "print(tf.add(a, 1))\n",
        "\n",
        "# python operations\n",
        "print(a ** 2)"
      ],
      "metadata": {
        "colab": {
          "base_uri": "https://localhost:8080/"
        },
        "id": "Kfrb2vOVLbN2",
        "outputId": "276d3126-5fce-4c2e-e843-2410e4fb8623"
      },
      "execution_count": null,
      "outputs": [
        {
          "output_type": "stream",
          "name": "stdout",
          "text": [
            "tf.Tensor(\n",
            "[[2 3]\n",
            " [4 5]], shape=(2, 2), dtype=int32)\n",
            "tf.Tensor(\n",
            "[[ 1  4]\n",
            " [ 9 16]], shape=(2, 2), dtype=int32)\n"
          ]
        }
      ]
    },
    {
      "cell_type": "code",
      "source": [
        "# tf variables\n",
        "\n",
        "v = tf.Variable(0.0)\n",
        "\n",
        "print(\"v+1: \", v + 1)\n",
        "\n",
        "v = tf.Variable(0.0)\n",
        "\n",
        "print(\"v.assign_add(): \", v.assign_add(1)) # for graph execution 'UnreadVariable'\n",
        "\n",
        "print(\"read_value(): \", v.read_value().numpy())"
      ],
      "metadata": {
        "colab": {
          "base_uri": "https://localhost:8080/"
        },
        "id": "KiEMgB4oLbG2",
        "outputId": "b3fd9760-3b3c-4456-f427-25a0ae4dcfc5"
      },
      "execution_count": null,
      "outputs": [
        {
          "output_type": "stream",
          "name": "stdout",
          "text": [
            "v+1:  tf.Tensor(1.0, shape=(), dtype=float32)\n",
            "v.assign_add():  <tf.Variable 'UnreadVariable' shape=() dtype=float32, numpy=1.0>\n",
            "read_value():  1.0\n"
          ]
        }
      ]
    },
    {
      "cell_type": "code",
      "source": [
        "# tf.variable in custom layers\n",
        "\n",
        "class MyLayer(tf.keras.layers.Layer):\n",
        "\n",
        "  def __init__(self):\n",
        "    super(MyLayer, self).__init__()\n",
        "    self.my_var = tf.Variable(100)\n",
        "    # self.my_other_var_list = [tf.Variable(x) for x in range(2)]\n",
        "    self.my_other_var_list = tf.Variable(200)\n",
        "    self.my_constant = tf.constant(1)\n",
        "\n",
        "m = MyLayer()\n",
        "print([variable.numpy() for variable in m.variables]) # only prints out variables"
      ],
      "metadata": {
        "colab": {
          "base_uri": "https://localhost:8080/"
        },
        "id": "zNAtwYRvLbEO",
        "outputId": "1d46e2e8-e97d-4b61-9d89-f047cdf614c1"
      },
      "execution_count": null,
      "outputs": [
        {
          "output_type": "stream",
          "name": "stdout",
          "text": [
            "[100, 200]\n"
          ]
        }
      ]
    },
    {
      "cell_type": "code",
      "source": [
        "# change data types using tf.cast\n",
        "\n",
        "tensor = tf.constant([1,2,3])\n",
        "\n",
        "print(tensor)\n",
        "\n",
        "tensor = tf.cast(tensor, dtype=tf.float32)\n",
        "\n",
        "print(tensor.dtype)"
      ],
      "metadata": {
        "colab": {
          "base_uri": "https://localhost:8080/"
        },
        "id": "BRD4rbYBLbB7",
        "outputId": "b0a481f5-d8d9-4f36-aa96-9870400ee871"
      },
      "execution_count": null,
      "outputs": [
        {
          "output_type": "stream",
          "name": "stdout",
          "text": [
            "tf.Tensor([1 2 3], shape=(3,), dtype=int32)\n",
            "<dtype: 'float32'>\n"
          ]
        }
      ]
    },
    {
      "cell_type": "markdown",
      "source": [
        "## Graph execution"
      ],
      "metadata": {
        "id": "Wpcl2Mz046rF"
      }
    },
    {
      "cell_type": "markdown",
      "source": [
        "**Graph execution**:\n",
        "\n",
        "- parallelism\n",
        "- distributed execution\n",
        "- compilation\n",
        "- portability"
      ],
      "metadata": {
        "id": "v0sPF9_RqI0K"
      }
    },
    {
      "cell_type": "code",
      "source": [
        "# Function runs graph execution by default\n",
        "\n",
        "@tf.function\n",
        "def get_MSE(y_true, y_pred):\n",
        "  sq_diff = tf.pow(y_true - y_pred, 2)\n",
        "\n",
        "  return tf.reduce_mean(sq_diff)\n",
        "\n",
        "print(tf.autograph.to_code(get_MSE.python_function))\n",
        "\n",
        "y_true = tf.random.uniform([5], maxval=10, dtype=tf.int32)\n",
        "y_pred = tf.random.uniform([5], maxval=10, dtype=tf.int32)\n",
        "\n",
        "print(y_true)\n",
        "print(y_pred)"
      ],
      "metadata": {
        "id": "sUi2AXic48O4",
        "colab": {
          "base_uri": "https://localhost:8080/"
        },
        "outputId": "29601e94-1839-49e0-bb93-2251fb0e4491"
      },
      "execution_count": null,
      "outputs": [
        {
          "output_type": "stream",
          "name": "stdout",
          "text": [
            "def tf__get_MSE(y_true, y_pred):\n",
            "    with ag__.FunctionScope('get_MSE', 'fscope', ag__.ConversionOptions(recursive=True, user_requested=True, optional_features=(), internal_convert_user_code=True)) as fscope:\n",
            "        do_return = False\n",
            "        retval_ = ag__.UndefinedReturnValue()\n",
            "        sq_diff = ag__.converted_call(ag__.ld(tf).pow, (ag__.ld(y_true) - ag__.ld(y_pred), 2), None, fscope)\n",
            "        try:\n",
            "            do_return = True\n",
            "            retval_ = ag__.converted_call(ag__.ld(tf).reduce_mean, (ag__.ld(sq_diff),), None, fscope)\n",
            "        except:\n",
            "            do_return = False\n",
            "            raise\n",
            "        return fscope.ret(retval_, do_return)\n",
            "\n",
            "tf.Tensor([1 6 1 6 3], shape=(5,), dtype=int32)\n",
            "tf.Tensor([1 4 5 4 8], shape=(5,), dtype=int32)\n"
          ]
        }
      ]
    },
    {
      "cell_type": "code",
      "source": [
        "get_MSE(y_true, y_pred)"
      ],
      "metadata": {
        "id": "8QiwOzO748NX",
        "colab": {
          "base_uri": "https://localhost:8080/"
        },
        "outputId": "2440a975-fb56-4339-c8d1-6353d8e437b2"
      },
      "execution_count": null,
      "outputs": [
        {
          "output_type": "execute_result",
          "data": {
            "text/plain": [
              "<tf.Tensor: shape=(), dtype=int32, numpy=9>"
            ]
          },
          "metadata": {},
          "execution_count": 5
        }
      ]
    },
    {
      "cell_type": "code",
      "source": [
        "# run Function as eager execution\n",
        "tf.config.run_functions_eagerly(True)"
      ],
      "metadata": {
        "id": "GWPjLC2Z48Lb"
      },
      "execution_count": null,
      "outputs": []
    },
    {
      "cell_type": "code",
      "source": [
        "get_MSE(y_true, y_pred)"
      ],
      "metadata": {
        "id": "jZ2l_HZD48Jp",
        "colab": {
          "base_uri": "https://localhost:8080/"
        },
        "outputId": "436caf14-8a53-433a-d8d1-add749b2113c"
      },
      "execution_count": null,
      "outputs": [
        {
          "output_type": "execute_result",
          "data": {
            "text/plain": [
              "<tf.Tensor: shape=(), dtype=int32, numpy=9>"
            ]
          },
          "metadata": {},
          "execution_count": 7
        }
      ]
    },
    {
      "cell_type": "code",
      "source": [
        "# turn off eager functions\n",
        "tf.config.run_functions_eagerly(False)"
      ],
      "metadata": {
        "id": "Xn48oWQN48Hy"
      },
      "execution_count": null,
      "outputs": []
    },
    {
      "cell_type": "code",
      "source": [
        "# Function can behave differently\n",
        "# in eager exection and graph execution:\n",
        "#\n",
        "\n",
        "# graph execution\n",
        "@tf.function\n",
        "def get_MSE(y_true, y_pred):\n",
        "  print(\"Calculating MSE!\")\n",
        "  sq_diff = tf.pow(y_true - y_pred, 2)\n",
        "  return tf.reduce_mean(sq_diff)\n",
        "\n",
        "error = get_MSE(y_true, y_pred)\n",
        "error = get_MSE(y_true, y_pred)\n",
        "error = get_MSE(y_true, y_pred)"
      ],
      "metadata": {
        "id": "329kXowP48Fm",
        "colab": {
          "base_uri": "https://localhost:8080/"
        },
        "outputId": "04a70538-0e51-4cfc-d7fc-8ee92180cddb"
      },
      "execution_count": null,
      "outputs": [
        {
          "output_type": "stream",
          "name": "stdout",
          "text": [
            "Calculating MSE!\n"
          ]
        }
      ]
    },
    {
      "cell_type": "code",
      "source": [
        "# eager execution\n",
        "def get_MSE(y_true, y_pred):\n",
        "  print(\"Calculating MSE!\")\n",
        "  sq_diff = tf.pow(y_true - y_pred, 2)\n",
        "  return tf.reduce_mean(sq_diff)\n",
        "\n",
        "error = get_MSE(y_true, y_pred)\n",
        "error = get_MSE(y_true, y_pred)\n",
        "error = get_MSE(y_true, y_pred)"
      ],
      "metadata": {
        "id": "5eAqd2vd5DfM",
        "colab": {
          "base_uri": "https://localhost:8080/"
        },
        "outputId": "8ed97ba5-6e91-4291-b31a-a0767e4cf1c5"
      },
      "execution_count": null,
      "outputs": [
        {
          "output_type": "stream",
          "name": "stdout",
          "text": [
            "Calculating MSE!\n",
            "Calculating MSE!\n",
            "Calculating MSE!\n"
          ]
        }
      ]
    },
    {
      "cell_type": "code",
      "source": [
        "# autograph do not accept conditions\n",
        "\n",
        "@tf.function\n",
        "def f(x):\n",
        "  if x > 0:\n",
        "    x = x * x\n",
        "  return x\n",
        "\n",
        "print(tf.autograph.to_code(f.python_function))"
      ],
      "metadata": {
        "colab": {
          "base_uri": "https://localhost:8080/"
        },
        "id": "uzJixmvHtCys",
        "outputId": "9321f135-d498-4dc6-d090-0a7e2ddb54d8"
      },
      "execution_count": null,
      "outputs": [
        {
          "output_type": "stream",
          "name": "stdout",
          "text": [
            "def tf__f(x):\n",
            "    with ag__.FunctionScope('f', 'fscope', ag__.ConversionOptions(recursive=True, user_requested=True, optional_features=(), internal_convert_user_code=True)) as fscope:\n",
            "        do_return = False\n",
            "        retval_ = ag__.UndefinedReturnValue()\n",
            "\n",
            "        def get_state():\n",
            "            return (x,)\n",
            "\n",
            "        def set_state(vars_):\n",
            "            nonlocal x\n",
            "            (x,) = vars_\n",
            "\n",
            "        def if_body():\n",
            "            nonlocal x\n",
            "            x = ag__.ld(x) * ag__.ld(x)\n",
            "\n",
            "        def else_body():\n",
            "            nonlocal x\n",
            "            pass\n",
            "        ag__.if_stmt(ag__.ld(x) > 0, if_body, else_body, get_state, set_state, ('x',), 1)\n",
            "        try:\n",
            "            do_return = True\n",
            "            retval_ = ag__.ld(x)\n",
            "        except:\n",
            "            do_return = False\n",
            "            raise\n",
            "        return fscope.ret(retval_, do_return)\n",
            "\n"
          ]
        }
      ]
    },
    {
      "cell_type": "code",
      "source": [
        "# tf.function and gradiettape\n",
        "# add() is an annotated function\n",
        "\n",
        "@tf.function\n",
        "def add(a, b):\n",
        "  return a + b\n",
        "\n",
        "v = tf.Variable(1.0)\n",
        "\n",
        "with tf.GradientTape() as tape:\n",
        "  result = add(v, 1.0)\n",
        "\n",
        "tape.gradient(result, v).numpy()"
      ],
      "metadata": {
        "id": "ch3V2vO55Dc4",
        "colab": {
          "base_uri": "https://localhost:8080/"
        },
        "outputId": "a8634339-027a-4c4d-8a3a-6b7bfc115638"
      },
      "execution_count": null,
      "outputs": [
        {
          "output_type": "execute_result",
          "data": {
            "text/plain": [
              "1.0"
            ]
          },
          "metadata": {},
          "execution_count": 12
        }
      ]
    },
    {
      "cell_type": "code",
      "source": [
        "# chain multiple functions\n",
        "# a python function inside @tf.function\n",
        "# can also run in graph mode\n",
        "\n",
        "def linear_layer(x):\n",
        "  return 2*x + 1\n",
        "\n",
        "@tf.function\n",
        "def deep_net(x):\n",
        "  return tf.nn.relu(linear_layer(x))\n",
        "\n",
        "deep_net(tf.constant((1,2,3)))"
      ],
      "metadata": {
        "id": "dbA7la_q5DaS",
        "colab": {
          "base_uri": "https://localhost:8080/"
        },
        "outputId": "9f0bcf65-bf25-4260-e882-f6a22f265e86"
      },
      "execution_count": null,
      "outputs": [
        {
          "output_type": "execute_result",
          "data": {
            "text/plain": [
              "<tf.Tensor: shape=(3,), dtype=int32, numpy=array([3, 5, 7], dtype=int32)>"
            ]
          },
          "metadata": {},
          "execution_count": 14
        }
      ]
    },
    {
      "cell_type": "code",
      "source": [
        "# python functions are polymorphic\n",
        "\n",
        "@tf.function\n",
        "def double(a):\n",
        "  return a + a\n",
        "\n",
        "print(double(tf.constant(1)).numpy())\n",
        "print(double(tf.constant(1.1)).numpy())\n",
        "print(double(tf.constant(\"a\")).numpy())"
      ],
      "metadata": {
        "colab": {
          "base_uri": "https://localhost:8080/"
        },
        "id": "C21DleyvrH7h",
        "outputId": "c7189186-701d-416c-82d7-5c1efac1a54d"
      },
      "execution_count": null,
      "outputs": [
        {
          "output_type": "stream",
          "name": "stdout",
          "text": [
            "2\n",
            "2.2\n",
            "b'aa'\n"
          ]
        }
      ]
    },
    {
      "cell_type": "code",
      "source": [
        "# tf.function with keras\n",
        "\n",
        "class CustomModel(tf.keras.models.Model):\n",
        "  @tf.function\n",
        "  def call(self, input_data):\n",
        "    if tf.reduce_mean(input_data) > 0:\n",
        "      return input_data\n",
        "    else:\n",
        "      return input_data//2"
      ],
      "metadata": {
        "id": "qzFzA-d_5DXf"
      },
      "execution_count": null,
      "outputs": []
    },
    {
      "cell_type": "code",
      "source": [
        "# @tf.function works best when there are a lot of ops\n",
        "# e.g. \"for\", \"==\", \"if\", \"%\" etc\n",
        "\n",
        "@tf.function\n",
        "def fizzbuzz(max_num):\n",
        "  counter = 0\n",
        "  for num in range(max_num):\n",
        "    if num % 3 == 0 and num % 5 == 0:\n",
        "      print(\"fizzbuzz\")\n",
        "    elif num % 3 == 0:\n",
        "      print(\"fizz\")\n",
        "    elif num % 5 == 0:\n",
        "      print(\"buzz\")\n",
        "    else:\n",
        "      print(num)\n",
        "    counter += 1\n",
        "  return counter\n",
        "\n",
        "print(tf.autograph.to_code(fizzbuzz.python_function))"
      ],
      "metadata": {
        "colab": {
          "base_uri": "https://localhost:8080/"
        },
        "id": "FGVkIe9KsArH",
        "outputId": "55b9e9c4-db4b-43b8-c47d-5ecc4c3846ab"
      },
      "execution_count": null,
      "outputs": [
        {
          "output_type": "stream",
          "name": "stdout",
          "text": [
            "def tf__fizzbuzz(max_num):\n",
            "    with ag__.FunctionScope('fizzbuzz', 'fscope', ag__.ConversionOptions(recursive=True, user_requested=True, optional_features=(), internal_convert_user_code=True)) as fscope:\n",
            "        do_return = False\n",
            "        retval_ = ag__.UndefinedReturnValue()\n",
            "        counter = 0\n",
            "\n",
            "        def get_state_3():\n",
            "            return (counter,)\n",
            "\n",
            "        def set_state_3(vars_):\n",
            "            nonlocal counter\n",
            "            (counter,) = vars_\n",
            "\n",
            "        def loop_body(itr):\n",
            "            nonlocal counter\n",
            "            num = itr\n",
            "\n",
            "            def get_state_2():\n",
            "                return ()\n",
            "\n",
            "            def set_state_2(block_vars):\n",
            "                pass\n",
            "\n",
            "            def if_body_2():\n",
            "                ag__.ld(print)('fizzbuzz')\n",
            "\n",
            "            def else_body_2():\n",
            "\n",
            "                def get_state_1():\n",
            "                    return ()\n",
            "\n",
            "                def set_state_1(block_vars):\n",
            "                    pass\n",
            "\n",
            "                def if_body_1():\n",
            "                    ag__.ld(print)('fizz')\n",
            "\n",
            "                def else_body_1():\n",
            "\n",
            "                    def get_state():\n",
            "                        return ()\n",
            "\n",
            "                    def set_state(block_vars):\n",
            "                        pass\n",
            "\n",
            "                    def if_body():\n",
            "                        ag__.ld(print)('buzz')\n",
            "\n",
            "                    def else_body():\n",
            "                        ag__.ld(print)(ag__.ld(num))\n",
            "                    ag__.if_stmt(ag__.ld(num) % 5 == 0, if_body, else_body, get_state, set_state, (), 0)\n",
            "                ag__.if_stmt(ag__.ld(num) % 3 == 0, if_body_1, else_body_1, get_state_1, set_state_1, (), 0)\n",
            "            ag__.if_stmt(ag__.and_(lambda : ag__.ld(num) % 3 == 0, lambda : ag__.ld(num) % 5 == 0), if_body_2, else_body_2, get_state_2, set_state_2, (), 0)\n",
            "            counter = ag__.ld(counter)\n",
            "            counter += 1\n",
            "        num = ag__.Undefined('num')\n",
            "        ag__.for_stmt(ag__.converted_call(ag__.ld(range), (ag__.ld(max_num),), None, fscope), None, loop_body, get_state_3, set_state_3, ('counter',), {'iterate_names': 'num'})\n",
            "        try:\n",
            "            do_return = True\n",
            "            retval_ = ag__.ld(counter)\n",
            "        except:\n",
            "            do_return = False\n",
            "            raise\n",
            "        return fscope.ret(retval_, do_return)\n",
            "\n"
          ]
        }
      ]
    },
    {
      "cell_type": "markdown",
      "source": [
        "### Control Dependencies"
      ],
      "metadata": {
        "id": "jLriM8qNudjb"
      }
    },
    {
      "cell_type": "code",
      "source": [
        "# automatic control dependencies\n",
        "# ensure the right sequence\n",
        "a = tf.Variable(1.0)\n",
        "b = tf.Variable(2.0)\n",
        "\n",
        "@tf.function\n",
        "def f(x, y):\n",
        "  a.assign(y * b) # a = y * b = 2 * 2 = 4\n",
        "  b.assign_add(x * a) # b = 2.0 + 1 * 4 = 6\n",
        "  return a + b\n",
        "\n",
        "f(1.0, 2.0)"
      ],
      "metadata": {
        "colab": {
          "base_uri": "https://localhost:8080/"
        },
        "id": "Wq5dOnq_uf2w",
        "outputId": "7700110a-b3c8-4986-cdb9-f504b70fe0dd"
      },
      "execution_count": null,
      "outputs": [
        {
          "output_type": "execute_result",
          "data": {
            "text/plain": [
              "<tf.Tensor: shape=(), dtype=float32, numpy=10.0>"
            ]
          },
          "metadata": {},
          "execution_count": 23
        }
      ]
    },
    {
      "cell_type": "code",
      "source": [
        "# conditional flows\n",
        "\n",
        "@tf.function\n",
        "def sign(x):\n",
        "  if x > 0:\n",
        "    return \"positive\"\n",
        "  else:\n",
        "    return \"negative\"\n",
        "\n",
        "print(tf.autograph.to_code(sign.python_function))"
      ],
      "metadata": {
        "colab": {
          "base_uri": "https://localhost:8080/"
        },
        "id": "VZCc6qLSvjF8",
        "outputId": "6148510b-e16b-455a-989a-ddbf4f2f685e"
      },
      "execution_count": null,
      "outputs": [
        {
          "output_type": "stream",
          "name": "stdout",
          "text": [
            "def tf__sign(x):\n",
            "    with ag__.FunctionScope('sign', 'fscope', ag__.ConversionOptions(recursive=True, user_requested=True, optional_features=(), internal_convert_user_code=True)) as fscope:\n",
            "        do_return = False\n",
            "        retval_ = ag__.UndefinedReturnValue()\n",
            "\n",
            "        def get_state():\n",
            "            return (do_return, retval_)\n",
            "\n",
            "        def set_state(vars_):\n",
            "            nonlocal do_return, retval_\n",
            "            (do_return, retval_) = vars_\n",
            "\n",
            "        def if_body():\n",
            "            nonlocal do_return, retval_\n",
            "            try:\n",
            "                do_return = True\n",
            "                retval_ = 'positive'\n",
            "            except:\n",
            "                do_return = False\n",
            "                raise\n",
            "\n",
            "        def else_body():\n",
            "            nonlocal do_return, retval_\n",
            "            try:\n",
            "                do_return = True\n",
            "                retval_ = 'negative'\n",
            "            except:\n",
            "                do_return = False\n",
            "                raise\n",
            "        ag__.if_stmt(ag__.ld(x) > 0, if_body, else_body, get_state, set_state, ('do_return', 'retval_'), 2)\n",
            "        return fscope.ret(retval_, do_return)\n",
            "\n"
          ]
        }
      ]
    },
    {
      "cell_type": "code",
      "source": [
        "# control flows (loops)\n",
        "\n",
        "@tf.function\n",
        "def f(x):\n",
        "  while tf.reduce_sum(x) > 1:\n",
        "    tf.print(x)\n",
        "    x = tf.tanh(x)\n",
        "  return x\n",
        "\n",
        "print(tf.autograph.to_code(f.python_function))"
      ],
      "metadata": {
        "colab": {
          "base_uri": "https://localhost:8080/"
        },
        "id": "rlF3lcv1wCeb",
        "outputId": "b5324f55-17f6-42b0-bff5-3cb2987cb371"
      },
      "execution_count": null,
      "outputs": [
        {
          "output_type": "stream",
          "name": "stdout",
          "text": [
            "def tf__f(x):\n",
            "    with ag__.FunctionScope('f', 'fscope', ag__.ConversionOptions(recursive=True, user_requested=True, optional_features=(), internal_convert_user_code=True)) as fscope:\n",
            "        do_return = False\n",
            "        retval_ = ag__.UndefinedReturnValue()\n",
            "\n",
            "        def get_state():\n",
            "            return (x,)\n",
            "\n",
            "        def set_state(vars_):\n",
            "            nonlocal x\n",
            "            (x,) = vars_\n",
            "\n",
            "        def loop_body():\n",
            "            nonlocal x\n",
            "            ag__.converted_call(ag__.ld(tf).print, (ag__.ld(x),), None, fscope)\n",
            "            x = ag__.converted_call(ag__.ld(tf).tanh, (ag__.ld(x),), None, fscope)\n",
            "\n",
            "        def loop_test():\n",
            "            return ag__.converted_call(ag__.ld(tf).reduce_sum, (ag__.ld(x),), None, fscope) > 1\n",
            "        ag__.while_stmt(loop_test, loop_body, get_state, set_state, ('x',), {})\n",
            "        try:\n",
            "            do_return = True\n",
            "            retval_ = ag__.ld(x)\n",
            "        except:\n",
            "            do_return = False\n",
            "            raise\n",
            "        return fscope.ret(retval_, do_return)\n",
            "\n"
          ]
        }
      ]
    },
    {
      "cell_type": "code",
      "source": [
        "# default behavior of tracing variables (eager mode)\n",
        "# print() and tf.print() behave differently when\n",
        "# decorated by @tf.function\n",
        "# python print() not designed for graph execution\n",
        "# hence only executed once\n",
        "\n",
        "def f(x):\n",
        "  print(\"traced with \", x)\n",
        "\n",
        "for i in range(5):\n",
        "  f(2)\n",
        "\n",
        "print(\"tf.function: \")\n",
        "\n",
        "@tf.function\n",
        "def f(x):\n",
        "  print(\"traced with \", x)\n",
        "  tf.print(\"executed with \", x)\n",
        "\n",
        "for i in range(5):\n",
        "  f(2)"
      ],
      "metadata": {
        "colab": {
          "base_uri": "https://localhost:8080/"
        },
        "id": "GrGVCKDQwr9Q",
        "outputId": "f381d77b-497c-4808-8622-f1e5209facf0"
      },
      "execution_count": null,
      "outputs": [
        {
          "output_type": "stream",
          "name": "stdout",
          "text": [
            "traced with  2\n",
            "traced with  2\n",
            "traced with  2\n",
            "traced with  2\n",
            "traced with  2\n",
            "tf.function: \n",
            "traced with  2\n",
            "executed with  2\n",
            "executed with  2\n",
            "executed with  2\n",
            "executed with  2\n",
            "executed with  2\n"
          ]
        }
      ]
    },
    {
      "cell_type": "code",
      "source": [
        "# dangerous variable creation behavior\n",
        "\n",
        "@tf.function\n",
        "def f(x):\n",
        "  v = tf.Variable(1.0) # do not create variable here\n",
        "  v.assign_add(x)\n",
        "  return v\n",
        "\n",
        "f(1)"
      ],
      "metadata": {
        "colab": {
          "base_uri": "https://localhost:8080/",
          "height": 514
        },
        "id": "sGjtreInyGVL",
        "outputId": "5706387b-784c-4e91-cd60-b9159b4b79bb"
      },
      "execution_count": null,
      "outputs": [
        {
          "output_type": "error",
          "ename": "ValueError",
          "evalue": "ignored",
          "traceback": [
            "\u001b[0;31m---------------------------------------------------------------------------\u001b[0m",
            "\u001b[0;31mValueError\u001b[0m                                Traceback (most recent call last)",
            "\u001b[0;32m<ipython-input-31-bb7fd4e9e5d1>\u001b[0m in \u001b[0;36m<module>\u001b[0;34m\u001b[0m\n\u001b[1;32m      7\u001b[0m   \u001b[0;32mreturn\u001b[0m \u001b[0mv\u001b[0m\u001b[0;34m\u001b[0m\u001b[0;34m\u001b[0m\u001b[0m\n\u001b[1;32m      8\u001b[0m \u001b[0;34m\u001b[0m\u001b[0m\n\u001b[0;32m----> 9\u001b[0;31m \u001b[0mf\u001b[0m\u001b[0;34m(\u001b[0m\u001b[0;36m1\u001b[0m\u001b[0;34m)\u001b[0m\u001b[0;34m\u001b[0m\u001b[0;34m\u001b[0m\u001b[0m\n\u001b[0m",
            "\u001b[0;32m/usr/local/lib/python3.9/dist-packages/tensorflow/python/util/traceback_utils.py\u001b[0m in \u001b[0;36merror_handler\u001b[0;34m(*args, **kwargs)\u001b[0m\n\u001b[1;32m    151\u001b[0m     \u001b[0;32mexcept\u001b[0m \u001b[0mException\u001b[0m \u001b[0;32mas\u001b[0m \u001b[0me\u001b[0m\u001b[0;34m:\u001b[0m\u001b[0;34m\u001b[0m\u001b[0;34m\u001b[0m\u001b[0m\n\u001b[1;32m    152\u001b[0m       \u001b[0mfiltered_tb\u001b[0m \u001b[0;34m=\u001b[0m \u001b[0m_process_traceback_frames\u001b[0m\u001b[0;34m(\u001b[0m\u001b[0me\u001b[0m\u001b[0;34m.\u001b[0m\u001b[0m__traceback__\u001b[0m\u001b[0;34m)\u001b[0m\u001b[0;34m\u001b[0m\u001b[0;34m\u001b[0m\u001b[0m\n\u001b[0;32m--> 153\u001b[0;31m       \u001b[0;32mraise\u001b[0m \u001b[0me\u001b[0m\u001b[0;34m.\u001b[0m\u001b[0mwith_traceback\u001b[0m\u001b[0;34m(\u001b[0m\u001b[0mfiltered_tb\u001b[0m\u001b[0;34m)\u001b[0m \u001b[0;32mfrom\u001b[0m \u001b[0;32mNone\u001b[0m\u001b[0;34m\u001b[0m\u001b[0;34m\u001b[0m\u001b[0m\n\u001b[0m\u001b[1;32m    154\u001b[0m     \u001b[0;32mfinally\u001b[0m\u001b[0;34m:\u001b[0m\u001b[0;34m\u001b[0m\u001b[0;34m\u001b[0m\u001b[0m\n\u001b[1;32m    155\u001b[0m       \u001b[0;32mdel\u001b[0m \u001b[0mfiltered_tb\u001b[0m\u001b[0;34m\u001b[0m\u001b[0;34m\u001b[0m\u001b[0m\n",
            "\u001b[0;32m/tmp/__autograph_generated_file_p27w3nc.py\u001b[0m in \u001b[0;36mtf__f\u001b[0;34m(x)\u001b[0m\n\u001b[1;32m      8\u001b[0m                 \u001b[0mdo_return\u001b[0m \u001b[0;34m=\u001b[0m \u001b[0;32mFalse\u001b[0m\u001b[0;34m\u001b[0m\u001b[0;34m\u001b[0m\u001b[0m\n\u001b[1;32m      9\u001b[0m                 \u001b[0mretval_\u001b[0m \u001b[0;34m=\u001b[0m \u001b[0mag__\u001b[0m\u001b[0;34m.\u001b[0m\u001b[0mUndefinedReturnValue\u001b[0m\u001b[0;34m(\u001b[0m\u001b[0;34m)\u001b[0m\u001b[0;34m\u001b[0m\u001b[0;34m\u001b[0m\u001b[0m\n\u001b[0;32m---> 10\u001b[0;31m                 \u001b[0mv\u001b[0m \u001b[0;34m=\u001b[0m \u001b[0mag__\u001b[0m\u001b[0;34m.\u001b[0m\u001b[0mconverted_call\u001b[0m\u001b[0;34m(\u001b[0m\u001b[0mag__\u001b[0m\u001b[0;34m.\u001b[0m\u001b[0mld\u001b[0m\u001b[0;34m(\u001b[0m\u001b[0mtf\u001b[0m\u001b[0;34m)\u001b[0m\u001b[0;34m.\u001b[0m\u001b[0mVariable\u001b[0m\u001b[0;34m,\u001b[0m \u001b[0;34m(\u001b[0m\u001b[0;36m1.0\u001b[0m\u001b[0;34m,\u001b[0m\u001b[0;34m)\u001b[0m\u001b[0;34m,\u001b[0m \u001b[0;32mNone\u001b[0m\u001b[0;34m,\u001b[0m \u001b[0mfscope\u001b[0m\u001b[0;34m)\u001b[0m\u001b[0;34m\u001b[0m\u001b[0;34m\u001b[0m\u001b[0m\n\u001b[0m\u001b[1;32m     11\u001b[0m                 \u001b[0mag__\u001b[0m\u001b[0;34m.\u001b[0m\u001b[0mconverted_call\u001b[0m\u001b[0;34m(\u001b[0m\u001b[0mag__\u001b[0m\u001b[0;34m.\u001b[0m\u001b[0mld\u001b[0m\u001b[0;34m(\u001b[0m\u001b[0mv\u001b[0m\u001b[0;34m)\u001b[0m\u001b[0;34m.\u001b[0m\u001b[0massign_add\u001b[0m\u001b[0;34m,\u001b[0m \u001b[0;34m(\u001b[0m\u001b[0mag__\u001b[0m\u001b[0;34m.\u001b[0m\u001b[0mld\u001b[0m\u001b[0;34m(\u001b[0m\u001b[0mx\u001b[0m\u001b[0;34m)\u001b[0m\u001b[0;34m,\u001b[0m\u001b[0;34m)\u001b[0m\u001b[0;34m,\u001b[0m \u001b[0;32mNone\u001b[0m\u001b[0;34m,\u001b[0m \u001b[0mfscope\u001b[0m\u001b[0;34m)\u001b[0m\u001b[0;34m\u001b[0m\u001b[0;34m\u001b[0m\u001b[0m\n\u001b[1;32m     12\u001b[0m                 \u001b[0;32mtry\u001b[0m\u001b[0;34m:\u001b[0m\u001b[0;34m\u001b[0m\u001b[0;34m\u001b[0m\u001b[0m\n",
            "\u001b[0;31mValueError\u001b[0m: in user code:\n\n    File \"<ipython-input-31-bb7fd4e9e5d1>\", line 5, in f  *\n        v = tf.Variable(1.0) # do not create variable here\n\n    ValueError: tf.function only supports singleton tf.Variables created on the first call. Make sure the tf.Variable is only created once or created outside tf.function. See https://www.tensorflow.org/guide/function#creating_tfvariables for more information.\n"
          ]
        }
      ]
    },
    {
      "cell_type": "markdown",
      "source": [
        "# Gradient wrt a model"
      ],
      "metadata": {
        "id": "jIEHajdVDmx_"
      }
    },
    {
      "cell_type": "markdown",
      "source": [
        "# Model Training：Custom Training Loop steps\n",
        "\n",
        "**references**:\n",
        "- [tensorflow documentation](https://www.tensorflow.org/guide/keras/customizing_what_happens_in_fit?fireglass_rsn=true)\n",
        "- [Coursera:Custom and Distributed Training with TensorFlow](https://www.coursera.org/learn/custom-distributed-training-with-tensorflow/lecture/qICrM/calculate-gradients-on-higher-order-functions)\n",
        "\n",
        "\n",
        "**basics:**\n",
        "\n",
        "- train using `model.compile()` and `model.fit()`\n",
        "- specify **optimizer**, **loss** etc in `model.compile()`\n",
        "- `model.fit()` loops through batches of training data to:\n",
        "  - update trainable weights to minimize loss\n",
        "  - achieves the above using chosen optimizer\n",
        "\n",
        "**steps for training network:**\n",
        "- define the network\n",
        "- prepare the training data\n",
        "- define loss and optimizer\n",
        "- train the model on training inputs by minimizing loss using custom optimizer\n",
        "- validate the model\n"
      ],
      "metadata": {
        "id": "esu6GhMuTAqy"
      }
    },
    {
      "cell_type": "code",
      "source": [
        "w = tf.Variable([[1.0]])\n",
        "\n",
        "with tf.GradientTape() as tape:\n",
        "\n",
        "  loss = w ** 2\n",
        "\n",
        "dw_dx = tape.gradient(loss, w)\n",
        "\n",
        "print(dw_dx)"
      ],
      "metadata": {
        "colab": {
          "base_uri": "https://localhost:8080/"
        },
        "id": "OrRFGws_AzDq",
        "outputId": "e11672d4-d0d9-42bd-c186-10a6fe089d4d"
      },
      "execution_count": null,
      "outputs": [
        {
          "output_type": "stream",
          "name": "stdout",
          "text": [
            "tf.Tensor([[2.]], shape=(1, 1), dtype=float32)\n"
          ]
        }
      ]
    },
    {
      "cell_type": "code",
      "source": [
        "# gradient descent with tf.gradienttape\n",
        "\n",
        "# exmaple\n",
        "def train_step(images, labels):\n",
        "\n",
        "  with tf.GradientTape() as tape:\n",
        "\n",
        "    # invoke the forward pass\n",
        "    # logits: raw model prediction for each category for\n",
        "    #         a multi-class classification\n",
        "    # usually logits are fed into a softmax function to\n",
        "    # turn them into probabilities for each category\n",
        "    logits = model(images, trainig=True)\n",
        "\n",
        "    # loss obtained for each forward pass\n",
        "    # to update the model in order to reduce the\n",
        "    # model's prediction errors\n",
        "    loss_value = loss_object(labels, logits)\n",
        "\n",
        "  # appending the average loss\n",
        "  loss_history.append(loss_value.numpy().mean())\n",
        "\n",
        "  # compute the gradients wrt to model variables\n",
        "  # passing the loss_value and all model trainable variables\n",
        "  grads = tape.gradient(loss_value, model.trainable_variables)\n",
        "\n",
        "  # apply gradient on an optimizer\n",
        "  optimizer.apply_gradient(zip(grads, model.trainable_variables))\n"
      ],
      "metadata": {
        "id": "N2df1_uUjpIg"
      },
      "execution_count": null,
      "outputs": []
    },
    {
      "cell_type": "code",
      "source": [
        "layer = tf.keras.layers.Dense(2, activation=\"relu\")\n",
        "x = tf.constant([[1., 2., 3.]])\n",
        "loss_history = []\n",
        "with tf.GradientTape() as tape:\n",
        "  # forward pass\n",
        "  y = layer(x)\n",
        "  # calculate the loss\n",
        "  loss = tf.reduce_mean(y**2)\n",
        "\n",
        "# appending losses\n",
        "loss_history.append(loss)\n",
        "print(\"loss history: \", loss_history, \"\\n\")\n",
        "\n",
        "# calculate gradients\n",
        "grad = tape.gradient(loss, layer.trainable_variables)\n",
        "print(grad)\n",
        "\n",
        "for var, g in zip(layer.trainable_variables, grad):\n",
        "  print(f'{var.name}, shape: {g.shape}, {g}')"
      ],
      "metadata": {
        "id": "cskitXz3cDDc",
        "colab": {
          "base_uri": "https://localhost:8080/"
        },
        "outputId": "16e71684-0ad4-43d1-d940-d72124688f98"
      },
      "execution_count": null,
      "outputs": [
        {
          "output_type": "stream",
          "name": "stdout",
          "text": [
            "loss history:  [<tf.Tensor: shape=(), dtype=float32, numpy=2.4353147>] \n",
            "\n",
            "[<tf.Tensor: shape=(3, 2), dtype=float32, numpy=\n",
            "array([[0.       , 2.2069502],\n",
            "       [0.       , 4.4139004],\n",
            "       [0.       , 6.6208506]], dtype=float32)>, <tf.Tensor: shape=(2,), dtype=float32, numpy=array([0.       , 2.2069502], dtype=float32)>]\n",
            "dense_4/kernel:0, shape: (3, 2), [[0.        2.2069502]\n",
            " [0.        4.4139004]\n",
            " [0.        6.6208506]]\n",
            "dense_4/bias:0, shape: (2,), [0.        2.2069502]\n"
          ]
        }
      ]
    },
    {
      "cell_type": "code",
      "source": [
        "x0 = tf.Variable(3.0, name=\"x0\")\n",
        "x1 = tf.Variable(3.0, name=\"x1\", trainable=False) # not trainable\n",
        "x2 = tf.Variable(3.0, name=\"x2\") + 1.0 # not trainable\n",
        "x3 = tf.constant(3.0, name=\"x2\") # not trainable cuz not a variable\n",
        "\n",
        "with tf.GradientTape() as tape:\n",
        "  y = (x0**2) + (x1**2) + (x2**2)\n",
        "\n",
        "grad = tape.gradient(y, [x0, x1, x2, x3])\n",
        "\n",
        "for g in grad:\n",
        "  print(g)"
      ],
      "metadata": {
        "colab": {
          "base_uri": "https://localhost:8080/"
        },
        "id": "H5dY1_g1ESKE",
        "outputId": "8768c86b-915f-45da-8066-d54317402f40"
      },
      "execution_count": null,
      "outputs": [
        {
          "output_type": "stream",
          "name": "stdout",
          "text": [
            "tf.Tensor(6.0, shape=(), dtype=float32)\n",
            "None\n",
            "None\n",
            "None\n"
          ]
        }
      ]
    },
    {
      "cell_type": "code",
      "source": [
        "[var.name for var in tape.watched_variables()]"
      ],
      "metadata": {
        "colab": {
          "base_uri": "https://localhost:8080/"
        },
        "id": "CzOkUy4PHGQw",
        "outputId": "ccf9f2ac-9f67-430c-8906-476620f197e8"
      },
      "execution_count": null,
      "outputs": [
        {
          "output_type": "execute_result",
          "data": {
            "text/plain": [
              "['x0:0']"
            ]
          },
          "metadata": {},
          "execution_count": 24
        }
      ]
    },
    {
      "cell_type": "code",
      "source": [
        "x = tf.constant(3.0)\n",
        "with tf.GradientTape() as tape:\n",
        "  tape.watch(x)\n",
        "  y = x**2\n",
        "# dy = 2x * dx\n",
        "dy_dx = tape.gradient(y, x)\n",
        "print(dy_dx.numpy())"
      ],
      "metadata": {
        "colab": {
          "base_uri": "https://localhost:8080/"
        },
        "id": "dzMNiCLJHl4z",
        "outputId": "7284fbbf-a839-4bc4-c208-893caf7bd539"
      },
      "execution_count": null,
      "outputs": [
        {
          "output_type": "stream",
          "name": "stdout",
          "text": [
            "6.0\n"
          ]
        }
      ]
    },
    {
      "cell_type": "code",
      "source": [
        "x = tf.Variable(3.0)\n",
        "with tf.GradientTape() as tape:\n",
        "  # tape.watch(x)\n",
        "  y = x**2\n",
        "# dy = 2x * dx\n",
        "dy_dx = tape.gradient(y, x)\n",
        "print(dy_dx.numpy())"
      ],
      "metadata": {
        "colab": {
          "base_uri": "https://localhost:8080/"
        },
        "id": "QXwlewJMHsIs",
        "outputId": "74394741-55df-4f0f-eaea-ea9f7436eab0"
      },
      "execution_count": null,
      "outputs": [
        {
          "output_type": "stream",
          "name": "stdout",
          "text": [
            "6.0\n"
          ]
        }
      ]
    },
    {
      "cell_type": "markdown",
      "source": [
        "### Intermediate results"
      ],
      "metadata": {
        "id": "A6rRqkobIAFW"
      }
    },
    {
      "cell_type": "code",
      "source": [
        "x = tf.constant(3.0)\n",
        "with tf.GradientTape() as tape:\n",
        "  tape.watch(x)\n",
        "  y = x * x\n",
        "  z = y * y\n",
        "# Use the tape to compute the gradient of z with respect to the\n",
        "# intermediate value y.\n",
        "# dz_dy = 2 * y and y = x ** 2 = 9\n",
        "print(tape.gradient(z, y).numpy())\n",
        "print(tape.gradient(z, y).numpy())\n"
      ],
      "metadata": {
        "colab": {
          "base_uri": "https://localhost:8080/",
          "height": 391
        },
        "id": "S9N0Z50cHyPR",
        "outputId": "fbb8ab1b-63a5-4d29-ca65-149f18b6f71d"
      },
      "execution_count": null,
      "outputs": [
        {
          "output_type": "stream",
          "name": "stdout",
          "text": [
            "18.0\n"
          ]
        },
        {
          "output_type": "error",
          "ename": "RuntimeError",
          "evalue": "ignored",
          "traceback": [
            "\u001b[0;31m---------------------------------------------------------------------------\u001b[0m",
            "\u001b[0;31mRuntimeError\u001b[0m                              Traceback (most recent call last)",
            "\u001b[0;32m<ipython-input-29-4cd11b70593d>\u001b[0m in \u001b[0;36m<module>\u001b[0;34m\u001b[0m\n\u001b[1;32m      8\u001b[0m \u001b[0;31m# dz_dy = 2 * y and y = x ** 2 = 9\u001b[0m\u001b[0;34m\u001b[0m\u001b[0;34m\u001b[0m\u001b[0;34m\u001b[0m\u001b[0m\n\u001b[1;32m      9\u001b[0m \u001b[0mprint\u001b[0m\u001b[0;34m(\u001b[0m\u001b[0mtape\u001b[0m\u001b[0;34m.\u001b[0m\u001b[0mgradient\u001b[0m\u001b[0;34m(\u001b[0m\u001b[0mz\u001b[0m\u001b[0;34m,\u001b[0m \u001b[0my\u001b[0m\u001b[0;34m)\u001b[0m\u001b[0;34m.\u001b[0m\u001b[0mnumpy\u001b[0m\u001b[0;34m(\u001b[0m\u001b[0;34m)\u001b[0m\u001b[0;34m)\u001b[0m\u001b[0;34m\u001b[0m\u001b[0;34m\u001b[0m\u001b[0m\n\u001b[0;32m---> 10\u001b[0;31m \u001b[0mprint\u001b[0m\u001b[0;34m(\u001b[0m\u001b[0mtape\u001b[0m\u001b[0;34m.\u001b[0m\u001b[0mgradient\u001b[0m\u001b[0;34m(\u001b[0m\u001b[0mz\u001b[0m\u001b[0;34m,\u001b[0m \u001b[0my\u001b[0m\u001b[0;34m)\u001b[0m\u001b[0;34m.\u001b[0m\u001b[0mnumpy\u001b[0m\u001b[0;34m(\u001b[0m\u001b[0;34m)\u001b[0m\u001b[0;34m)\u001b[0m\u001b[0;34m\u001b[0m\u001b[0;34m\u001b[0m\u001b[0m\n\u001b[0m",
            "\u001b[0;32m/usr/local/lib/python3.7/dist-packages/tensorflow/python/eager/backprop.py\u001b[0m in \u001b[0;36mgradient\u001b[0;34m(self, target, sources, output_gradients, unconnected_gradients)\u001b[0m\n\u001b[1;32m   1038\u001b[0m     \"\"\"\n\u001b[1;32m   1039\u001b[0m     \u001b[0;32mif\u001b[0m \u001b[0mself\u001b[0m\u001b[0;34m.\u001b[0m\u001b[0m_tape\u001b[0m \u001b[0;32mis\u001b[0m \u001b[0;32mNone\u001b[0m\u001b[0;34m:\u001b[0m\u001b[0;34m\u001b[0m\u001b[0;34m\u001b[0m\u001b[0m\n\u001b[0;32m-> 1040\u001b[0;31m       raise RuntimeError(\"A non-persistent GradientTape can only be used to \"\n\u001b[0m\u001b[1;32m   1041\u001b[0m                          \"compute one set of gradients (or jacobians)\")\n\u001b[1;32m   1042\u001b[0m     \u001b[0;32mif\u001b[0m \u001b[0mself\u001b[0m\u001b[0;34m.\u001b[0m\u001b[0m_recording\u001b[0m\u001b[0;34m:\u001b[0m\u001b[0;34m\u001b[0m\u001b[0;34m\u001b[0m\u001b[0m\n",
            "\u001b[0;31mRuntimeError\u001b[0m: A non-persistent GradientTape can only be used to compute one set of gradients (or jacobians)"
          ]
        }
      ]
    },
    {
      "cell_type": "code",
      "source": [
        "x = tf.constant([1.0, 3.0])\n",
        "with tf.GradientTape(persistent=True) as tape:\n",
        "  tape.watch(x)\n",
        "  y = x * x\n",
        "  z = y * y\n",
        "# Use the tape to compute the gradient of z with respect to the\n",
        "# intermediate value y.\n",
        "# dz_dy = 2 * y and y = x ** 2 = 9\n",
        "print(tape.gradient(z, x).numpy())\n",
        "print(tape.gradient(y, x).numpy())\n",
        "print(tape.gradient(z, x).numpy())\n",
        "print(tape.gradient(y, x).numpy())\n"
      ],
      "metadata": {
        "colab": {
          "base_uri": "https://localhost:8080/"
        },
        "id": "dfHR-8E7ISlK",
        "outputId": "b4714ffc-33d7-49e0-9184-a0921a8697a6"
      },
      "execution_count": null,
      "outputs": [
        {
          "output_type": "stream",
          "name": "stdout",
          "text": [
            "[  4. 108.]\n",
            "[2. 6.]\n",
            "[  4. 108.]\n",
            "[2. 6.]\n"
          ]
        }
      ]
    },
    {
      "cell_type": "code",
      "source": [
        "x = tf.linspace(-10.0, 10.0, 200+1)\n",
        "\n",
        "with tf.GradientTape() as tape:\n",
        "  tape.watch(x)\n",
        "  y = tf.nn.sigmoid(x)\n",
        "\n",
        "dy_dx = tape.gradient(y, x)"
      ],
      "metadata": {
        "id": "kKcvdQKOIjry"
      },
      "execution_count": null,
      "outputs": []
    },
    {
      "cell_type": "code",
      "source": [
        "# print(x, y, dy_dx)"
      ],
      "metadata": {
        "id": "rd4hdZ0fKIqj"
      },
      "execution_count": null,
      "outputs": []
    },
    {
      "cell_type": "code",
      "source": [
        "import matplotlib.pyplot as plt\n",
        "\n",
        "plt.plot(x, y, label=\"y\")\n",
        "plt.plot(x, dy_dx, label=\"dy/dx\")\n",
        "plt.legend()\n",
        "_ = plt.xlabel(\"x\")"
      ],
      "metadata": {
        "colab": {
          "base_uri": "https://localhost:8080/",
          "height": 279
        },
        "id": "eKgPOCj5Jks8",
        "outputId": "2ad128e1-728c-4596-e46b-4b593882618e"
      },
      "execution_count": null,
      "outputs": [
        {
          "output_type": "display_data",
          "data": {
            "text/plain": [
              "<Figure size 432x288 with 1 Axes>"
            ],
            "image/png": "[encoded data removed]"
          },
          "metadata": {
            "needs_background": "light"
          }
        }
      ]
    },
    {
      "cell_type": "code",
      "source": [
        "x = tf.constant(1.0)\n",
        "v0 = tf.Variable(2.0)\n",
        "v1 = tf.Variable(2.0)\n",
        "\n",
        "with tf.GradientTape(persistent=True) as tape:\n",
        "  tape.watch(x)\n",
        "  if x > 0.0:\n",
        "    result = v0\n",
        "  else:\n",
        "    result = v1**2\n",
        "\n",
        "dv0, dv1 = tape.gradient(result, [v0, v1])\n",
        "# the tape either records result = v0 or result = v1**2.\n",
        "# The gradient with respect to x is always None.\n",
        "print(dv0, dv1)"
      ],
      "metadata": {
        "colab": {
          "base_uri": "https://localhost:8080/"
        },
        "id": "JsfD150ZKFBx",
        "outputId": "c859eab3-8535-49b2-911f-83b4aad32275"
      },
      "execution_count": null,
      "outputs": [
        {
          "output_type": "stream",
          "name": "stdout",
          "text": [
            "tf.Tensor(1.0, shape=(), dtype=float32) None\n"
          ]
        }
      ]
    },
    {
      "cell_type": "markdown",
      "source": [
        "\n",
        "## Gradient Tape"
      ],
      "metadata": {
        "id": "Y4ppHd5zOy7n"
      }
    },
    {
      "cell_type": "code",
      "source": [
        "# higher order derivatives\n",
        "\n",
        "x = tf.constant(5.0)\n",
        "\n",
        "with tf.GradientTape() as g:\n",
        "  g.watch(x)\n",
        "  with tf.GradientTape() as gg:\n",
        "    gg.watch(x)\n",
        "    y = x * x\n",
        "  dy_dx = gg.gradient(y, x)\n",
        "d2y_dx2 = g.gradient(dy_dx, x)\n",
        "\n",
        "print(dy_dx)\n",
        "print(d2y_dx2)"
      ],
      "metadata": {
        "colab": {
          "base_uri": "https://localhost:8080/"
        },
        "id": "dl2ETvWqLV_e",
        "outputId": "6a038052-43cc-4b1d-8a53-5e5cecb9c4b8"
      },
      "execution_count": null,
      "outputs": [
        {
          "output_type": "stream",
          "name": "stdout",
          "text": [
            "tf.Tensor(10.0, shape=(), dtype=float32)\n",
            "tf.Tensor(2.0, shape=(), dtype=float32)\n"
          ]
        }
      ]
    },
    {
      "cell_type": "code",
      "source": [
        "# tf variable and constants\n",
        "\n",
        "x = tf.Variable(3.0)\n",
        "x2 = tf.Variable(3.0)\n",
        "\n",
        "# persistent=True to compute multiple gradients\n",
        "# over the same computation\n",
        "\n",
        "with tf.GradientTape(persistent=True) as g:\n",
        "    y = x * x\n",
        "    y2 = y * x2\n",
        "dy_dx = g.gradient(y, x)       # 6\n",
        "dy2_dx2 = g.gradient(y2, x2)   # 9\n",
        "del g  # Drop the reference to the tape\n",
        "print(dy_dx)\n",
        "print(dy2_dx2)"
      ],
      "metadata": {
        "colab": {
          "base_uri": "https://localhost:8080/"
        },
        "id": "vELfnLuW7G5L",
        "outputId": "1d773eb8-b3f9-49cb-da27-6c9164f9c3ed"
      },
      "execution_count": null,
      "outputs": [
        {
          "output_type": "stream",
          "name": "stdout",
          "text": [
            "tf.Tensor(6.0, shape=(), dtype=float32)\n",
            "tf.Tensor(9.0, shape=(), dtype=float32)\n"
          ]
        }
      ]
    },
    {
      "cell_type": "code",
      "source": [
        "# by default all trainable variables are watched\n",
        "# set watch_accessed_variables=False to\n",
        "\n",
        "x = tf.Variable(2.0)\n",
        "w = tf.Variable(5.0)\n",
        "\n",
        "with tf.GradientTape(\n",
        "    watch_accessed_variables=False,\n",
        "    persistent=True\n",
        ") as tape:\n",
        "  tape.watch(x)\n",
        "  y = x ** 2\n",
        "  z = w ** 3\n",
        "dy_dx = tape.gradient(y, x)\n",
        "dw_dx = tape.gradient(w, x)\n",
        "print(dy_dx)\n",
        "print(dw_dx) # output None cuz"
      ],
      "metadata": {
        "colab": {
          "base_uri": "https://localhost:8080/"
        },
        "id": "59KOCKxU7Kp0",
        "outputId": "38108de0-7950-4b57-8d18-56e1e139fa34"
      },
      "execution_count": null,
      "outputs": [
        {
          "output_type": "stream",
          "name": "stdout",
          "text": [
            "tf.Tensor(4.0, shape=(), dtype=float32)\n",
            "None\n"
          ]
        }
      ]
    },
    {
      "cell_type": "code",
      "source": [
        "# a simple machine leaning example\n",
        "\n",
        "import numpy as np\n",
        "import random\n",
        "\n",
        "# gradient tape\n",
        "\n",
        "def fit_data(real_x, real_y):\n",
        "\n",
        "  with tf.GradientTape(persistent=True) as tape:\n",
        "\n",
        "    # usually two things to do inside gradient tape\n",
        "    # (i) make predicrtion\n",
        "    pred_y = w * real_x + b\n",
        "\n",
        "    # (ii) calculate loss\n",
        "    reg_loss = simple_loss(real_y, pred_y)\n",
        "\n",
        "  # calculate gradients\n",
        "  w_gradient = tape.gradient(reg_loss, w)\n",
        "  b_gradient = tape.gradient(reg_loss, b)\n",
        "\n",
        "  # update variables\n",
        "  w.assign_sub(w_gradient, LEARNING_RATE)\n",
        "  b.assign_sub(b_gradient, LEARNING_RATE)\n",
        "\n",
        "# training data\n",
        "x_train = np.array([-1.0, 0.0, 1.0, 2.0, 3.0, 4.0], dtype=float)\n",
        "y_train = np.array([-3.0, -1.0, 1.0, 3.0, 5.0, 7.0], dtype=float)\n",
        "\n",
        "# trainable variables\n",
        "w = tf.Variable(random.random(), trainable=True) # set as True so gradienttape will track them\n",
        "b = tf.Variable(random.random(), trainable=True)\n",
        "\n",
        "# loss function\n",
        "def simple_loss(real_y, pred_y):\n",
        "  return tf.abs(real_y - pred_y)\n",
        "\n",
        "# learning rate\n",
        "LEARNING_RATE = 0.001\n",
        "\n",
        "# training\n",
        "for _ in range(500):\n",
        "  fit_data(x_train, y_train)\n",
        "\n",
        "print(f\"y = {w.numpy()}x + {b.numpy()}\")"
      ],
      "metadata": {
        "colab": {
          "base_uri": "https://localhost:8080/"
        },
        "id": "zPill4KCO8pu",
        "outputId": "4461be4e-1187-4394-d078-8ff1f1a52c6c"
      },
      "execution_count": null,
      "outputs": [
        {
          "output_type": "stream",
          "name": "stdout",
          "text": [
            "y ~= 0.3180198669433594x + -1.7427592277526855\n"
          ]
        }
      ]
    },
    {
      "cell_type": "markdown",
      "source": [],
      "metadata": {
        "id": "GAvwMQ5KQRjf"
      }
    },
    {
      "cell_type": "code",
      "source": [
        "a = tf.keras.layers.Dense(32)\n",
        "a.variables"
      ],
      "metadata": {
        "colab": {
          "base_uri": "https://localhost:8080/"
        },
        "id": "2gnD-b37Ntbj",
        "outputId": "68fd97d4-4e0e-460d-b4cd-6bdac8f65ace"
      },
      "execution_count": null,
      "outputs": [
        {
          "output_type": "execute_result",
          "data": {
            "text/plain": [
              "[]"
            ]
          },
          "metadata": {},
          "execution_count": 7
        }
      ]
    },
    {
      "cell_type": "code",
      "source": [
        "a = tf.keras.layers.Dense(32)\n",
        "b = tf.keras.layers.Dense(32)\n",
        "\n",
        "with tf.GradientTape(\n",
        "    watch_accessed_variables=False # watch any trainable variables\n",
        ") as tape:\n",
        "  tape.watch(a.variables)\n",
        "  result = b(a(inputs))\n",
        "tape.gradient(result, a.variables)"
      ],
      "metadata": {
        "colab": {
          "base_uri": "https://localhost:8080/",
          "height": 226
        },
        "id": "3BSdoAf8MnRE",
        "outputId": "c5f5399e-146f-47b9-bcb1-28f1e4316680"
      },
      "execution_count": null,
      "outputs": [
        {
          "output_type": "error",
          "ename": "NameError",
          "evalue": "ignored",
          "traceback": [
            "\u001b[0;31m---------------------------------------------------------------------------\u001b[0m",
            "\u001b[0;31mNameError\u001b[0m                                 Traceback (most recent call last)",
            "\u001b[0;32m<ipython-input-8-5ab58d8af1a4>\u001b[0m in \u001b[0;36m<module>\u001b[0;34m\u001b[0m\n\u001b[1;32m      6\u001b[0m ) as tape:\n\u001b[1;32m      7\u001b[0m   \u001b[0mtape\u001b[0m\u001b[0;34m.\u001b[0m\u001b[0mwatch\u001b[0m\u001b[0;34m(\u001b[0m\u001b[0ma\u001b[0m\u001b[0;34m.\u001b[0m\u001b[0mvariables\u001b[0m\u001b[0;34m)\u001b[0m\u001b[0;34m\u001b[0m\u001b[0;34m\u001b[0m\u001b[0m\n\u001b[0;32m----> 8\u001b[0;31m   \u001b[0mresult\u001b[0m \u001b[0;34m=\u001b[0m \u001b[0mb\u001b[0m\u001b[0;34m(\u001b[0m\u001b[0ma\u001b[0m\u001b[0;34m(\u001b[0m\u001b[0minputs\u001b[0m\u001b[0;34m)\u001b[0m\u001b[0;34m)\u001b[0m\u001b[0;34m\u001b[0m\u001b[0;34m\u001b[0m\u001b[0m\n\u001b[0m\u001b[1;32m      9\u001b[0m   \u001b[0mtape\u001b[0m\u001b[0;34m.\u001b[0m\u001b[0mgradient\u001b[0m\u001b[0;34m(\u001b[0m\u001b[0mresult\u001b[0m\u001b[0;34m,\u001b[0m \u001b[0ma\u001b[0m\u001b[0;34m.\u001b[0m\u001b[0mvariables\u001b[0m\u001b[0;34m)\u001b[0m\u001b[0;34m\u001b[0m\u001b[0;34m\u001b[0m\u001b[0m\n",
            "\u001b[0;31mNameError\u001b[0m: name 'inputs' is not defined"
          ]
        }
      ]
    },
    {
      "cell_type": "code",
      "source": [
        "# batch jacobian\n",
        "\n",
        "with tf.GradientTape() as g:\n",
        "  x = tf.constant([[1., 2.], [3., 4.]], dtype=tf.float32)\n",
        "  g.watch(x)\n",
        "  y = x*x\n",
        "\n",
        "batch_jacobian = g.batch_jacobian(y, x)\n",
        "\n",
        "print(batch_jacobian)"
      ],
      "metadata": {
        "id": "mGHI1e5NN5hU"
      },
      "execution_count": null,
      "outputs": []
    },
    {
      "cell_type": "code",
      "source": [
        "# jacobian\n",
        "\n",
        "with tf.GradientTape() as g:\n",
        "  x = tf.constant([1, 2], dtype=tf.float32)\n",
        "  g.watch(x)\n",
        "  y = x*x\n",
        "\n",
        "jacobian = g.jacobian(y, x)\n",
        "\n",
        "print(jacobian)"
      ],
      "metadata": {
        "id": "SSRwG-5SZXIC"
      },
      "execution_count": null,
      "outputs": []
    },
    {
      "cell_type": "code",
      "source": [
        "# reset\n",
        "\n",
        "with tf.GradientTape() as tape:\n",
        "  loss = loss_fn()\n",
        "with tf.GradientTape() as tape:\n",
        "  loss += other_loss_fn()\n",
        "t.gradient(loss, ..)"
      ],
      "metadata": {
        "colab": {
          "base_uri": "https://localhost:8080/",
          "height": 135
        },
        "id": "uxZyFgxzaF5G",
        "outputId": "2384b447-671b-4c2e-bde8-f28178563861"
      },
      "execution_count": null,
      "outputs": [
        {
          "output_type": "error",
          "ename": "SyntaxError",
          "evalue": "ignored",
          "traceback": [
            "\u001b[0;36m  File \u001b[0;32m\"<ipython-input-9-403669b758ad>\"\u001b[0;36m, line \u001b[0;32m7\u001b[0m\n\u001b[0;31m    t.gradient(loss, ..)\u001b[0m\n\u001b[0m                     ^\u001b[0m\n\u001b[0;31mSyntaxError\u001b[0m\u001b[0;31m:\u001b[0m invalid syntax\n"
          ]
        }
      ]
    },
    {
      "cell_type": "code",
      "source": [
        "# GradientTape() on tensors\n",
        "\n",
        "w = tf.Variable(tf.random.normal((3, 2)), name=\"w\")\n",
        "b = tf.Variable(tf.zeros(2, dtype=tf.float32), name=\"b\")\n",
        "x = [[1., 2., 3.]]\n",
        "\n",
        "with tf.GradientTape(persistent=True) as tape:\n",
        "  y = x @ w  + b\n",
        "  loss = tf.reduce_mean(y**2)\n",
        "\n",
        "[dl_dw, dl_db] = tape.gradient(loss, [w, b])"
      ],
      "metadata": {
        "id": "DVR10KvfbraU"
      },
      "execution_count": null,
      "outputs": []
    },
    {
      "cell_type": "code",
      "source": [
        "dl_dw, dl_db"
      ],
      "metadata": {
        "colab": {
          "base_uri": "https://localhost:8080/"
        },
        "id": "T8Sf8gVTCW2a",
        "outputId": "adee93ca-1ce5-4125-caa2-55e47ab08ac9"
      },
      "execution_count": null,
      "outputs": [
        {
          "output_type": "execute_result",
          "data": {
            "text/plain": [
              "(<tf.Tensor: shape=(3, 2), dtype=float32, numpy=\n",
              " array([[ -4.7988124,  -0.5380175],\n",
              "        [ -9.597625 ,  -1.076035 ],\n",
              "        [-14.396437 ,  -1.6140525]], dtype=float32)>,\n",
              " <tf.Tensor: shape=(2,), dtype=float32, numpy=array([-4.7988124, -0.5380175], dtype=float32)>)"
            ]
          },
          "metadata": {},
          "execution_count": 12
        }
      ]
    },
    {
      "cell_type": "markdown",
      "source": [
        "## A simple regression model"
      ],
      "metadata": {
        "id": "mR2oUJHvIfmp"
      }
    },
    {
      "cell_type": "code",
      "source": [
        "# import dependencies\n",
        "import tensorflow as tf\n",
        "import matplotlib.pyplot as plt\n",
        "import numpy as np\n",
        "\n",
        "# some customized functions\n",
        "\n",
        "def plot_data(iputs, outputs, predicted_outputs):\n",
        "  real = plt.scatter(inputs, outputs, c=\"b\")\n",
        "  predicted = plt.scatter(inputs, predicted_outputs, c=\"r\")\n",
        "  plt.legend((real, predicted), (\"real data\", \"predicted data\"))\n",
        "  plt.show()\n",
        "\n",
        "\n",
        "# 1. define the model from scratch\n",
        "\n",
        "class Model():\n",
        "  def __init__(self):\n",
        "    self.w = tf.Variable(5.0)\n",
        "    self.b = tf.Variable(0.0)\n",
        "\n",
        "  def __call__(self, x):\n",
        "    return self.w * x + self.b\n",
        "\n",
        "# 2. prepare the training data\n",
        "\n",
        "TRUE_w = 3.0\n",
        "TRUE_b = 2.0\n",
        "\n",
        "NUM_EXAMPLES = 1000\n",
        "\n",
        "random_xs = tf.random.normal(shape=[NUM_EXAMPLES])\n",
        "\n",
        "ys = (TRUE_w * random_xs) + TRUE_b\n",
        "\n",
        "# 3. mean squared error loss\n",
        "\n",
        "def loss(y_true, y_pred):\n",
        "  return tf.reduce_mean(tf.square(y_true, y_pred))\n",
        "\n",
        "# 4. train the model\n",
        "\n",
        "# Training loop:\n",
        "# --------------\n",
        "# 1. initialize model\n",
        "# 2. for each epoch:\n",
        "#    2.1 calculate loss for each input\n",
        "#    2.2 calculate gradient of loss using GradientTape\n",
        "#    2.3 update model Trainable weights using gradient\n",
        "#        and learning rate\n",
        "\n",
        "# calculate partial derivative of loss\n",
        "def train(model, inputs, outputs, learning_rate):\n",
        "  with tf.GradientTape() as tape:\n",
        "    current_loss = loss(model(inputs), outputs)\n",
        "\n",
        "  # caculate the gradient (which is the derivative of w and b)\n",
        "  # dL_dw and dL_db\n",
        "  dw, db = tape.gradient(current_loss, [model.w, model.b])\n",
        "\n",
        "  # update the model variables\n",
        "  model.w.assign_sub(learning_rate * dw) # w = w - learning_rate * dL_dw\n",
        "  model.b.assign_sub(learning_rate * db) # b = b - learning_rate * dL_db\n",
        "\n",
        "  return current_loss\n",
        "\n",
        "# define the training loops\n",
        "model = Model()\n",
        "\n",
        "list_w, list_b = [], []\n",
        "losses = []\n",
        "\n",
        "epochs = range(20)\n",
        "\n",
        "for epoch in epochs:\n",
        "  list_w.append(model.w.numpy())\n",
        "  list_b.append(model.b.numpy())\n",
        "  current_loss = train(model, random_xs, ys, learning_rate=0.1)\n",
        "  losses.append(current_loss)\n",
        "  print(f\"Epoch: {epoch}: w={list_w[-1]:1.2f}, b={list_b[-1]:1.2f}, loss={current_loss:2.5f}\")\n",
        "\n",
        "# 5. validate the model\n",
        "\n",
        "plt.plot(epochs, list_w, \"r\",\n",
        "         epochs, list_b, \"b\")\n",
        "\n",
        "plt.plot([TRUE_w] * len(epochs), \"r--\",\n",
        "         [TRUE_b] * len(epochs), \"b--\")\n",
        "plt.legend([\"w\", \"b\", \"True w\", \"True b\"])\n",
        "plt.show()"
      ],
      "metadata": {
        "id": "01_Ri0I6zKos",
        "colab": {
          "base_uri": "https://localhost:8080/",
          "height": 621
        },
        "outputId": "66495c21-bdab-45ad-d053-75f917e83965"
      },
      "execution_count": null,
      "outputs": [
        {
          "output_type": "stream",
          "name": "stdout",
          "text": [
            "Epoch: 0: w=5.00, b=0.00, loss=26.43782\n",
            "Epoch: 1: w=3.94, b=0.02, loss=16.43521\n",
            "Epoch: 2: w=3.11, b=0.03, loss=10.21774\n",
            "Epoch: 3: w=2.45, b=0.03, loss=6.35280\n",
            "Epoch: 4: w=1.93, b=0.03, loss=3.95010\n",
            "Epoch: 5: w=1.52, b=0.03, loss=2.45631\n",
            "Epoch: 6: w=1.20, b=0.03, loss=1.52754\n",
            "Epoch: 7: w=0.95, b=0.03, loss=0.95003\n",
            "Epoch: 8: w=0.75, b=0.03, loss=0.59090\n",
            "Epoch: 9: w=0.59, b=0.02, loss=0.36756\n",
            "Epoch: 10: w=0.46, b=0.02, loss=0.22866\n",
            "Epoch: 11: w=0.37, b=0.02, loss=0.14226\n",
            "Epoch: 12: w=0.29, b=0.02, loss=0.08851\n",
            "Epoch: 13: w=0.23, b=0.01, loss=0.05508\n",
            "Epoch: 14: w=0.18, b=0.01, loss=0.03428\n",
            "Epoch: 15: w=0.14, b=0.01, loss=0.02133\n",
            "Epoch: 16: w=0.11, b=0.01, loss=0.01328\n",
            "Epoch: 17: w=0.09, b=0.01, loss=0.00827\n",
            "Epoch: 18: w=0.07, b=0.01, loss=0.00515\n",
            "Epoch: 19: w=0.05, b=0.01, loss=0.00320\n"
          ]
        },
        {
          "output_type": "display_data",
          "data": {
            "text/plain": [
              "<Figure size 432x288 with 1 Axes>"
            ],
            "image/png": "[encoded data removed]"
          },
          "metadata": {
            "needs_background": "light"
          }
        }
      ]
    },
    {
      "cell_type": "markdown",
      "source": [
        "## A simple neural network"
      ],
      "metadata": {
        "id": "HpZaejbAZoI9"
      }
    },
    {
      "cell_type": "code",
      "source": [
        "import tensorflow as tf\n",
        "import tensorflow_datasets as tfds"
      ],
      "metadata": {
        "id": "hyz1Q-OHI16q"
      },
      "execution_count": null,
      "outputs": []
    },
    {
      "cell_type": "markdown",
      "source": [
        "### 1. Define the network"
      ],
      "metadata": {
        "id": "eMTC4tTDIt52"
      }
    },
    {
      "cell_type": "code",
      "source": [
        "def base_model():\n",
        "  inputs = tf.keras.Input(shape=(784, ), name=\"clothing\")\n",
        "  x = tf.keras.layers.Dense(64, activation=\"relu\", name=\"dense_1\")(inputs)\n",
        "  x = tf.keras.layers.Dense(64, activation=\"relu\", name=\"dense_2\")(x)\n",
        "  output = tf.keras.layers.Dense(10, activation=\"softmax\", name=\"predictions\")(x)\n",
        "\n",
        "  model = tf.keras.Model(inputs=inputs, outputs=outputs)\n",
        "  return model"
      ],
      "metadata": {
        "id": "ubkyEFziIsZm"
      },
      "execution_count": null,
      "outputs": []
    },
    {
      "cell_type": "markdown",
      "source": [
        "### 2. Prepare Training Data Pipeline"
      ],
      "metadata": {
        "id": "wDO8-27XJazn"
      }
    },
    {
      "cell_type": "code",
      "source": [
        "train_data = tfds.load(\"fashion_mnist\", split=\"train\")\n",
        "test_data = tfds.load(\"fashion_mnist\", split=\"test\")\n",
        "\n",
        "def format_image(data):\n",
        "  image = data[\"image\"]\n",
        "  image = tf.reshape(image, [-1])\n",
        "  image = tf.cast(image, \"float32\")\n",
        "  image = image/255.0\n",
        "  return image, data[\"label\"]\n",
        "\n",
        "train_data = train_data.map(format_image)\n",
        "test_data = test_data.map(format_image)\n",
        "\n",
        "batch_size = 64\n",
        "train = train_data.shuffle(buffer_size=1024).batch(batch_size)\n",
        "test = test_data.batch(batch_size=batch_size)"
      ],
      "metadata": {
        "id": "3P3VHoWTIsXy"
      },
      "execution_count": null,
      "outputs": []
    },
    {
      "cell_type": "markdown",
      "source": [
        "### 3. Define Loss and Optimizer"
      ],
      "metadata": {
        "id": "UnYV-1MwKpc9"
      }
    },
    {
      "cell_type": "code",
      "source": [
        "loss_object = tf.keras.losses.SparseCategoricalCrossentropy()\n",
        "optimizer = tf.keras.optimizers.Adam()"
      ],
      "metadata": {
        "id": "smrbB5v-IsVk"
      },
      "execution_count": null,
      "outputs": []
    },
    {
      "cell_type": "markdown",
      "source": [
        "### 4. Define the Metrics\n",
        "\n",
        "Low level handling of `keras` metrics\n",
        "\n",
        "* call `metric.update_state()` to accumulate metric statistics after each batch\n",
        "* call `metric.result` to get current value of metric for display\n",
        "* call `metric.reset_state()` to reset metric value typically at end of epoch"
      ],
      "metadata": {
        "id": "CZZh3Hr53RRe"
      }
    },
    {
      "cell_type": "code",
      "source": [
        "train_acc_metric = tf.keras.metrics.SparseCategoricalAccuracy()\n",
        "val_acc_metric = tf.keras.metrics.SparseCategoricalAccuracy()"
      ],
      "metadata": {
        "id": "Ykvvz_rMNGn6"
      },
      "execution_count": null,
      "outputs": []
    },
    {
      "cell_type": "markdown",
      "source": [
        "### 5. Define the Training Loop\n",
        "\n",
        "* for each epoch, loop through the training batches and calculate gradients\n",
        "* these gradients are used according to the optimization algorithm chosen, to update the trainable weights of the model\n",
        "* loop through validation batches and calculate validation loss"
      ],
      "metadata": {
        "id": "SQjzeG-nIlg3"
      }
    },
    {
      "cell_type": "code",
      "source": [
        "# calculate and apply gradients\n",
        "def apply_gradient(optimizer, model, x, y):\n",
        "  with tf.GradientTape() as tape:\n",
        "    logits = model(x)\n",
        "    loss_value = loss_object(y_true=y, y_pred=logits)\n",
        "\n",
        "  # differentiating the trainable weights against loss to calculate\n",
        "  # the gradients\n",
        "  gradients = tape.gradient(loss_value, model.trainable_weights)\n",
        "\n",
        "  # using the optimizer to update the trainable weights\n",
        "  # is zip only for batches?\n",
        "  optimizer.apply_gradients(zip(gradients, model.trainable_weights))\n",
        "\n",
        "  return logits, loss_value\n",
        "\n",
        "\n",
        "def train_data_for_one_epoch():\n",
        "  losses = []\n",
        "  pbar = tqdm(total=len(list(enumerate(train))), position=0, leave=True,\n",
        "              bar_format=\"{l_bar}{bar}| {n_fmt}/{total_fmt}\")\n",
        "  for step, (x_batch_train, y_batch_train) in enumerate(train):\n",
        "\n",
        "    logits, loss_value = apply_gradient(optimizer, model, x_batch_train, y_batch_train)\n",
        "\n",
        "    losses.append(loss_value)\n",
        "    # calcualting the accuracy by passing the groudtruth and prediction logits\n",
        "    train_acc_metric(y_batch_train, logits)\n",
        "    pbar.set_description(\"training loss for step %s: $.4f\" % (int(step), float(loss_value))\n",
        "    pbar.update()\n",
        "\n",
        "  return losses\n",
        "\n",
        "\n",
        "# calculate validation loss\n",
        "def perform_validation():\n",
        "  losses = []\n",
        "  # iterate through the validation batches\n",
        "  for x_val, y_val in test:\n",
        "\n",
        "    val_logits = model(x_val)\n",
        "    val_loss = loss_object(y_true=y_val, y_pred=val_logits)\n",
        "    losses.append(val_loss)\n",
        "    val_acc_metric(y_val, val_logits)\n",
        "\n",
        "  return losses"
      ],
      "metadata": {
        "id": "SQlv286aMMfM"
      },
      "execution_count": null,
      "outputs": []
    },
    {
      "cell_type": "markdown",
      "source": [
        "### Training the Model"
      ],
      "metadata": {
        "id": "diJ233AB7H7u"
      }
    },
    {
      "cell_type": "code",
      "source": [
        "model = base_model()\n",
        "\n",
        "epochs = 10\n",
        "\n",
        "for epoch in range(epochs):\n",
        "\n",
        "  # run through training batches\n",
        "  losses_train = train_data_for_one_epoch()\n",
        "  train_acc = train_acc_metric.result()\n",
        "\n",
        "  # calculate validation loss and metrics\n",
        "  losses_val = perform_validation()\n",
        "  val_acc = val_acc_metric.result()\n",
        "\n",
        "  losses_train_mean = np.mean(losses_train)\n",
        "  loss_val_mean = np.mean(losses_val)\n",
        "\n",
        "  epochs_val_loss.append(losses_val_mean)\n",
        "  epochs_train_losses.append(losses_train_mean)\n",
        "\n",
        "  print()\n",
        "\n",
        "  train_acc_metric.reset_states()\n",
        "  val_acc_metric.reset_states()"
      ],
      "metadata": {
        "id": "VZKZqW8HK5P6"
      },
      "execution_count": null,
      "outputs": []
    },
    {
      "cell_type": "markdown",
      "source": [],
      "metadata": {
        "id": "ERGW1Scw6s-Q"
      }
    },
    {
      "cell_type": "code",
      "source": [
        "import tensorflow as tf\n",
        "from tensorflow import keras"
      ],
      "metadata": {
        "id": "HNe6k0OaUkFS"
      },
      "execution_count": null,
      "outputs": []
    },
    {
      "cell_type": "code",
      "source": [
        "class CustomModel(keras.Model):\n",
        "\n",
        "  def train_step(self, data):\n",
        "    x, y = data\n",
        "\n",
        "    with tf.GradientTape() as tape:\n",
        "      y_pred = self(x, training=True) # forward pass\n",
        "      loss = self.compiled_loss(y, y_pred, regularization_losses=self.losses)\n",
        "\n",
        "    # compute gradients\n",
        "    trainable_vars = self.trainable_variables\n",
        "    gradients = tape.gradient(loss, trainable_vars)\n",
        "    # update weights\n",
        "    self.optimizer.apply_gradients(zip(gradients, trainable_vars))\n",
        "\n",
        "    # update metrics\n",
        "    self.compiled_metrics.update_state(y, y_pred)\n",
        "    # return a dict mapping metric names to current value\n",
        "    return {m.name: m.result() for m in self.metrics}"
      ],
      "metadata": {
        "id": "mF3Hv5gbTAdP"
      },
      "execution_count": null,
      "outputs": []
    },
    {
      "cell_type": "code",
      "source": [
        "import numpy as np\n",
        "# Construct and compile an instance of CustomModel\n",
        "inputs = keras.Input(shape=(32,))\n",
        "outputs = keras.layers.Dense(1)(inputs)\n",
        "model = CustomModel(inputs, outputs)\n",
        "model.compile(optimizer=\"adam\", loss=\"mse\", metrics=[\"mae\"])\n",
        "# Just use `fit` as usual\n",
        "x = np.random.random((1000, 32))\n",
        "y = np.random.random((1000, 1))\n",
        "model.fit(x, y, epochs=3)"
      ],
      "metadata": {
        "colab": {
          "base_uri": "https://localhost:8080/"
        },
        "id": "w2I1qJvrKsZm",
        "outputId": "7a2b3b40-139c-4f5d-ed7f-1abc267366a6"
      },
      "execution_count": null,
      "outputs": [
        {
          "output_type": "stream",
          "name": "stdout",
          "text": [
            "Epoch 1/3\n",
            "32/32 [==============================] - 1s 2ms/step - loss: 0.4958 - mae: 0.5884\n",
            "Epoch 2/3\n",
            "32/32 [==============================] - 0s 2ms/step - loss: 0.2260 - mae: 0.3855\n",
            "Epoch 3/3\n",
            "32/32 [==============================] - 0s 2ms/step - loss: 0.1989 - mae: 0.3613\n"
          ]
        },
        {
          "output_type": "execute_result",
          "data": {
            "text/plain": [
              "<keras.callbacks.History at 0x7fa678e3ea50>"
            ]
          },
          "metadata": {},
          "execution_count": 4
        }
      ]
    },
    {
      "cell_type": "markdown",
      "source": [
        "## Going Lower-level"
      ],
      "metadata": {
        "id": "Qvui6TvsX51K"
      }
    },
    {
      "cell_type": "code",
      "source": [
        "loss_tracker = keras.metrics.Mean(name=\"loss\")\n",
        "mae_metric = keras.metrics.MeanAbsoluteError(name=\"mae\")\n",
        "\n",
        "class CustomModel(keras.Model):\n",
        "  def train_step(self, data):\n",
        "    # unpack data, depends on model structure\n",
        "    x, y = data\n",
        "\n",
        "    with tf.GradientTape() as tape:\n",
        "      y_pred = self(x, training=True) # forward pass\n",
        "      # our own loss\n",
        "      loss = keras.losses.mean_squared_error(y, y_pred)\n",
        "\n",
        "    # compute gradients\n",
        "    trainable_vars = self.trainable_variables\n",
        "    gradients = tape.gradient(loss, trainable_vars)\n",
        "\n",
        "    # update weights\n",
        "    self.optimizer.apply_gradients(zip(gradients, trainable_vars))\n",
        "\n",
        "    # compute own metrics\n",
        "    loss_tracker.update_state(loss)\n",
        "    mae_metric.update_state(y, y_pred)\n",
        "    return {\"loss\": loss_tracker.result(), \"mae\": mae_metric.result()}\n",
        "\n",
        "    @property\n",
        "    def metrics(self):\n",
        "      return [loss_tracker, mae_metric]"
      ],
      "metadata": {
        "id": "GX23iwqFX5g_"
      },
      "execution_count": null,
      "outputs": []
    },
    {
      "cell_type": "code",
      "source": [
        "inputs = keras.Input(shape=(32, ))\n",
        "outputs = keras.layers.Dense(1)(inputs)\n",
        "model = CustomModel(inputs, outputs)\n",
        "\n",
        "# dont pass a loss or metrics here\n",
        "model.compile(optimizer=\"adam\")\n",
        "\n",
        "# Just use `fit` as usual -- you can use callbacks, etc.\n",
        "x = np.random.random((1000, 32))\n",
        "y = np.random.random((1000, 1))\n",
        "model.fit(x, y, epochs=5)"
      ],
      "metadata": {
        "colab": {
          "base_uri": "https://localhost:8080/"
        },
        "id": "6NS8t1C1QdyB",
        "outputId": "28a1cdef-d8ee-4273-89d4-4b4287e9a554"
      },
      "execution_count": null,
      "outputs": [
        {
          "output_type": "stream",
          "name": "stdout",
          "text": [
            "Epoch 1/5\n",
            "32/32 [==============================] - 0s 1ms/step - loss: 0.3170 - mae: 0.4534\n",
            "Epoch 2/5\n",
            "32/32 [==============================] - 0s 2ms/step - loss: 0.2606 - mae: 0.4136\n",
            "Epoch 3/5\n",
            "32/32 [==============================] - 0s 2ms/step - loss: 0.2460 - mae: 0.4011\n",
            "Epoch 4/5\n",
            "32/32 [==============================] - 0s 2ms/step - loss: 0.2387 - mae: 0.3948\n",
            "Epoch 5/5\n",
            "32/32 [==============================] - 0s 2ms/step - loss: 0.2319 - mae: 0.3895\n"
          ]
        },
        {
          "output_type": "execute_result",
          "data": {
            "text/plain": [
              "<keras.callbacks.History at 0x7fa678d95f50>"
            ]
          },
          "metadata": {},
          "execution_count": 6
        }
      ]
    },
    {
      "cell_type": "markdown",
      "source": [
        "### Sample weights and class weights"
      ],
      "metadata": {
        "id": "uLmsDEWbJ22U"
      }
    },
    {
      "cell_type": "code",
      "source": [
        "class CustomModel(keras.Model):\n",
        "\n",
        "  def train_step(self, data):\n",
        "    if len(data) == 3:\n",
        "      x, y, sample_weight = data\n",
        "    else:\n",
        "      sample_weight = None\n",
        "      x, y = data\n",
        "\n",
        "    with tf.GradientTape() as tape:\n",
        "      y_pred = self(x, training=True)\n",
        "      loss = self.compiled_loss(\n",
        "          y,\n",
        "          y_pred,\n",
        "          sample_weight=sample_weight,\n",
        "          regularization_losses=self.losses,\n",
        "      )\n",
        "\n",
        "      # compute gradient\n",
        "      trainable_vars = self.trainable_variables\n",
        "      gradients = tape.gradient(loss, trainable_vars)\n",
        "\n",
        "      # update weights\n",
        "      self.optimizer.apply_gradients(zip(gradients, trainable_vars))\n",
        "\n",
        "      # update metrics - Metrics are compiled in\n",
        "      self.compiled_metrics.update_state(y, y_pred, sample_weight=sample_weight)\n",
        "\n",
        "      # return a dict to map\n",
        "      return {m.name: m.result() for m in self.metrics}"
      ],
      "metadata": {
        "id": "Mdy04BnUQedD"
      },
      "execution_count": null,
      "outputs": []
    },
    {
      "cell_type": "code",
      "source": [
        "inputs = keras.Input(shape=(32,))\n",
        "outputs = keras.layers.Dense(1)(inputs)\n",
        "\n",
        "model = CustomModel(inputs, outputs)\n",
        "model.compile(optimizer=\"adam\", loss=\"mse\", metrics=[\"mae\"])\n",
        "\n",
        "# You can now use sample_weight argument\n",
        "x = np.random.random((1000, 32))\n",
        "y = np.random.random((1000, 1))\n",
        "sw = np.random.random((1000, 1))\n",
        "model.fit(x, y, sample_weight=sw, epochs=3)"
      ],
      "metadata": {
        "colab": {
          "base_uri": "https://localhost:8080/"
        },
        "id": "atw009xeN5ln",
        "outputId": "a1c8076c-e283-4c99-80d1-a16d4c7ee997"
      },
      "execution_count": null,
      "outputs": [
        {
          "output_type": "stream",
          "name": "stdout",
          "text": [
            "Epoch 1/3\n",
            "32/32 [==============================] - 0s 3ms/step - loss: 0.1323 - mae: 0.4159\n",
            "Epoch 2/3\n",
            "32/32 [==============================] - 0s 3ms/step - loss: 0.0968 - mae: 0.3506\n",
            "Epoch 3/3\n",
            "32/32 [==============================] - 0s 2ms/step - loss: 0.0937 - mae: 0.3458\n"
          ]
        },
        {
          "output_type": "execute_result",
          "data": {
            "text/plain": [
              "<keras.callbacks.History at 0x7fa67262fcd0>"
            ]
          },
          "metadata": {},
          "execution_count": 10
        }
      ]
    },
    {
      "cell_type": "markdown",
      "source": [
        "### Providing your own evaluation step"
      ],
      "metadata": {
        "id": "DjIhRuScP9ym"
      }
    },
    {
      "cell_type": "code",
      "source": [
        "class CustomModel(keras.Model):\n",
        "  def train_step(self, data):\n",
        "    # unpack data\n",
        "    if len(data) == 3:\n",
        "      x, y, sample_weight = data\n",
        "    else:\n",
        "      x, y = data\n",
        "\n",
        "    with tf.GradientTape() as tape:\n",
        "      y_pred = self(x, training=False) # evaluation\n",
        "      # update the metrics tracking the loss\n",
        "      self.compiled_loss(y, y_pred, regularization_losses=self.losses)\n",
        "      # update the metrics\n",
        "      self.compiled_metrics.update_state(y, y_pred)\n",
        "\n",
        "      return {m.name: m.result() for m in self.metrics}"
      ],
      "metadata": {
        "id": "_4OkAWQFN5jr"
      },
      "execution_count": null,
      "outputs": []
    },
    {
      "cell_type": "code",
      "source": [
        "inputs = keras.Input(shape=(32,))\n",
        "outputs = keras.layers.Dense(1)(inputs)\n",
        "\n",
        "model = CustomModel(inputs, outputs)\n",
        "model.compile(loss=\"mse\", metrics=[\"mae\"])\n",
        "\n",
        "# Evaluate with our custom test_step\n",
        "x = np.random.random((1000, 32))\n",
        "y = np.random.random((1000, 1))\n",
        "model.evaluate(x, y)"
      ],
      "metadata": {
        "colab": {
          "base_uri": "https://localhost:8080/"
        },
        "id": "gFO-ez7FN5hw",
        "outputId": "c11c471a-4064-461c-aa1b-1b069a1ee5fb"
      },
      "execution_count": null,
      "outputs": [
        {
          "output_type": "stream",
          "name": "stdout",
          "text": [
            "32/32 [==============================] - 0s 1ms/step - loss: 0.6142 - mae: 0.6506\n"
          ]
        },
        {
          "output_type": "execute_result",
          "data": {
            "text/plain": [
              "[0.6141979098320007, 0.6505839228630066]"
            ]
          },
          "metadata": {},
          "execution_count": 12
        }
      ]
    },
    {
      "cell_type": "markdown",
      "source": [
        "# TF Custom training: walkthrough\n",
        "\n",
        "https://www.tensorflow.org/tutorials/customization/custom_training_walkthrough?fireglass_rsn=true"
      ],
      "metadata": {
        "id": "ye1bVthIQ9J5"
      }
    },
    {
      "cell_type": "code",
      "source": [
        "!pip install -q tfds-nightly"
      ],
      "metadata": {
        "colab": {
          "base_uri": "https://localhost:8080/"
        },
        "id": "NZNEpPldN5dD",
        "outputId": "0ae4932e-32ee-4aa5-c4b6-8454e1274bce"
      },
      "execution_count": null,
      "outputs": [
        {
          "output_type": "stream",
          "name": "stdout",
          "text": [
            "\u001b[K     |████████████████████████████████| 4.9 MB 24.9 MB/s \n",
            "\u001b[?25h"
          ]
        }
      ]
    },
    {
      "cell_type": "code",
      "source": [
        "import os\n",
        "import tensorflow as tf\n",
        "import tensorflow_datasets as tfds\n",
        "import matplotlib.pyplot as plt\n",
        "print(\"TensorFlow version: {}\".format(tf.__version__))\n",
        "print(\"TensorFlow Datasets version: \",tfds.__version__)"
      ],
      "metadata": {
        "colab": {
          "base_uri": "https://localhost:8080/"
        },
        "id": "PiPUK65oGkEr",
        "outputId": "a26a12ce-bb03-45d5-fbf2-c5f887eb1e96"
      },
      "execution_count": null,
      "outputs": [
        {
          "output_type": "stream",
          "name": "stdout",
          "text": [
            "TensorFlow version: 2.9.2\n",
            "TensorFlow Datasets version:  4.7.0+nightly\n"
          ]
        }
      ]
    },
    {
      "cell_type": "code",
      "source": [
        "ds_preview, info = tfds.load('penguins/simple', split='train', with_info=True)\n",
        "df = tfds.as_dataframe(ds_preview.take(5), info)\n",
        "print(df)\n",
        "print(info.features)"
      ],
      "metadata": {
        "colab": {
          "base_uri": "https://localhost:8080/",
          "height": 539,
          "referenced_widgets": [
            "6334d8aca48146c1ba788c4a17eb892a",
            "14aa2a29f46d45d992e2016f74cf203d",
            "c799dda16edc45bcb7127d8ce6752918",
            "77b0c9a2d80148948f8040924692fc28",
            "801d0daa26e74adbbbd40f87d14f0886",
            "f3ad9dc3af1547308ff565ba1dae25b5",
            "d6f7f7191d1b460f9e5a6226ec88a414",
            "5f3f1e40af14465bb72c9dfec68b2dc0",
            "0f814bd69c03433696562cf69cad564d",
            "f565854e474a46fd838c7eb00b3966cf",
            "b0fdf9da1e02467d92d98cd0158aae84",
            "481d17338bb843daa9b2d2461d3633d8",
            "9775b38d94d048699fbd78d7fdf3716e",
            "bd8d5dd613d842a8bd89057b33962dc7",
            "e9679553664440adb32d053e447fb397",
            "8df749fe4a2646d8be6f418c4e24c131",
            "a6b4a9cca3794f3788df42d990c6079c",
            "ba6708574b914fa3a53e6968bf921282",
            "26b465f5523a47e7a5b768a6ebfbaa79",
            "e4b6cc1a80a5446d98d9791b5b551a86",
            "1a93a51d82cf4bbe8dd0239e19c2a4ac",
            "690066af4eed4964953c7f0947b1bbaf",
            "93b39b4d8ffd4e729ee5a8c6aec18519",
            "f6748bbb20514095abc2f9ae1a0bd645",
            "87891399cc7843aa94f188a629bbdd78",
            "f07ac9ebd3a545a5b71ed609e5b8e43b",
            "f9a4a04c0a7d4b4fbe9c33443309f96f",
            "08d7e50233714bf89ccdb4bf137dbe81",
            "db0c8caa7825494cb521efdab3ccc646",
            "fa155d37a6e04747847136193fbcaceb",
            "03c48361fb3d4a2f813c56b301f8bed3",
            "90d816a9cb6849f596c20b6be78adbcd",
            "07f40fbf7b6a4270940e5ffff890039d",
            "6971820cee8449c0adc6627d3094526a",
            "f7773450a11940b0a4c22ca96a8f45bc",
            "7b11024573dd4518b489426fec7296d5",
            "088d05cda2404af6a5d7db85f79a03a1",
            "c0d33100c2144a67908b038c71cd97b8",
            "c56802cda8024fbb9ca93a1fc3e85534",
            "4813685d51284ea4918dddbd8f560c39",
            "a4d43c0652c043ab8a7ab50029cde17d",
            "4c36bd7d184b4b7fa7bfe1f9158a8f50",
            "26d915e9d83543e7b8b7ba60713e3665",
            "3308645c4b484927b069e9425e31aa68",
            "a30d3e60531144b18b756b270026d0ac",
            "598295107b7e4907af7f53c9b0f54ab5",
            "5bb858437c994363b74f5b0a8ae7d55f",
            "eb2226bcda3a4baabbc4178c99462ff1",
            "33a76a9091db4a85862081476d77d1cb",
            "5f43d250f4754f08ada95ed4472a0cc9",
            "ce28f241d3664249b8b878c368f43b1c",
            "255ea3a79a774443903e8afafbe3c62d",
            "191a43a73fbb4b52b90deea09b5062ec",
            "eb4e615158ac42b9a1aefc5a185af1b6",
            "741abb241ab74cc2a064ad3f16bf3311"
          ]
        },
        "id": "fPCkXnwRGmkt",
        "outputId": "20994922-3de6-474b-f81d-53d77cb2075c"
      },
      "execution_count": null,
      "outputs": [
        {
          "output_type": "stream",
          "name": "stdout",
          "text": [
            "Downloading and preparing dataset 13.20 KiB (download: 13.20 KiB, generated: 56.10 KiB, total: 69.30 KiB) to /root/tensorflow_datasets/penguins/simple/1.0.0...\n"
          ]
        },
        {
          "output_type": "display_data",
          "data": {
            "text/plain": [
              "Dl Completed...: 0 url [00:00, ? url/s]"
            ],
            "application/vnd.jupyter.widget-view+json": {
              "version_major": 2,
              "version_minor": 0,
              "model_id": "6334d8aca48146c1ba788c4a17eb892a"
            }
          },
          "metadata": {}
        },
        {
          "output_type": "display_data",
          "data": {
            "text/plain": [
              "Dl Size...: 0 MiB [00:00, ? MiB/s]"
            ],
            "application/vnd.jupyter.widget-view+json": {
              "version_major": 2,
              "version_minor": 0,
              "model_id": "481d17338bb843daa9b2d2461d3633d8"
            }
          },
          "metadata": {}
        },
        {
          "output_type": "display_data",
          "data": {
            "text/plain": [
              "Generating splits...:   0%|          | 0/1 [00:00<?, ? splits/s]"
            ],
            "application/vnd.jupyter.widget-view+json": {
              "version_major": 2,
              "version_minor": 0,
              "model_id": "93b39b4d8ffd4e729ee5a8c6aec18519"
            }
          },
          "metadata": {}
        },
        {
          "output_type": "display_data",
          "data": {
            "text/plain": [
              "Generating train examples...:   0%|          | 0/344 [00:00<?, ? examples/s]"
            ],
            "application/vnd.jupyter.widget-view+json": {
              "version_major": 2,
              "version_minor": 0,
              "model_id": "6971820cee8449c0adc6627d3094526a"
            }
          },
          "metadata": {}
        },
        {
          "output_type": "display_data",
          "data": {
            "text/plain": [
              "Shuffling /root/tensorflow_datasets/penguins/simple/1.0.0.incompleteVF0IH6/penguins-train.tfrecord*...:   0%| …"
            ],
            "application/vnd.jupyter.widget-view+json": {
              "version_major": 2,
              "version_minor": 0,
              "model_id": "a30d3e60531144b18b756b270026d0ac"
            }
          },
          "metadata": {}
        },
        {
          "output_type": "stream",
          "name": "stdout",
          "text": [
            "Dataset penguins downloaded and prepared to /root/tensorflow_datasets/penguins/simple/1.0.0. Subsequent calls will reuse this data.\n",
            "   body_mass_g  culmen_depth_mm  culmen_length_mm  flipper_length_mm  island  \\\n",
            "0       4200.0             13.9         45.500000              210.0       0   \n",
            "1       4650.0             13.7         40.900002              214.0       0   \n",
            "2       5300.0             14.2         51.299999              218.0       0   \n",
            "3       5650.0             15.0         47.799999              215.0       0   \n",
            "4       5050.0             15.8         46.299999              215.0       0   \n",
            "\n",
            "   sex  species  \n",
            "0    0        2  \n",
            "1    0        2  \n",
            "2    1        2  \n",
            "3    1        2  \n",
            "4    1        2  \n",
            "FeaturesDict({\n",
            "    'body_mass_g': tf.float32,\n",
            "    'culmen_depth_mm': tf.float32,\n",
            "    'culmen_length_mm': tf.float32,\n",
            "    'flipper_length_mm': tf.float32,\n",
            "    'island': ClassLabel(shape=(), dtype=tf.int64, num_classes=3),\n",
            "    'sex': ClassLabel(shape=(), dtype=tf.int64, num_classes=3),\n",
            "    'species': ClassLabel(shape=(), dtype=tf.int64, num_classes=3),\n",
            "})\n"
          ]
        }
      ]
    },
    {
      "cell_type": "code",
      "source": [
        "class_names = ['Adélie', 'Chinstrap', 'Gentoo']"
      ],
      "metadata": {
        "id": "Te0EcffbGnks"
      },
      "execution_count": null,
      "outputs": []
    },
    {
      "cell_type": "code",
      "source": [
        "ds_split, info = tfds.load(\"penguins/processed\", split=['train[:20%]', 'train[20%:]'], as_supervised=True, with_info=True)\n",
        "ds_test = ds_split[0]\n",
        "ds_train = ds_split[1]\n",
        "assert isinstance(ds_test, tf.data.Dataset)\n",
        "print(info.features)\n",
        "df_test = tfds.as_dataframe(ds_test.take(5), info)\n",
        "print(\"Test dataset sample: \")\n",
        "print(df_test)\n",
        "df_train = tfds.as_dataframe(ds_train.take(5), info)\n",
        "print(\"Train dataset sample: \")\n",
        "print(df_train)\n",
        "ds_train_batch = ds_train.batch(32)"
      ],
      "metadata": {
        "colab": {
          "base_uri": "https://localhost:8080/",
          "height": 466,
          "referenced_widgets": [
            "ef679f54907741b6afb4eb28b317ccf6",
            "9fe5468cc64a4c8499f4121aa03e3384",
            "6d40d25ddedb4cc8936ee12c55d96cf7",
            "889546d21b344d04bd8847aa0b7cc350",
            "691bd4e700294812821730da56c152e8",
            "ab004c27ce65451ea320e0855f17d2b6",
            "5fe3c7c8aeaf4377bfe87121006d207b",
            "fd789e03e55e4e2dad49b566d8317dc1",
            "9339ce201a1e4ec7a64cdc8d5d4723f9",
            "701783aa8dff4a919f94d81b7d9eefce",
            "1eb0ac8797d949cf8e31aaaca71dba1f",
            "0772c8d6f199475e93d6eec40f8991b0",
            "b19bdcf79d8c4ec0b5771db818c995dc",
            "b28eb5daa3ea493e8b1c07e0d0362d9a",
            "9cc7abcadaa54d6eb2b9bd483fca8e81",
            "2af6b8bcdb344747b0645c97685802c3",
            "7c0b3fbaadd64874b5ee6c1be9a4b6c7",
            "b6663953f9a1497885d1681df4ab3935",
            "e0f98c75766c43e297dd57430b3a6d85",
            "db4b219c25884afba30f53bf6fce7dc5",
            "1a86d6e7fc514b21bb16aff76529f12b",
            "f7bd026149d34b078452c7559b2d9479",
            "2c56dd336ed94af9b0b724490910441e",
            "8fc31f8043554cc28709b4f2cefc1464",
            "4c849c9a9c5a4d83b85d2fc164977473",
            "77b2abfc4fcd40bf87787605578dfe03",
            "75f65dae9d024864a94747f459986a42",
            "3e1e92efcfa04d42b76c6fabfdc09a30",
            "f2f50570cd5340c1a4ff74d5c32a5a31",
            "fcb56d18ad354c3c9db46eaf31939bbd",
            "896589b10ad44b2faf6ecf2e18f84641",
            "184eeebaea494e559527625a646b1b36",
            "9e146fec73474125af17166c031d4cf6",
            "99f1a94364714edabb7acd7f118eadc0",
            "de918ddd1a4a4edfa341ce63c7e91f18",
            "c24153c245544adba4f225ea6a6eb08e",
            "14307fdf17de4603bd026b55890e2028",
            "29bef63d178b4cd1947799694bbb3540",
            "9c7a60797ea74a5ea7bfd2ee3485d2ca",
            "c6b43ce3a0a344b883555b358656bc00",
            "b3887123f67b4caa92dd7890c9831872",
            "229817a29ee84d4eb61cc1595f35dd13",
            "96770d7bdcc841db9c476a62b09557ff",
            "f58a212436e0480ba94878daaaf60d31",
            "f59150cd11ec4422b513a7fd278d1d8f",
            "992a17d00a2d404799f1042b44f17cdf",
            "7d7a0ba3fa224200a59851744805b12a",
            "37709cf9c07443d5a446f8f58d60987c",
            "0338d0d9db124279ba44f75919a993f6",
            "c7f15b723bb948129de3ebd455139cd0",
            "3196f5a80e5943e79f27862f421d5903",
            "1d3a84806a8c4ec7a8fb39218d590ab5",
            "d42798c8d2924c018c6bd2d185165034",
            "05b10e29bf904177823fa2ccc70e5e02",
            "2ccac8aa577f43ae87fbf5dc78af9d2e"
          ]
        },
        "id": "vdqquy8kGpQm",
        "outputId": "a464463a-180a-4543-b5e1-736360ca714a"
      },
      "execution_count": null,
      "outputs": [
        {
          "output_type": "stream",
          "name": "stdout",
          "text": [
            "Downloading and preparing dataset 25.05 KiB (download: 25.05 KiB, generated: 17.61 KiB, total: 42.66 KiB) to /root/tensorflow_datasets/penguins/processed/1.0.0...\n"
          ]
        },
        {
          "output_type": "display_data",
          "data": {
            "text/plain": [
              "Dl Completed...: 0 url [00:00, ? url/s]"
            ],
            "application/vnd.jupyter.widget-view+json": {
              "version_major": 2,
              "version_minor": 0,
              "model_id": "ef679f54907741b6afb4eb28b317ccf6"
            }
          },
          "metadata": {}
        },
        {
          "output_type": "display_data",
          "data": {
            "text/plain": [
              "Dl Size...: 0 MiB [00:00, ? MiB/s]"
            ],
            "application/vnd.jupyter.widget-view+json": {
              "version_major": 2,
              "version_minor": 0,
              "model_id": "0772c8d6f199475e93d6eec40f8991b0"
            }
          },
          "metadata": {}
        },
        {
          "output_type": "display_data",
          "data": {
            "text/plain": [
              "Generating splits...:   0%|          | 0/1 [00:00<?, ? splits/s]"
            ],
            "application/vnd.jupyter.widget-view+json": {
              "version_major": 2,
              "version_minor": 0,
              "model_id": "2c56dd336ed94af9b0b724490910441e"
            }
          },
          "metadata": {}
        },
        {
          "output_type": "display_data",
          "data": {
            "text/plain": [
              "Generating train examples...:   0%|          | 0/334 [00:00<?, ? examples/s]"
            ],
            "application/vnd.jupyter.widget-view+json": {
              "version_major": 2,
              "version_minor": 0,
              "model_id": "99f1a94364714edabb7acd7f118eadc0"
            }
          },
          "metadata": {}
        },
        {
          "output_type": "display_data",
          "data": {
            "text/plain": [
              "Shuffling /root/tensorflow_datasets/penguins/processed/1.0.0.incompleteWPUX8S/penguins-train.tfrecord*...:   0…"
            ],
            "application/vnd.jupyter.widget-view+json": {
              "version_major": 2,
              "version_minor": 0,
              "model_id": "f59150cd11ec4422b513a7fd278d1d8f"
            }
          },
          "metadata": {}
        },
        {
          "output_type": "stream",
          "name": "stdout",
          "text": [
            "Dataset penguins downloaded and prepared to /root/tensorflow_datasets/penguins/processed/1.0.0. Subsequent calls will reuse this data.\n",
            "FeaturesDict({\n",
            "    'features': Tensor(shape=(4,), dtype=tf.float32),\n",
            "    'species': ClassLabel(shape=(), dtype=tf.int64, num_classes=3),\n",
            "})\n",
            "Test dataset sample: \n",
            "                                         features  species\n",
            "0  [0.6545454, 0.22619048, 0.89830506, 0.6388889]        2\n",
            "1        [0.36, 0.04761905, 0.6440678, 0.4027778]        2\n",
            "2       [0.68, 0.30952382, 0.91525424, 0.6944444]        2\n",
            "3   [0.6181818, 0.20238096, 0.8135593, 0.6805556]        2\n",
            "4  [0.5527273, 0.26190478, 0.84745765, 0.7083333]        2\n",
            "Train dataset sample: \n",
            "                                         features  species\n",
            "0  [0.49818182, 0.6904762, 0.42372882, 0.4027778]        0\n",
            "1      [0.48, 0.071428575, 0.6440678, 0.44444445]        2\n",
            "2    [0.7236364, 0.9047619, 0.6440678, 0.5833333]        1\n",
            "3  [0.34545454, 0.5833333, 0.33898306, 0.3472222]        0\n",
            "4       [0.10909091, 0.75, 0.3559322, 0.41666666]        0\n"
          ]
        }
      ]
    },
    {
      "cell_type": "code",
      "source": [
        "features, labels = next(iter(ds_train_batch))\n",
        "print(features)\n",
        "print(labels)"
      ],
      "metadata": {
        "colab": {
          "base_uri": "https://localhost:8080/"
        },
        "id": "_s9sA-OrGuoG",
        "outputId": "4d6fd8d6-222a-4a49-cb17-c7ac1c3afd6a"
      },
      "execution_count": null,
      "outputs": [
        {
          "output_type": "stream",
          "name": "stdout",
          "text": [
            "tf.Tensor(\n",
            "[[0.49818182 0.6904762  0.42372882 0.4027778 ]\n",
            " [0.48       0.07142857 0.6440678  0.44444445]\n",
            " [0.7236364  0.9047619  0.6440678  0.5833333 ]\n",
            " [0.34545454 0.5833333  0.33898306 0.3472222 ]\n",
            " [0.10909091 0.75       0.3559322  0.41666666]\n",
            " [0.6690909  0.63095236 0.47457626 0.19444445]\n",
            " [0.8036364  0.9166667  0.4915254  0.44444445]\n",
            " [0.4909091  0.75       0.37288135 0.22916667]\n",
            " [0.33454546 0.85714287 0.37288135 0.2361111 ]\n",
            " [0.32       0.41666666 0.2542373  0.1388889 ]\n",
            " [0.41454545 0.5952381  0.5084746  0.19444445]\n",
            " [0.14909092 0.48809522 0.2542373  0.125     ]\n",
            " [0.23636363 0.4642857  0.27118644 0.05555556]\n",
            " [0.22181818 0.5952381  0.22033899 0.3472222 ]\n",
            " [0.24727273 0.5595238  0.15254237 0.25694445]\n",
            " [0.63272727 0.35714287 0.88135594 0.8194444 ]\n",
            " [0.47272727 0.15476191 0.6440678  0.4722222 ]\n",
            " [0.6036364  0.23809524 0.84745765 0.7361111 ]\n",
            " [0.26909092 0.5595238  0.27118644 0.16666667]\n",
            " [0.28       0.71428573 0.20338982 0.5416667 ]\n",
            " [0.10545454 0.5714286  0.33898306 0.2847222 ]\n",
            " [0.18545455 0.5952381  0.10169491 0.33333334]\n",
            " [0.47272727 0.16666667 0.7288136  0.6388889 ]\n",
            " [0.45090908 0.1904762  0.7118644  0.5972222 ]\n",
            " [0.49454546 0.5        0.3559322  0.25      ]\n",
            " [0.6363636  0.22619048 0.7457627  0.5694444 ]\n",
            " [0.08727273 0.5952381  0.2542373  0.05555556]\n",
            " [0.52       0.22619048 0.7457627  0.5555556 ]\n",
            " [0.5090909  0.23809524 0.7288136  0.6666667 ]\n",
            " [0.56       0.22619048 0.779661   0.625     ]\n",
            " [0.6363636  0.3452381  0.89830506 0.8333333 ]\n",
            " [0.15636364 0.47619048 0.20338982 0.04166667]], shape=(32, 4), dtype=float32)\n",
            "tf.Tensor([0 2 1 0 0 1 1 1 0 1 1 0 0 0 0 2 2 2 0 0 0 0 2 2 1 2 0 2 2 2 2 0], shape=(32,), dtype=int64)\n"
          ]
        }
      ]
    },
    {
      "cell_type": "code",
      "source": [
        "plt.scatter(features[:,0],\n",
        "            features[:,2],\n",
        "            c=labels,\n",
        "            cmap='viridis')\n",
        "plt.xlabel(\"Body Mass\")\n",
        "plt.ylabel(\"Culmen Length\")\n",
        "plt.show()"
      ],
      "metadata": {
        "colab": {
          "base_uri": "https://localhost:8080/",
          "height": 279
        },
        "id": "6l_5l8YWGwOD",
        "outputId": "0f6ad51e-da2f-437b-b15e-7534e280739b"
      },
      "execution_count": null,
      "outputs": [
        {
          "output_type": "display_data",
          "data": {
            "text/plain": [
              "<Figure size 432x288 with 1 Axes>"
            ],
            "image/png": "[encoded data removed]"
          },
          "metadata": {
            "needs_background": "light"
          }
        }
      ]
    },
    {
      "cell_type": "code",
      "source": [
        "model = tf.keras.Sequential([\n",
        "    tf.keras.layers.Dense(10, activation=tf.nn.relu, input_shape=(4,)),\n",
        "    tf.keras.layers.Dense(10, activation=tf.nn.relu),\n",
        "    tf.keras.layers.Dense(3) # output logits without tf.nn.softmax\n",
        "])"
      ],
      "metadata": {
        "id": "SXVgCiVjG0h0"
      },
      "execution_count": null,
      "outputs": []
    },
    {
      "cell_type": "code",
      "source": [
        "predictions = model(features)\n",
        "\n",
        "predictions"
      ],
      "metadata": {
        "colab": {
          "base_uri": "https://localhost:8080/"
        },
        "id": "NIv4hiMCH8Hc",
        "outputId": "114b242f-a59c-49d7-c7a1-0116e3ef9d2f"
      },
      "execution_count": null,
      "outputs": [
        {
          "output_type": "execute_result",
          "data": {
            "text/plain": [
              "<tf.Tensor: shape=(32, 3), dtype=float32, numpy=\n",
              "array([[0.3686532 , 0.2975274 , 0.33381936],\n",
              "       [0.33427805, 0.3406611 , 0.3250608 ],\n",
              "       [0.3743221 , 0.29045224, 0.33522552],\n",
              "       [0.3634907 , 0.30059788, 0.33591133],\n",
              "       [0.37421092, 0.28721485, 0.3385743 ],\n",
              "       [0.37830424, 0.29883406, 0.3228616 ],\n",
              "       [0.38657096, 0.2882731 , 0.32515588],\n",
              "       [0.38434836, 0.28643364, 0.329218  ],\n",
              "       [0.39234063, 0.28039223, 0.32726714],\n",
              "       [0.36083224, 0.30837306, 0.3307946 ],\n",
              "       [0.37915206, 0.28891405, 0.33193377],\n",
              "       [0.36662558, 0.30291933, 0.33045518],\n",
              "       [0.37111127, 0.3009777 , 0.327911  ],\n",
              "       [0.36793244, 0.2942757 , 0.3377919 ],\n",
              "       [0.37071842, 0.29612112, 0.33316043],\n",
              "       [0.33359712, 0.32659906, 0.33980373],\n",
              "       [0.33575413, 0.3309388 , 0.33330697],\n",
              "       [0.3332747 , 0.33683538, 0.32988983],\n",
              "       [0.37100068, 0.29716304, 0.33183628],\n",
              "       [0.36932346, 0.28687045, 0.34380612],\n",
              "       [0.3646607 , 0.29785532, 0.337484  ],\n",
              "       [0.37146834, 0.2916725 , 0.33685914],\n",
              "       [0.33391136, 0.33939353, 0.32669514],\n",
              "       [0.33621797, 0.33082548, 0.33295652],\n",
              "       [0.36053267, 0.31045914, 0.3290081 ],\n",
              "       [0.33246267, 0.33141702, 0.33612028],\n",
              "       [0.37403858, 0.30116552, 0.32479593],\n",
              "       [0.33815664, 0.32272398, 0.33911937],\n",
              "       [0.33316788, 0.33442548, 0.3324066 ],\n",
              "       [0.33552486, 0.32979298, 0.33468217],\n",
              "       [0.33358604, 0.3286031 , 0.33781075],\n",
              "       [0.36756536, 0.3056619 , 0.32677272]], dtype=float32)>"
            ]
          },
          "metadata": {},
          "execution_count": 10
        }
      ]
    },
    {
      "cell_type": "code",
      "source": [
        "print(f\"prediction: {tf.math.argmax(predictions, axis=1)}\")\n",
        "print(f\"labels: {labels}\")"
      ],
      "metadata": {
        "colab": {
          "base_uri": "https://localhost:8080/"
        },
        "id": "tfW4jnqdHXQd",
        "outputId": "60929bb7-6c14-40b2-ffe8-b45a9eb99fac"
      },
      "execution_count": null,
      "outputs": [
        {
          "output_type": "stream",
          "name": "stdout",
          "text": [
            "prediction: [0 1 0 0 0 0 0 0 0 0 0 0 0 0 0 2 0 1 0 0 0 0 1 0 0 2 0 2 1 0 2 0]\n",
            "labels: [0 2 1 0 0 1 1 1 0 1 1 0 0 0 0 2 2 2 0 0 0 0 2 2 1 2 0 2 2 2 2 0]\n"
          ]
        }
      ]
    },
    {
      "cell_type": "code",
      "source": [
        "loss_object = tf.keras.losses.SparseCategoricalCrossentropy(from_logits=True)"
      ],
      "metadata": {
        "id": "1LtWA1KsHueK"
      },
      "execution_count": null,
      "outputs": []
    },
    {
      "cell_type": "code",
      "source": [
        "def loss(model, x, y, training):\n",
        "  # training is only needed for training, not for evaluation\n",
        "  y_ = model(x, training=training)\n",
        "\n",
        "  return loss_object(y_true=y, y_pred=y_)"
      ],
      "metadata": {
        "id": "5Ji7cwoZIhhL"
      },
      "execution_count": null,
      "outputs": []
    },
    {
      "cell_type": "code",
      "source": [
        "l = loss(model, features, labels, training=False)\n",
        "print(f\"loss test: {l}\")"
      ],
      "metadata": {
        "colab": {
          "base_uri": "https://localhost:8080/"
        },
        "id": "PlhGT0KHJD3M",
        "outputId": "7a0e3525-ba8b-4e47-dc29-96712174cab1"
      },
      "execution_count": null,
      "outputs": [
        {
          "output_type": "stream",
          "name": "stdout",
          "text": [
            "loss test: 1.0906373262405396\n"
          ]
        }
      ]
    },
    {
      "cell_type": "code",
      "source": [
        "# use GradientTape() to calculate the gradients\n",
        "\n",
        "def grad(model, inputs, targets):\n",
        "  with tf.GradientTape() as tape:\n",
        "\n",
        "    loss_value = loss(model, features, labels, training=True)\n",
        "  return loss_value, tape.gradient(loss_value, model.trainable_variables)"
      ],
      "metadata": {
        "id": "gFspJPsmJH7G"
      },
      "execution_count": null,
      "outputs": []
    },
    {
      "cell_type": "code",
      "source": [
        "# create an optimizer\n",
        "\n",
        "optimizer = tf.keras.optimizers.SGD(learning_rate=0.01)"
      ],
      "metadata": {
        "id": "a4MXj5wyJfZI"
      },
      "execution_count": null,
      "outputs": []
    },
    {
      "cell_type": "code",
      "source": [
        "loss_value, grads = grad(model, features, labels)\n",
        "print(\"Step: {}, Initial Loss: {}\".format(optimizer.iterations.numpy(),\n",
        "                                          loss_value.numpy()))\n",
        "optimizer.apply_gradients(zip(grads, model.trainable_variables))\n",
        "print(\"Step: {},         Loss: {}\".format(optimizer.iterations.numpy(),\n",
        "                                          loss(model, features, labels, training=True).numpy()))"
      ],
      "metadata": {
        "colab": {
          "base_uri": "https://localhost:8080/"
        },
        "id": "2r_mBxf5J0NH",
        "outputId": "0d11e9f9-aed4-45a4-9be2-974201ded1fa"
      },
      "execution_count": null,
      "outputs": [
        {
          "output_type": "stream",
          "name": "stdout",
          "text": [
            "Step: 0, Initial Loss: 1.0906373262405396\n",
            "Step: 1,         Loss: 1.0903548002243042\n"
          ]
        }
      ]
    },
    {
      "cell_type": "code",
      "source": [
        "# training loop\n",
        "\n",
        "train_loss_results = []\n",
        "train_accuracy_results = []\n",
        "\n",
        "num_epochs = 201\n",
        "\n",
        "for epoch in range(num_epochs):\n",
        "  epoch_loss_avg = tf.keras.metrics.Mean()\n",
        "  epoch_accuracy = tf.keras.metrics.SparseCategoricalAccuracy()\n",
        "\n",
        "  # training loop\n",
        "  for x, y in ds_train_batch:\n",
        "    # optimize the model\n",
        "    loss_value, grads = grad(model, x, y)\n",
        "    optimizer.apply_gradients(zip(grads, model.trainable_variables))\n",
        "\n",
        "    # track progress\n",
        "    epoch_loss_avg.update_state(loss_value)\n",
        "    epoch_accuracy.update_state(y, model(x, training=True))\n",
        "\n",
        "  # end epoch\n",
        "  train_loss_results.append(epoch_loss_avg.result())\n",
        "  train_accuracy_results.append(epoch_accuracy.result())\n",
        "\n",
        "  if epoch % 50 == 0:\n",
        "    print(f\"epoch: {epoch: 3d}, loss: {epoch_loss_avg.result()}, accuracy: {epoch_accuracy.result()}\")"
      ],
      "metadata": {
        "colab": {
          "base_uri": "https://localhost:8080/"
        },
        "id": "f48R3vcDqyp2",
        "outputId": "ef226749-9903-403b-c6f1-86d8b7730bf4"
      },
      "execution_count": null,
      "outputs": [
        {
          "output_type": "stream",
          "name": "stdout",
          "text": [
            "epoch:   0, loss: 1.0870413780212402, accuracy: 0.5355805158615112\n",
            "epoch:  50, loss: 0.9948222637176514, accuracy: 0.8052434325218201\n",
            "epoch:  100, loss: 0.8730146288871765, accuracy: 0.8052434325218201\n",
            "epoch:  150, loss: 0.8045201897621155, accuracy: 0.8052434325218201\n",
            "epoch:  200, loss: 0.7841302156448364, accuracy: 0.8052434325218201\n"
          ]
        }
      ]
    },
    {
      "cell_type": "code",
      "source": [
        "fig, axes = plt.subplots(2, sharex=True, figsize=(12, 8))\n",
        "fig.suptitle('Training Metrics')\n",
        "axes[0].set_ylabel(\"Loss\", fontsize=14)\n",
        "axes[0].plot(train_loss_results)\n",
        "axes[1].set_ylabel(\"Accuracy\", fontsize=14)\n",
        "axes[1].set_xlabel(\"Epoch\", fontsize=14)\n",
        "axes[1].plot(train_accuracy_results)\n",
        "plt.show()"
      ],
      "metadata": {
        "colab": {
          "base_uri": "https://localhost:8080/",
          "height": 558
        },
        "id": "6YcL2BEYwX1t",
        "outputId": "4b88e2fc-42f9-49dc-d505-4ea1a0adb089"
      },
      "execution_count": null,
      "outputs": [
        {
          "output_type": "display_data",
          "data": {
            "text/plain": [
              "<Figure size 864x576 with 2 Axes>"
            ],
            "image/png": "[encoded data removed]"
          },
          "metadata": {
            "needs_background": "light"
          }
        }
      ]
    },
    {
      "cell_type": "code",
      "source": [
        "# evaluate the model on test set\n",
        "\n",
        "test_accuracy = tf.keras.metrics.Accuracy()\n",
        "ds_test_batch = ds_test.batch(10)\n",
        "\n",
        "for (x, y) in ds_test_batch:\n",
        "  logits = model(x, training=False)\n",
        "  prediction = tf.math.argmax(logits, axis=1, output_type=tf.int64)\n",
        "  test_accuracy(prediction, y)\n",
        "\n",
        "print(f\"test accuracy: {test_accuracy.result(): .3f}\")"
      ],
      "metadata": {
        "colab": {
          "base_uri": "https://localhost:8080/"
        },
        "id": "67BBxHHiy549",
        "outputId": "5cb8a78c-da8d-4c44-d2ca-eef2c760829d"
      },
      "execution_count": null,
      "outputs": [
        {
          "output_type": "stream",
          "name": "stdout",
          "text": [
            "test accuracy:  0.761\n"
          ]
        }
      ]
    },
    {
      "cell_type": "code",
      "source": [
        "# make predictions\n",
        "\n",
        "predict_dataset = tf.convert_to_tensor([\n",
        "    [0.3, 0.8, 0.4, 0.5,],\n",
        "    [0.4, 0.1, 0.8, 0.5,],\n",
        "    [0.7, 0.9, 0.8, 0.4]\n",
        "])\n",
        "\n",
        "predictions = model(predict_dataset, training=False)"
      ],
      "metadata": {
        "id": "oQ2PwI_I51iN"
      },
      "execution_count": null,
      "outputs": []
    },
    {
      "cell_type": "code",
      "source": [
        "for i, logits in enumerate(predictions):\n",
        "  class_idx = tf.math.argmax(logits).numpy()\n",
        "  p = tf.nn.softmax(logits)[class_idx]\n",
        "  name = class_names[class_idx]\n",
        "\n",
        "  print(f\"prediction: {i}, {name}, {p: .3f}\")"
      ],
      "metadata": {
        "colab": {
          "base_uri": "https://localhost:8080/"
        },
        "id": "j1IwutzQ6Bzg",
        "outputId": "2271f197-648e-4416-af34-d886137dfb57"
      },
      "execution_count": null,
      "outputs": [
        {
          "output_type": "stream",
          "name": "stdout",
          "text": [
            "prediction: 0, Adélie,  0.546\n",
            "prediction: 1, Gentoo,  0.564\n",
            "prediction: 2, Adélie,  0.500\n"
          ]
        }
      ]
    },
    {
      "cell_type": "code",
      "source": [
        "x"
      ],
      "metadata": {
        "colab": {
          "base_uri": "https://localhost:8080/"
        },
        "id": "QgQA5E5cCm12",
        "outputId": "696137aa-5696-4384-c4ce-48eb06ef9f7b"
      },
      "execution_count": null,
      "outputs": [
        {
          "output_type": "execute_result",
          "data": {
            "text/plain": [
              "<tf.Tensor: shape=(2, 2), dtype=float32, numpy=\n",
              "array([[0., 0.],\n",
              "       [0., 0.]], dtype=float32)>"
            ]
          },
          "metadata": {},
          "execution_count": 35
        }
      ]
    },
    {
      "cell_type": "code",
      "source": [
        "y = tf.expand_dims(x, axis=1)"
      ],
      "metadata": {
        "id": "nP7ltuoiCnIQ"
      },
      "execution_count": null,
      "outputs": []
    },
    {
      "cell_type": "code",
      "source": [
        "tf.squeeze(x)"
      ],
      "metadata": {
        "colab": {
          "base_uri": "https://localhost:8080/"
        },
        "id": "TxZqHOvKCqag",
        "outputId": "8b33ad03-d1d1-49e6-e81e-f367ea2aa2d6"
      },
      "execution_count": null,
      "outputs": [
        {
          "output_type": "execute_result",
          "data": {
            "text/plain": [
              "<tf.Tensor: shape=(2, 2), dtype=float32, numpy=\n",
              "array([[0., 0.],\n",
              "       [0., 0.]], dtype=float32)>"
            ]
          },
          "metadata": {},
          "execution_count": 37
        }
      ]
    },
    {
      "cell_type": "code",
      "source": [
        "y"
      ],
      "metadata": {
        "colab": {
          "base_uri": "https://localhost:8080/"
        },
        "id": "SKPYYoLfC3dS",
        "outputId": "dbb46752-5f85-4d10-8767-a14406a9b191"
      },
      "execution_count": null,
      "outputs": [
        {
          "output_type": "execute_result",
          "data": {
            "text/plain": [
              "<tf.Tensor: shape=(2, 1, 2), dtype=float32, numpy=\n",
              "array([[[0., 0.]],\n",
              "\n",
              "       [[0., 0.]]], dtype=float32)>"
            ]
          },
          "metadata": {},
          "execution_count": 43
        }
      ]
    },
    {
      "cell_type": "code",
      "source": [
        "[[[0., 0.]], [[0., 0.]]]"
      ],
      "metadata": {
        "id": "TxOah7RhDiMJ"
      },
      "execution_count": null,
      "outputs": []
    },
    {
      "cell_type": "markdown",
      "source": [
        "## Ragged Tensors"
      ],
      "metadata": {
        "id": "fd3lcvyh8lPa"
      }
    },
    {
      "cell_type": "code",
      "source": [
        "!pip install transformers"
      ],
      "metadata": {
        "colab": {
          "base_uri": "https://localhost:8080/"
        },
        "id": "Hlxf5BsvPxqL",
        "outputId": "0211ad3a-cef5-4617-c9cd-00baa1a827a5"
      },
      "execution_count": null,
      "outputs": [
        {
          "output_type": "stream",
          "name": "stdout",
          "text": [
            "Looking in indexes: https://pypi.org/simple, https://us-python.pkg.dev/colab-wheels/public/simple/\n",
            "Requirement already satisfied: transformers in /usr/local/lib/python3.7/dist-packages (4.24.0)\n",
            "Requirement already satisfied: numpy>=1.17 in /usr/local/lib/python3.7/dist-packages (from transformers) (1.21.6)\n",
            "Requirement already satisfied: packaging>=20.0 in /usr/local/lib/python3.7/dist-packages (from transformers) (21.3)\n",
            "Requirement already satisfied: importlib-metadata in /usr/local/lib/python3.7/dist-packages (from transformers) (4.13.0)\n",
            "Requirement already satisfied: filelock in /usr/local/lib/python3.7/dist-packages (from transformers) (3.8.0)\n",
            "Requirement already satisfied: regex!=2019.12.17 in /usr/local/lib/python3.7/dist-packages (from transformers) (2022.6.2)\n",
            "Requirement already satisfied: tqdm>=4.27 in /usr/local/lib/python3.7/dist-packages (from transformers) (4.64.1)\n",
            "Requirement already satisfied: huggingface-hub<1.0,>=0.10.0 in /usr/local/lib/python3.7/dist-packages (from transformers) (0.11.0)\n",
            "Requirement already satisfied: pyyaml>=5.1 in /usr/local/lib/python3.7/dist-packages (from transformers) (6.0)\n",
            "Requirement already satisfied: tokenizers!=0.11.3,<0.14,>=0.11.1 in /usr/local/lib/python3.7/dist-packages (from transformers) (0.13.2)\n",
            "Requirement already satisfied: requests in /usr/local/lib/python3.7/dist-packages (from transformers) (2.23.0)\n",
            "Requirement already satisfied: typing-extensions>=3.7.4.3 in /usr/local/lib/python3.7/dist-packages (from huggingface-hub<1.0,>=0.10.0->transformers) (4.1.1)\n",
            "Requirement already satisfied: pyparsing!=3.0.5,>=2.0.2 in /usr/local/lib/python3.7/dist-packages (from packaging>=20.0->transformers) (3.0.9)\n",
            "Requirement already satisfied: zipp>=0.5 in /usr/local/lib/python3.7/dist-packages (from importlib-metadata->transformers) (3.10.0)\n",
            "Requirement already satisfied: chardet<4,>=3.0.2 in /usr/local/lib/python3.7/dist-packages (from requests->transformers) (3.0.4)\n",
            "Requirement already satisfied: idna<3,>=2.5 in /usr/local/lib/python3.7/dist-packages (from requests->transformers) (2.10)\n",
            "Requirement already satisfied: certifi>=2017.4.17 in /usr/local/lib/python3.7/dist-packages (from requests->transformers) (2022.9.24)\n",
            "Requirement already satisfied: urllib3!=1.25.0,!=1.25.1,<1.26,>=1.21.1 in /usr/local/lib/python3.7/dist-packages (from requests->transformers) (1.24.3)\n"
          ]
        }
      ]
    },
    {
      "cell_type": "markdown",
      "source": [
        "### Ragged tensors with Keras"
      ],
      "metadata": {
        "id": "JMcGynSF8pAo"
      }
    },
    {
      "cell_type": "code",
      "source": [
        "from transformers import TFAutoModel\n",
        "import tensorflow as tf"
      ],
      "metadata": {
        "id": "BU0jNrvLRClH"
      },
      "execution_count": null,
      "outputs": []
    },
    {
      "cell_type": "code",
      "source": [],
      "metadata": {
        "id": "LiG1ofDhQQ8L"
      },
      "execution_count": null,
      "outputs": []
    },
    {
      "cell_type": "code",
      "source": [
        "\n",
        "\n",
        "BERT_MODEL = \"bert-base-uncased\"\n",
        "\n",
        "num_tags = 7\n",
        "\n",
        "encoder = TFAutoModel.from_pretrained(BERT_MODEL)\n",
        "\n",
        "# tf.keras.layers.Input(shape=[None], dtype=tf.int64, ragged=True)\n",
        "## NER Model\n",
        "input_ids = tf.keras.layers.Input(shape=[None], dtype=tf.int32, ragged=True)\n",
        "attention_mask = tf.keras.layers.Input(shape=[None], dtype=tf.int32)\n",
        "\n",
        "embedding = encoder(\n",
        "    input_ids=input_ids,\n",
        "    attention_mask=attention_mask\n",
        ")[0]\n",
        "\n",
        "embedding.trainable = False # Unfreeze BERT layer\n",
        "\n",
        "embedding = tf.keras.layers.Dropout(0.5)(embedding)\n",
        "tag_logits = tf.keras.layers.Dense(num_tags+2, activation='softmax')(embedding)\n",
        "\n",
        "model = keras.Model(\n",
        "    inputs=[\n",
        "            input_ids,\n",
        "            #token_type_ids,\n",
        "            attention_mask\n",
        "           ],\n",
        "    outputs=[tag_logits],\n",
        ")\n",
        "\n",
        "optimizer = keras.optimizers.Adam(lr=3e-5)\n",
        "#optimizer = keras.optimizers.Adam(lr=1e-4)\n",
        "\n",
        "model.compile(optimizer=optimizer,\n",
        "              loss=masked_ce_loss,\n",
        "              metrics=['accuracy'])"
      ],
      "metadata": {
        "id": "f1DPnxa5FBJu",
        "colab": {
          "base_uri": "https://localhost:8080/",
          "height": 356
        },
        "outputId": "470e4500-a562-4afc-cb7f-399c2174d257"
      },
      "execution_count": null,
      "outputs": [
        {
          "output_type": "stream",
          "name": "stderr",
          "text": [
            "Some layers from the model checkpoint at bert-base-uncased were not used when initializing TFBertModel: ['mlm___cls', 'nsp___cls']\n",
            "- This IS expected if you are initializing TFBertModel from the checkpoint of a model trained on another task or with another architecture (e.g. initializing a BertForSequenceClassification model from a BertForPreTraining model).\n",
            "- This IS NOT expected if you are initializing TFBertModel from the checkpoint of a model that you expect to be exactly identical (initializing a BertForSequenceClassification model from a BertForSequenceClassification model).\n",
            "All the layers of TFBertModel were initialized from the model checkpoint at bert-base-uncased.\n",
            "If your task is similar to the task the model of the checkpoint was trained on, you can already use TFBertModel for predictions without further training.\n"
          ]
        },
        {
          "output_type": "error",
          "ename": "AttributeError",
          "evalue": "ignored",
          "traceback": [
            "\u001b[0;31m---------------------------------------------------------------------------\u001b[0m",
            "\u001b[0;31mAttributeError\u001b[0m                            Traceback (most recent call last)",
            "\u001b[0;32m<ipython-input-15-1f4d6aa953f7>\u001b[0m in \u001b[0;36m<module>\u001b[0;34m\u001b[0m\n\u001b[1;32m      8\u001b[0m \u001b[0;31m## NER Model\u001b[0m\u001b[0;34m\u001b[0m\u001b[0;34m\u001b[0m\u001b[0;34m\u001b[0m\u001b[0m\n\u001b[1;32m      9\u001b[0m \u001b[0minput_ids\u001b[0m \u001b[0;34m=\u001b[0m \u001b[0mtf\u001b[0m\u001b[0;34m.\u001b[0m\u001b[0mkeras\u001b[0m\u001b[0;34m.\u001b[0m\u001b[0mlayers\u001b[0m\u001b[0;34m.\u001b[0m\u001b[0mInput\u001b[0m\u001b[0;34m(\u001b[0m\u001b[0mshape\u001b[0m\u001b[0;34m=\u001b[0m\u001b[0;34m[\u001b[0m\u001b[0;32mNone\u001b[0m\u001b[0;34m]\u001b[0m\u001b[0;34m,\u001b[0m \u001b[0mdtype\u001b[0m\u001b[0;34m=\u001b[0m\u001b[0mtf\u001b[0m\u001b[0;34m.\u001b[0m\u001b[0mint32\u001b[0m\u001b[0;34m,\u001b[0m \u001b[0mragged\u001b[0m\u001b[0;34m=\u001b[0m\u001b[0;32mTrue\u001b[0m\u001b[0;34m)\u001b[0m\u001b[0;34m.\u001b[0m\u001b[0mto_tensor\u001b[0m\u001b[0;34m(\u001b[0m\u001b[0;34m)\u001b[0m\u001b[0;34m\u001b[0m\u001b[0;34m\u001b[0m\u001b[0m\n\u001b[0;32m---> 10\u001b[0;31m \u001b[0mattention_mask\u001b[0m \u001b[0;34m=\u001b[0m \u001b[0mtf\u001b[0m\u001b[0;34m.\u001b[0m\u001b[0mkeras\u001b[0m\u001b[0;34m.\u001b[0m\u001b[0mlayers\u001b[0m\u001b[0;34m.\u001b[0m\u001b[0mInput\u001b[0m\u001b[0;34m(\u001b[0m\u001b[0mshape\u001b[0m\u001b[0;34m=\u001b[0m\u001b[0;34m[\u001b[0m\u001b[0;32mNone\u001b[0m\u001b[0;34m]\u001b[0m\u001b[0;34m,\u001b[0m \u001b[0mdtype\u001b[0m\u001b[0;34m=\u001b[0m\u001b[0mtf\u001b[0m\u001b[0;34m.\u001b[0m\u001b[0mint32\u001b[0m\u001b[0;34m)\u001b[0m\u001b[0;34m.\u001b[0m\u001b[0mto_tensor\u001b[0m\u001b[0;34m(\u001b[0m\u001b[0;34m)\u001b[0m\u001b[0;34m\u001b[0m\u001b[0;34m\u001b[0m\u001b[0m\n\u001b[0m\u001b[1;32m     11\u001b[0m \u001b[0;34m\u001b[0m\u001b[0m\n\u001b[1;32m     12\u001b[0m embedding = encoder(\n",
            "\u001b[0;31mAttributeError\u001b[0m: 'KerasTensor' object has no attribute 'to_tensor'"
          ]
        }
      ]
    },
    {
      "cell_type": "code",
      "source": [],
      "metadata": {
        "id": "sR9NAHdkPI2i"
      },
      "execution_count": null,
      "outputs": []
    },
    {
      "cell_type": "markdown",
      "source": [
        "## Lazy Loading\n",
        "\n",
        "https://stackoverflow.com/questions/56086807/lazy-loading-implementation-in-tensorflow"
      ],
      "metadata": {
        "id": "_TRQNZ7HWLWA"
      }
    },
    {
      "cell_type": "markdown",
      "source": [
        "# Custom Loss Function"
      ],
      "metadata": {
        "id": "Bf4d-XYLMQOu"
      }
    },
    {
      "cell_type": "code",
      "source": [
        "# code used for ner tasks\n",
        "\n",
        "def masked_ce_loss(real, pred):\n",
        "\n",
        "    mask = tf.math.logical_not(tf.math.equal(real, num_tags+2))\n",
        "    loss_ = loss_object(real, pred)\n",
        "    mask = tf.cast(mask, dtype=loss_.dtype)\n",
        "    loss_ *= mask\n",
        "\n",
        "    return tf.reduce_mean(loss_)"
      ],
      "metadata": {
        "id": "GBeYsWh7cNMr"
      },
      "execution_count": null,
      "outputs": []
    },
    {
      "cell_type": "code",
      "source": [
        "# for categorical cross entropy\n",
        "\n",
        "def loss_fcn(target, prediction):\n",
        "    # Create mask so that the zero padding values are not included in the computation of loss\n",
        "    padding_mask = tf.math.logical_not(equal(target, 0))\n",
        "    padding_mask = tf.cast(padding_mask, tf.float32)\n",
        "    # Compute a sparse categorical cross-entropy loss on the unmasked values\n",
        "    loss = sparse_categorical_crossentropy(target, prediction, from_logits=True) * padding_mask\n",
        "    # Compute the mean loss over the unmasked values\n",
        "    return reduce_sum(loss) / reduce_sum(padding_mask)"
      ],
      "metadata": {
        "id": "6M1_S_wlWNH2"
      },
      "execution_count": null,
      "outputs": []
    },
    {
      "cell_type": "markdown",
      "source": [
        "# Distributed Training\n",
        "\n",
        "- distribute the training across multiple machines\n",
        "- built on data parallelism"
      ],
      "metadata": {
        "id": "MFNS2w-Y1Fxe"
      }
    },
    {
      "cell_type": "code",
      "source": [],
      "metadata": {
        "id": "_76_w7hr1JIY"
      },
      "execution_count": null,
      "outputs": []
    },
    {
      "cell_type": "markdown",
      "source": [
        "# Others"
      ],
      "metadata": {
        "id": "bwXHj1oI46EL"
      }
    },
    {
      "cell_type": "code",
      "source": [],
      "metadata": {
        "id": "CcB74bfd47XE"
      },
      "execution_count": null,
      "outputs": []
    }
  ]
}