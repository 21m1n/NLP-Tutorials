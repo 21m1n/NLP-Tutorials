{
 "cells": [
  {
   "cell_type": "code",
   "execution_count": 46,
   "metadata": {},
   "outputs": [],
   "source": [
    "import pandas as pd\n",
    "import numpy as np\n",
    "\n",
    "# text processing\n",
    "import re\n",
    "import string \n",
    "import contractions \n",
    "\n",
    "from sklearn.model_selection import train_test_split\n",
    "\n",
    "# bert \n",
    "from transformers import TFAutoModel, AutoTokenizer\n",
    "import tensorflow as tf\n",
    "\n",
    "from tqdm import tqdm\n",
    "tqdm.pandas()\n",
    "\n",
    "import logging\n",
    "logging.basicConfig(format=\"%(asctime)s - %(levelname)s - %(message)s\", level=logging.INFO)"
   ]
  },
  {
   "cell_type": "code",
   "execution_count": 2,
   "metadata": {},
   "outputs": [],
   "source": [
    "def text_preprocessing(text):\n",
    "    if not isinstance(text, str):\n",
    "        text = str(text)\n",
    "    text = re.sub(\"\\#\", \" \", text) # remove hashtag # symbol only \n",
    "    text = re.sub(r\"\\\\n\", \" \", text) # remove newlines\n",
    "    text = text.lower() # text normalization\n",
    "    text = contractions.fix(text) # fix (expand) contractions\n",
    "    text = re.sub(\"\\@\\w+\", \" \", text) # remove @\n",
    "    text = re.sub('\\w*\\d\\w*', \" \", text) # remove digits\n",
    "    text = re.sub(\"([^\\x00-\\x7F])+\", \" \", text) # remove emoji\n",
    "    text = re.sub('[%s]' % re.escape(string.punctuation), \" \", text) # remove punctuation\n",
    "    text = re.sub(\"\\s+\", \" \", text) # remove excessive white space \n",
    "    return text.strip()"
   ]
  },
  {
   "cell_type": "code",
   "execution_count": 3,
   "metadata": {},
   "outputs": [
    {
     "name": "stderr",
     "output_type": "stream",
     "text": [
      "2023-09-30 19:49:08,338 - INFO - reading training data, size: (159571, 8)\n"
     ]
    }
   ],
   "source": [
    "data = pd.read_csv(\"../data/jigsaw-toxic-comment-classification-challenge/train.csv\")\n",
    "\n",
    "logging.info(f\"reading training data, size: {data.shape}\")"
   ]
  },
  {
   "cell_type": "code",
   "execution_count": 4,
   "metadata": {},
   "outputs": [
    {
     "data": {
      "text/html": [
       "<div>\n",
       "<style scoped>\n",
       "    .dataframe tbody tr th:only-of-type {\n",
       "        vertical-align: middle;\n",
       "    }\n",
       "\n",
       "    .dataframe tbody tr th {\n",
       "        vertical-align: top;\n",
       "    }\n",
       "\n",
       "    .dataframe thead th {\n",
       "        text-align: right;\n",
       "    }\n",
       "</style>\n",
       "<table border=\"1\" class=\"dataframe\">\n",
       "  <thead>\n",
       "    <tr style=\"text-align: right;\">\n",
       "      <th></th>\n",
       "      <th>id</th>\n",
       "      <th>comment_text</th>\n",
       "      <th>toxic</th>\n",
       "      <th>severe_toxic</th>\n",
       "      <th>obscene</th>\n",
       "      <th>threat</th>\n",
       "      <th>insult</th>\n",
       "      <th>identity_hate</th>\n",
       "    </tr>\n",
       "  </thead>\n",
       "  <tbody>\n",
       "    <tr>\n",
       "      <th>0</th>\n",
       "      <td>0000997932d777bf</td>\n",
       "      <td>Explanation\\nWhy the edits made under my usern...</td>\n",
       "      <td>0</td>\n",
       "      <td>0</td>\n",
       "      <td>0</td>\n",
       "      <td>0</td>\n",
       "      <td>0</td>\n",
       "      <td>0</td>\n",
       "    </tr>\n",
       "    <tr>\n",
       "      <th>1</th>\n",
       "      <td>000103f0d9cfb60f</td>\n",
       "      <td>D'aww! He matches this background colour I'm s...</td>\n",
       "      <td>0</td>\n",
       "      <td>0</td>\n",
       "      <td>0</td>\n",
       "      <td>0</td>\n",
       "      <td>0</td>\n",
       "      <td>0</td>\n",
       "    </tr>\n",
       "    <tr>\n",
       "      <th>2</th>\n",
       "      <td>000113f07ec002fd</td>\n",
       "      <td>Hey man, I'm really not trying to edit war. It...</td>\n",
       "      <td>0</td>\n",
       "      <td>0</td>\n",
       "      <td>0</td>\n",
       "      <td>0</td>\n",
       "      <td>0</td>\n",
       "      <td>0</td>\n",
       "    </tr>\n",
       "    <tr>\n",
       "      <th>3</th>\n",
       "      <td>0001b41b1c6bb37e</td>\n",
       "      <td>\"\\nMore\\nI can't make any real suggestions on ...</td>\n",
       "      <td>0</td>\n",
       "      <td>0</td>\n",
       "      <td>0</td>\n",
       "      <td>0</td>\n",
       "      <td>0</td>\n",
       "      <td>0</td>\n",
       "    </tr>\n",
       "    <tr>\n",
       "      <th>4</th>\n",
       "      <td>0001d958c54c6e35</td>\n",
       "      <td>You, sir, are my hero. Any chance you remember...</td>\n",
       "      <td>0</td>\n",
       "      <td>0</td>\n",
       "      <td>0</td>\n",
       "      <td>0</td>\n",
       "      <td>0</td>\n",
       "      <td>0</td>\n",
       "    </tr>\n",
       "  </tbody>\n",
       "</table>\n",
       "</div>"
      ],
      "text/plain": [
       "                 id                                       comment_text  toxic  \\\n",
       "0  0000997932d777bf  Explanation\\nWhy the edits made under my usern...      0   \n",
       "1  000103f0d9cfb60f  D'aww! He matches this background colour I'm s...      0   \n",
       "2  000113f07ec002fd  Hey man, I'm really not trying to edit war. It...      0   \n",
       "3  0001b41b1c6bb37e  \"\\nMore\\nI can't make any real suggestions on ...      0   \n",
       "4  0001d958c54c6e35  You, sir, are my hero. Any chance you remember...      0   \n",
       "\n",
       "   severe_toxic  obscene  threat  insult  identity_hate  \n",
       "0             0        0       0       0              0  \n",
       "1             0        0       0       0              0  \n",
       "2             0        0       0       0              0  \n",
       "3             0        0       0       0              0  \n",
       "4             0        0       0       0              0  "
      ]
     },
     "execution_count": 4,
     "metadata": {},
     "output_type": "execute_result"
    }
   ],
   "source": [
    "data.head()"
   ]
  },
  {
   "cell_type": "code",
   "execution_count": 5,
   "metadata": {},
   "outputs": [
    {
     "name": "stdout",
     "output_type": "stream",
     "text": [
      "======================================================================================================================================================\n",
      "Tropical cyclones WikiProject Newsletter #2 \n",
      "\n",
      "The July issue of the WikiProject Tropical cyclones newsletter is now available. If you wish to receive the full newsletter or no longer be informed of the release of future editions, please add your username to the appropriate section on the mailing list.\n",
      "--------------------------------------------------\n",
      "tropical cyclones wikiproject newsletter the july issue of the wikiproject tropical cyclones newsletter is now available if you wish to receive the full newsletter or no longer be informed of the release of future editions please add your username to the appropriate section on the mailing list\n",
      "======================================================================================================================================================\n",
      "======================================================================================================================================================\n",
      "Obviously he doesn't care what the rules are. You've put a perfect, reasoned position that also quotes the official rules of Wikipedia and he still won't let it go. I can't believe this is actually allowed to happen.He's done the same thing to me.  \n",
      "\n",
      "http://en.wikipedia.org/wiki/WA_2000\n",
      "--------------------------------------------------\n",
      "obviously he does not care what the rules are you have put a perfect reasoned position that also quotes the official rules of wikipedia and he still will not let it go i cannot believe this is actually allowed to happen he is done the same thing to me http en wikipedia org wiki\n",
      "======================================================================================================================================================\n",
      "======================================================================================================================================================\n",
      "Nothing like having a good ferret about in your drawers, is there? But I'm sure it's far from the last of the summer whine.\n",
      "--------------------------------------------------\n",
      "nothing like having a good ferret about in your drawers is there but i am sure it is far from the last of the summer whine\n",
      "======================================================================================================================================================\n",
      "======================================================================================================================================================\n",
      "Thanks for following up with me.\n",
      "If the material could be sourced mostly through independent sources, then there should be little problem with it.  However, you should take a look at WP:COI.\n",
      "The best approach would be to discuss it on the article talk page, providing some independent sources and proposing information to add to the article.\n",
      "--------------------------------------------------\n",
      "thanks for following up with me if the material could be sourced mostly through independent sources then there should be little problem with it however you should take a look at wp coi the best approach would be to discuss it on the article talk page providing some independent sources and proposing information to add to the article\n",
      "======================================================================================================================================================\n",
      "======================================================================================================================================================\n",
      "Inflammatory arthritis \n",
      "\n",
      "What's the difference between rheumatoid arthritis and inflammatory arthritis?\n",
      "--------------------------------------------------\n",
      "inflammatory arthritis what is the difference between rheumatoid arthritis and inflammatory arthritis\n",
      "======================================================================================================================================================\n",
      "======================================================================================================================================================\n",
      "\"\n",
      "\n",
      " worp worp worp \n",
      "\n",
      "  The WikiProject Doctor Who Award For your fine work by bringing together such Doctor Who articles together via such templates as Template:Faction Paradox and Template:Eighth Doctor Adventures. Great job!  \"\n",
      "--------------------------------------------------\n",
      "worp worp worp the wikiproject doctor who award for your fine work by bringing together such doctor who articles together via such templates as template faction paradox and template eighth doctor adventures great job\n",
      "======================================================================================================================================================\n",
      "======================================================================================================================================================\n",
      ". It could pass as fair use\n",
      "--------------------------------------------------\n",
      "it could pass as fair use\n",
      "======================================================================================================================================================\n",
      "======================================================================================================================================================\n",
      "Never mind - somebody beat you to it, but something to file away for next time.\n",
      "--------------------------------------------------\n",
      "never mind somebody beat you to it but something to file away for next time\n",
      "======================================================================================================================================================\n",
      "======================================================================================================================================================\n",
      "don't worry I'll just keep making accounts and vandalise this site. Thanks for the warning, buddy! I'll be seeing you soon from another account. You can't stop me!\n",
      "--------------------------------------------------\n",
      "do not worry i will just keep making accounts and vandalise this site thanks for the warning buddy i will be seeing you soon from another account you cannot stop me\n",
      "======================================================================================================================================================\n",
      "======================================================================================================================================================\n",
      "LET US BE CLEAR HERE: USER:SCHLAFLY, on his user page, admits to being Roger Schlafly, the son of Phyllis Schlafly.\n",
      "--------------------------------------------------\n",
      "let us be clear here user schlafly on his user page admits to being roger schlafly the son of phyllis schlafly\n",
      "======================================================================================================================================================\n"
     ]
    }
   ],
   "source": [
    "for _, row in data.sample(10).iterrows():\n",
    "  print(\"=\"*150)\n",
    "  print(row[\"comment_text\"])\n",
    "  print(\"-\"*50)\n",
    "  print(text_preprocessing(row[\"comment_text\"]))\n",
    "  print(\"=\"*150)"
   ]
  },
  {
   "cell_type": "code",
   "execution_count": 6,
   "metadata": {},
   "outputs": [
    {
     "name": "stderr",
     "output_type": "stream",
     "text": [
      "  0%|          | 0/159571 [00:00<?, ?it/s]"
     ]
    },
    {
     "name": "stderr",
     "output_type": "stream",
     "text": [
      "100%|██████████| 159571/159571 [00:13<00:00, 11901.48it/s]\n",
      "100%|██████████| 159571/159571 [00:00<00:00, 451460.80it/s]\n",
      "2023-09-30 19:49:28,809 - INFO - min text len: 1, max: 1403\n"
     ]
    }
   ],
   "source": [
    "data[\"text_processed\"] = data[\"comment_text\"].progress_apply(text_preprocessing)\n",
    "data[\"text_length\"] = data[\"text_processed\"].progress_apply(lambda x: len(x.split(\" \")))\n",
    "\n",
    "logging.info(f'min text len: {min(data[\"text_length\"])}, max: {max(data[\"text_length\"])}')"
   ]
  },
  {
   "cell_type": "code",
   "execution_count": 7,
   "metadata": {},
   "outputs": [
    {
     "data": {
      "text/plain": [
       "count    159571.000000\n",
       "mean         67.950279\n",
       "std         100.623431\n",
       "min           1.000000\n",
       "25%          17.000000\n",
       "50%          36.000000\n",
       "75%          76.000000\n",
       "max        1403.000000\n",
       "Name: text_length, dtype: float64"
      ]
     },
     "execution_count": 7,
     "metadata": {},
     "output_type": "execute_result"
    }
   ],
   "source": [
    "data[\"text_length\"].describe()"
   ]
  },
  {
   "cell_type": "code",
   "execution_count": 8,
   "metadata": {},
   "outputs": [
    {
     "name": "stderr",
     "output_type": "stream",
     "text": [
      "2023-09-30 19:49:31,212 - INFO - data distribution (quantile, text_length) is: \n",
      "[(0.75, 76.0), (0.8, 92.0), (0.85, 115.0), (0.9, 154.0), (0.95, 232.0)]\n"
     ]
    }
   ],
   "source": [
    "q_tiles = np.array(range(75, 100, 5))/100\n",
    "q_numbers = np.quantile(data[\"text_length\"].values, q_tiles)\n",
    "\n",
    "logging.info(f\"data distribution (quantile, text_length) is: \\n{[(t,  n) for n, t in zip(q_numbers, q_tiles)]}\")"
   ]
  },
  {
   "cell_type": "code",
   "execution_count": 9,
   "metadata": {},
   "outputs": [
    {
     "data": {
      "text/plain": [
       "<Axes: >"
      ]
     },
     "execution_count": 9,
     "metadata": {},
     "output_type": "execute_result"
    },
    {
     "data": {
      "image/png": "[encoded data removed]",
      "text/plain": [
       "<Figure size 640x480 with 1 Axes>"
      ]
     },
     "metadata": {},
     "output_type": "display_data"
    }
   ],
   "source": [
    "data[\"text_length\"].hist(bins=100)"
   ]
  },
  {
   "cell_type": "code",
   "execution_count": 10,
   "metadata": {},
   "outputs": [
    {
     "data": {
      "text/plain": [
       "'do go fuck off bastard do yyou have a life go fuck off bastard and yank your cock through your ass i hate you and hope you go away forever lame is you fuck your mom die die die and all that crap this is for mahy mahonerz ass i ass i ass i ass i ass i ass i ass i ass i ass i ass i ass i ass i ass i ass i ass i ass i ass i ass i ass i ass i ass i ass i ass i ass i ass i ass i ass i ass i ass i ass i ass i ass i ass i ass i ass i ass i ass i ass i ass i ass i ass i ass i ass i ass i ass i ass i ass i ass i ass i ass i ass i ass i ass i ass i ass i ass i ass i ass i ass i ass i ass i ass i ass i ass i ass i ass i ass i ass i ass i ass i ass i ass i ass i ass i ass i ass i ass i ass i ass i ass i ass i ass i ass i ass i ass i ass i ass i ass i ass i ass i ass i ass i ass i ass i ass i ass i ass i ass i ass i ass i ass i ass i ass i ass i ass i ass i ass i ass i ass i ass i ass i ass i ass i ass i ass i ass i ass i ass i ass i ass i ass i ass i ass i ass i ass i ass i ass i ass i ass i ass i ass i ass i ass i ass i ass i ass i ass i ass i ass i ass i ass i ass i ass i ass i ass i ass i ass i ass i ass i ass i ass i ass i ass i ass i ass i ass i ass i ass i ass i ass i ass i ass i ass i ass i ass i ass i ass i ass i ass i ass i ass i ass i ass i ass i ass i ass i ass i ass i ass i ass i ass i ass i ass i ass i ass i ass i ass i ass i ass i ass i ass i ass i ass i ass i ass i ass i ass i ass i ass i ass i ass i ass i ass i ass i ass i ass i ass i ass i ass i ass i ass i ass i ass i ass i ass i ass i ass i ass i ass i ass i ass i ass i ass i ass i ass i ass i ass i ass i ass i ass i ass i ass i ass i ass i ass i ass i ass i ass i ass i ass i ass i ass i ass i ass i ass i ass i ass i ass i ass i ass i ass i ass i ass i ass i ass i ass i ass i ass i ass i ass i ass i ass i ass i ass i ass i ass i ass i ass i ass i ass i ass i ass i ass i ass i ass i ass i ass i ass i ass i ass i ass i ass i ass i ass i ass i ass i ass i ass i ass i ass i ass i ass i ass i ass i ass i ass i ass i ass i ass i ass i ass i ass i ass i ass i ass i ass i ass i ass i ass i ass i ass i ass i ass i ass i ass i ass i ass i ass i ass i ass i ass i ass i ass i ass i ass i ass i ass i ass i ass i ass i ass i ass i ass i ass i ass i ass i ass i ass i ass i ass i ass i ass i ass i ass i ass i ass i ass i ass i ass i ass i ass i ass i ass i ass i ass i ass i ass i ass i ass i ass i ass i ass i ass i ass i ass i ass i ass i ass i ass i ass i ass i ass i ass i ass i ass i ass i ass i ass i ass i ass i ass i ass i ass i ass i ass i ass i ass i ass i ass i ass i ass i ass i ass i ass i ass i ass i ass i ass i ass i ass i ass i ass i ass i ass i ass i ass i ass i ass i ass i ass i ass i ass i ass i ass i ass i ass i ass i ass i ass i ass i ass i ass i ass i ass i ass i ass i ass i ass i ass i ass i ass i ass i ass i ass i ass i ass i ass i ass i ass i ass i ass i ass i ass i ass i ass i ass i ass i ass i ass i ass i ass i ass i ass i ass i ass i ass i ass i ass i ass i ass i ass i ass i ass i ass i ass i ass i ass i ass i ass i ass i ass i ass i ass i ass i ass i ass i ass i ass i ass i ass i ass i ass i ass i ass i ass i ass i ass i ass i ass i ass i ass i ass i ass i ass i ass i ass i ass i ass i ass i ass i ass i ass i ass i ass i ass i ass i ass i ass i ass i ass i ass i ass i ass i ass i ass i ass i ass i ass i ass i ass i ass i ass i ass i ass i ass i ass i ass i ass i ass i ass i ass i ass i ass i ass i ass i ass i ass i ass i ass i ass i ass i ass i ass i ass i ass i ass i ass i ass i ass i ass i ass i ass i ass i ass i ass i ass i ass i ass i ass i ass i ass i ass i ass i ass i ass i ass i ass i ass i ass i ass i ass i ass i ass i ass i ass i ass i ass i ass i ass i ass i ass i ass i ass i ass i ass i ass i ass i ass i ass i ass i ass i ass i ass i ass i ass i ass i ass i ass i ass i ass i ass i ass i ass i ass i ass i ass i ass i ass i ass i ass i ass i ass i ass i ass i ass i ass i ass i ass i ass i ass i ass i ass i ass i ass i ass i ass i ass i ass i ass i ass i ass i ass i ass i ass i ass i ass i ass i ass i ass i ass i ass i ass i ass i ass i ass i ass i ass i ass i ass i ass i ass i ass i ass i ass i ass i ass i ass i ass i ass i ass i ass i ass i ass i ass i ass i ass i ass i ass i ass i ass i ass i ass i ass i ass i ass i ass i ass i ass'"
      ]
     },
     "execution_count": 10,
     "metadata": {},
     "output_type": "execute_result"
    }
   ],
   "source": [
    "data.loc[np.argmax(data[\"text_length\"].values), \"text_processed\"]"
   ]
  },
  {
   "cell_type": "code",
   "execution_count": 33,
   "metadata": {},
   "outputs": [],
   "source": [
    "labels = [label for label in data.columns if label not in [\"id\", \"comment_text\", \"text_processed\", \"text_length\"]]\n",
    "num_labels = len(labels)"
   ]
  },
  {
   "cell_type": "code",
   "execution_count": 44,
   "metadata": {},
   "outputs": [
    {
     "data": {
      "text/plain": [
       "<Axes: >"
      ]
     },
     "execution_count": 44,
     "metadata": {},
     "output_type": "execute_result"
    },
    {
     "data": {
      "image/png": "[encoded data removed]",
      "text/plain": [
       "<Figure size 640x480 with 1 Axes>"
      ]
     },
     "metadata": {},
     "output_type": "display_data"
    }
   ],
   "source": [
    "data[labels].sum().sort_values().plot.barh()"
   ]
  },
  {
   "cell_type": "code",
   "execution_count": 47,
   "metadata": {},
   "outputs": [],
   "source": [
    "X_train, X_val, y_train, y_val = train_test_split(data[\"text_processed\"], data[labels], test_size=0.2)"
   ]
  },
  {
   "cell_type": "code",
   "execution_count": 28,
   "metadata": {},
   "outputs": [
    {
     "name": "stderr",
     "output_type": "stream",
     "text": [
      "Some weights of the PyTorch model were not used when initializing the TF 2.0 model TFBertModel: ['cls.predictions.transform.dense.weight', 'cls.predictions.transform.LayerNorm.bias', 'cls.seq_relationship.bias', 'cls.predictions.bias', 'cls.predictions.transform.LayerNorm.weight', 'cls.seq_relationship.weight', 'cls.predictions.transform.dense.bias']\n",
      "- This IS expected if you are initializing TFBertModel from a PyTorch model trained on another task or with another architecture (e.g. initializing a TFBertForSequenceClassification model from a BertForPreTraining model).\n",
      "- This IS NOT expected if you are initializing TFBertModel from a PyTorch model that you expect to be exactly identical (e.g. initializing a TFBertForSequenceClassification model from a BertForSequenceClassification model).\n",
      "All the weights of TFBertModel were initialized from the PyTorch model.\n",
      "If your task is similar to the task the model of the checkpoint was trained on, you can already use TFBertModel for predictions without further training.\n"
     ]
    }
   ],
   "source": [
    "model_id = \"bert-base-uncased\"\n",
    "max_length = 256\n",
    "batch_size = 32\n",
    "learning_rate = 3e-5\n",
    "\n",
    "tokenizer = AutoTokenizer.from_pretrained(model_id)\n",
    "bert_model = TFAutoModel.from_pretrained(model_id)"
   ]
  },
  {
   "cell_type": "code",
   "execution_count": 49,
   "metadata": {},
   "outputs": [
    {
     "data": {
      "text/plain": [
       "array(['by the way i direct all interested editors to the first section on this page which satyrtn has tried unsuccessfully to archive before consensus there you will see many other editors responses to these same arguments which satyrtn was also making three months ago',\n",
       "       'that is sooooo wrong',\n",
       "       'the question of censorship is a legitimate issue on this page though it looks like one huge list of wikilinks at this time it appears there were three separate incidents of cutting which occured on the american broadcast but did not occur on the canadian broadcast the sally field acceptance speech the katherine heigl expletive of surprise an off color joke made by ray romano while wikipedia is not a newsroom and perhaps the information would best be gathered at wikinews this issue deserves some treatment and this page space is exactly where that treatment belongs it is not a partisan issue because imho the broadcaster in each case can be said to have acted in the interest of preventing certain words from live broadcast partisans might argue the broadcaster was trying to justifiably or not stifle a certain idea the mothers antiwar link perhaps with some merit',\n",
       "       ...,\n",
       "       'that is a mistake all right http whc unesco org en list criteria i vi are both cultural not natural i guess i am clear to edit the page',\n",
       "       'your warning your warning is invalid this is part of a valid debate going on therefore i am disregarding it',\n",
       "       'agreed after merging gear hob into this article i found most of it was redundant which is pretty obvious now because the article is not that much longer i suspect there is more redundancy between hobbing machine and this article seems pretty straightforward to me'],\n",
       "      dtype=object)"
      ]
     },
     "execution_count": 49,
     "metadata": {},
     "output_type": "execute_result"
    }
   ],
   "source": []
  },
  {
   "cell_type": "code",
   "execution_count": 53,
   "metadata": {},
   "outputs": [
    {
     "data": {
      "text/plain": [
       "list"
      ]
     },
     "execution_count": 53,
     "metadata": {},
     "output_type": "execute_result"
    }
   ],
   "source": [
    "type(X_train.to_list())"
   ]
  },
  {
   "cell_type": "code",
   "execution_count": 54,
   "metadata": {},
   "outputs": [],
   "source": [
    "# tokenization\n",
    "train_tokens = tokenizer.batch_encode_plus(X_train.to_list(),\n",
    "                                      max_length=max_length,\n",
    "                                      padding=\"max_length\",\n",
    "                                      truncation=True,\n",
    "                                      add_special_tokens=True,\n",
    "                                      return_tensors=\"tf\"\n",
    "                                      )\n",
    "\n",
    "val_tokens = tokenizer.batch_encode_plus(X_val.to_list(),\n",
    "                                      max_length=max_length,\n",
    "                                      padding=\"max_length\",\n",
    "                                      truncation=True,\n",
    "                                      add_special_tokens=True,\n",
    "                                      return_tensors=\"tf\"\n",
    "                                      )\n"
   ]
  },
  {
   "cell_type": "code",
   "execution_count": 55,
   "metadata": {},
   "outputs": [],
   "source": [
    "train_dataset = tf.data.Dataset.from_tensor_slices((train_tokens, y_train)).shuffle(1000).batch(batch_size, drop_remainder=False)\n",
    "val_dataset = tf.data.Dataset.from_tensor_slices((val_tokens, y_val)).shuffle(1000).batch(batch_size, drop_remainder=False)"
   ]
  },
  {
   "cell_type": "code",
   "execution_count": 32,
   "metadata": {},
   "outputs": [
    {
     "name": "stdout",
     "output_type": "stream",
     "text": [
      "Model: \"model_3\"\n",
      "__________________________________________________________________________________________________\n",
      " Layer (type)                Output Shape                 Param #   Connected to                  \n",
      "==================================================================================================\n",
      " input_ids (InputLayer)      [(None, 256)]                0         []                            \n",
      "                                                                                                  \n",
      " attention_mask (InputLayer  [(None, 256)]                0         []                            \n",
      " )                                                                                                \n",
      "                                                                                                  \n",
      " token_type_ids (InputLayer  [(None, 256)]                0         []                            \n",
      " )                                                                                                \n",
      "                                                                                                  \n",
      " tf_bert_model_2 (TFBertMod  TFBaseModelOutputWithPooli   1094822   ['input_ids[0][0]',           \n",
      " el)                         ngAndCrossAttentions(last_   40         'attention_mask[0][0]',      \n",
      "                             hidden_state=(None, 256, 7              'token_type_ids[0][0]']      \n",
      "                             68),                                                                 \n",
      "                              pooler_output=(None, 768)                                           \n",
      "                             , past_key_values=None, hi                                           \n",
      "                             dden_states=None, attentio                                           \n",
      "                             ns=None, cross_attentions=                                           \n",
      "                             None)                                                                \n",
      "                                                                                                  \n",
      " dense_6 (Dense)             (None, 1024)                 787456    ['tf_bert_model_2[3][1]']     \n",
      "                                                                                                  \n",
      " dropout_114 (Dropout)       (None, 1024)                 0         ['dense_6[0][0]']             \n",
      "                                                                                                  \n",
      " dense_7 (Dense)             (None, 256)                  262400    ['dropout_114[0][0]']         \n",
      "                                                                                                  \n",
      " output (Dense)              (None, 6)                    1542      ['dense_7[0][0]']             \n",
      "                                                                                                  \n",
      "==================================================================================================\n",
      "Total params: 110533638 (421.65 MB)\n",
      "Trainable params: 110533638 (421.65 MB)\n",
      "Non-trainable params: 0 (0.00 Byte)\n",
      "__________________________________________________________________________________________________\n",
      "None\n"
     ]
    }
   ],
   "source": [
    "# build model\n",
    "\n",
    "input_ids = tf.keras.layers.Input(shape=(max_length, ),\n",
    "                                  name=\"input_ids\",\n",
    "                                  dtype=\"int32\"\n",
    "                                  )\n",
    "attention_mask = tf.keras.layers.Input(shape=(max_length, ),\n",
    "                                       name=\"attention_mask\",\n",
    "                                       dtype=\"int32\"\n",
    "                                       )\n",
    "token_type_ids = tf.keras.layers.Input(shape=(max_length, ),\n",
    "                                       name=\"token_type_ids\",\n",
    "                                       dtype=\"int32\"\n",
    "                                       )\n",
    "\n",
    "embedding = bert_model(\n",
    "  input_ids = input_ids,\n",
    "  attention_mask = attention_mask,\n",
    "  token_type_ids = token_type_ids,\n",
    ")[\"pooler_output\"]\n",
    "\n",
    "embedding.trainable = True\n",
    "output1 = tf.keras.layers.Dense(1024, activation=\"relu\")(embedding)\n",
    "output2 = tf.keras.layers.Dropout(0.3)(output1)\n",
    "output3 = tf.keras.layers.Dense(256)(output2)\n",
    "output4 = tf.keras.layers.Dense(len(labels), activation=\"sigmoid\", name=\"output\")(output3)\n",
    "model = tf.keras.Model(inputs=[input_ids, attention_mask, token_type_ids], outputs=output4)\n",
    "\n",
    "optimizer = tf.keras.optimizers.legacy.Adam(learning_rate=learning_rate)\n",
    "loss = tf.keras.losses.BinaryCrossentropy()\n",
    "metric = tf.keras.metrics.CategoricalAccuracy()\n",
    "\n",
    "model.compile(optimizer=optimizer,\n",
    "              loss=loss,\n",
    "              metrics=[metric]\n",
    "              )\n",
    "\n",
    "print(model.summary())\n",
    "\n"
   ]
  },
  {
   "cell_type": "code",
   "execution_count": null,
   "metadata": {},
   "outputs": [],
   "source": []
  }
 ],
 "metadata": {
  "kernelspec": {
   "display_name": "tf-gpu",
   "language": "python",
   "name": "python3"
  },
  "language_info": {
   "codemirror_mode": {
    "name": "ipython",
    "version": 3
   },
   "file_extension": ".py",
   "mimetype": "text/x-python",
   "name": "python",
   "nbconvert_exporter": "python",
   "pygments_lexer": "ipython3",
   "version": "3.11.4"
  },
  "orig_nbformat": 4
 },
 "nbformat": 4,
 "nbformat_minor": 2
}
